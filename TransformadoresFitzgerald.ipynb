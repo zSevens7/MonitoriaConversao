{
  "nbformat": 4,
  "nbformat_minor": 0,
  "metadata": {
    "colab": {
      "provenance": []
    },
    "kernelspec": {
      "name": "python3",
      "display_name": "Python 3"
    },
    "language_info": {
      "name": "python"
    }
  },
  "cells": [
    {
      "cell_type": "code",
      "execution_count": null,
      "metadata": {
        "id": "r3qHnGjY38GK"
      },
      "outputs": [],
      "source": []
    },
    {
      "cell_type": "markdown",
      "source": [
        "# Exercicio 2.1\n",
        "\n",
        "Um transformador é constituído por uma bobina primária de 1150 espiras e uma\n",
        "bobina secundária em aberto de 80 espiras enroladas em torno de um núcleo fechado de seção reta de 56 cm²\n",
        ". O material do núcleo pode ser considerado saturado quando a densidade de fluxo eficaz atinge 1,45 T. Qual é a tensão máxima\n",
        "eficaz de 60 Hz no primário que é possível sem que esse nível de saturação seja\n",
        "atingido? Qual é a tensão correspondente no secundário? De que forma esses\n",
        "valores serão modificados se a frequência for reduzida para 50 Hz?"
      ],
      "metadata": {
        "id": "yrjl5THg4Eb1"
      }
    },
    {
      "cell_type": "code",
      "source": [
        "\n",
        "import numpy as np\n",
        "\n",
        "# Dados do transformador\n",
        "N1 = 1150  # Número de espiras no primário\n",
        "N2 = 80    # Número de espiras no secundário\n",
        "Area = 56e-4 # Área da seção reta do núcleo em m² (56 cm² = 56 * 10^-4 m²)\n",
        "B_max_rms = 1.45 # Densidade de fluxo eficaz de saturação em T\n",
        "\n",
        "# Frequência original\n",
        "f1 = 60 # Hz\n",
        "\n",
        "# por B_max = sqrt(2) * B_max_rms (para forma de onda senoidal)\n",
        "B_max = np.sqrt(2) * B_max_rms\n",
        "\n",
        "V1_rms = 4.44 * f1 * N1 * B_max * Area\n",
        "print(f\"A tensão máxima eficaz no primário a 60 Hz é: {V1_rms:.0f} V em rms\")\n",
        "\n",
        "# Tensão correspondente no secundário\n",
        "# Usando a relação de transformação: V1/V2 = N1/N2\n",
        "V2_rms = (N2 / N1) * V1_rms\n",
        "print(f\"A tensão correspondente eficaz no secundário a 60 Hz é: {V2_rms:.0f} V em rms\")\n",
        "\n",
        "# Frequência reduzida\n",
        "f2 = 50 # Hz\n",
        "\n",
        "# Tensão máxima eficaz no primário a 50 Hz sem atingir a saturação\n",
        "# A densidade de fluxo máxima que o núcleo suporta sem saturar é a mesma, independente da frequência.\n",
        "# Portanto, usamos o mesmo B_max.\n",
        "V1_rms_50Hz = 4.44 * f2 * N1 * B_max * Area\n",
        "print(f\"\\nSe a frequência for reduzida para 50 Hz:\")\n",
        "print(f\"A nova tensão máxima eficaz no primário a 50 Hz é: {V1_rms_50Hz:.0f} V em rms\")\n",
        "\n",
        "# Tensão correspondente no secundário a 50 Hz\n",
        "V2_rms_50Hz = (N2 / N1) * V1_rms_50Hz\n",
        "print(f\"A nova tensão correspondente eficaz no secundário a 50 Hz é: {V2_rms_50Hz:.0f} V em rms\")\n"
      ],
      "metadata": {
        "id": "UEq1toxk4R7E",
        "colab": {
          "base_uri": "https://localhost:8080/"
        },
        "outputId": "f9961f8e-8f5e-41a4-9965-432148652d4e"
      },
      "execution_count": 2,
      "outputs": [
        {
          "output_type": "stream",
          "name": "stdout",
          "text": [
            "A tensão máxima eficaz no primário a 60 Hz é: 3518 V em rms\n",
            "A tensão correspondente eficaz no secundário a 60 Hz é: 245 V em rms\n",
            "\n",
            "Se a frequência for reduzida para 50 Hz:\n",
            "A nova tensão máxima eficaz no primário a 50 Hz é: 2932 V em rms\n",
            "A nova tensão correspondente eficaz no secundário a 50 Hz é: 204 V em rms\n",
            "\n",
            "A resposta final no primário é 3518 V em rms e no secundário é 245 V em rms.\n"
          ]
        }
      ]
    },
    {
      "cell_type": "markdown",
      "source": [
        "# Exercicio 2.2\n",
        "\n",
        "Um circuito magnético com uma seção reta de 20 cm²\n",
        " deve operar a 60 Hz a\n",
        "partir de uma fonte de 115 V eficazes. Calcule o número necessário de espiras\n",
        "para atingir uma densidade de fluxo magnético de pico de 1,6 T no núcleo"
      ],
      "metadata": {
        "id": "r12ohr_J5oqU"
      }
    },
    {
      "cell_type": "code",
      "source": [
        "\n",
        "# Dados do Exercicio 2.2\n",
        "Area_2 = 20e-4 # Área da seção reta do núcleo em m² (20 cm² = 20 * 10^-4 m²)\n",
        "f_2 = 60 # Hz\n",
        "V_rms_2 = 115 # V eficazes\n",
        "B_peak_2 = 1.6 # Densidade de fluxo magnético de pico em T\n",
        "\n",
        "# Usando a fórmula: V_rms = 4.44 * f * N * B_peak * Area\n",
        "# Precisamos encontrar N (número de espiras)\n",
        "# N = V_rms / (4.44 * f * B_peak * Area)\n",
        "\n",
        "N_2 = V_rms_2 / (4.44 * f_2 * B_peak_2 * Area_2)\n",
        "\n",
        "print(f\"\\nExercicio 2.2:\")\n",
        "print(f\"O número necessário de espiras é: {N_2:.0f}\")"
      ],
      "metadata": {
        "id": "_ZGUAvVU5zmo",
        "colab": {
          "base_uri": "https://localhost:8080/"
        },
        "outputId": "d4b80b12-db1a-49d3-e7bf-9f77fd3997be"
      },
      "execution_count": 5,
      "outputs": [
        {
          "output_type": "stream",
          "name": "stdout",
          "text": [
            "\n",
            "Exercicio 2.2:\n",
            "O número necessário de espiras é: 135\n"
          ]
        }
      ]
    },
    {
      "cell_type": "markdown",
      "source": [
        "# Exercicio 2.3\n",
        "\n",
        "Um transformador deve ser usado para transformar a impedância de um resistor de 75 Ω\tem uma impedância de 300 Ω. Calcule a relação de espiras\n",
        "necessária, supondo que o transformador seja ideal."
      ],
      "metadata": {
        "id": "hhqleH9q53rE"
      }
    },
    {
      "cell_type": "code",
      "source": [
        "\n",
        "# Exercicio 2.3\n",
        "\n",
        "# Impedâncias desejadas\n",
        "Z_primaria = 300  # Impedância vista do primário em Ω\n",
        "Z_secundaria = 75   # Impedância conectada ao secundário em Ω\n",
        "\n",
        "# Para um transformador ideal, a relação entre as impedâncias é dada por:\n",
        "# Z_primaria / Z_secundaria = (N1 / N2)^2\n",
        "# Onde N1/N2 é a relação de espiras (a).\n",
        "\n",
        "# Queremos encontrar a relação de espiras a = N1 / N2.\n",
        "# (N1 / N2)^2 = Z_primaria / Z_secundaria\n",
        "# N1 / N2 = sqrt(Z_primaria / Z_secundaria)\n",
        "\n",
        "relacao_espiras = np.sqrt(Z_primaria / Z_secundaria)\n",
        "\n",
        "print(f\"\\nExercicio 2.3:\")\n",
        "print(f\"A relação de espiras (N1/N2) necessária é: {relacao_espiras:.0f}\")\n"
      ],
      "metadata": {
        "id": "iyr-KV_C6FzF",
        "colab": {
          "base_uri": "https://localhost:8080/"
        },
        "outputId": "de991f6a-0a03-42c2-d16c-7bf2834b5d03"
      },
      "execution_count": 6,
      "outputs": [
        {
          "output_type": "stream",
          "name": "stdout",
          "text": [
            "\n",
            "Exercicio 2.3:\n",
            "A relação de espiras (N1/N2) necessária é: 2\n"
          ]
        }
      ]
    },
    {
      "cell_type": "markdown",
      "source": [
        "# Exercicio 2.4\n",
        "\n",
        "Um resistor de 150 Ω é conectado ao secundário de um transformador ideal\n",
        "com uma relação de espiras de 1:4 (primário-secundário). Uma fonte de tensão\n",
        "de 12 V eficazes e 1 kHz é ligada ao primário.\n",
        "\n",
        "(a) Assumindo que o transformador é ideal, calcule a corrente do primário, a tensão no resistor e a potência.\n",
        "\n",
        "(b) Repita esse cálculo assumindo que o transformador tem uma indutância de\n",
        "dispersão de 340 μH, referida ao primário."
      ],
      "metadata": {
        "id": "77_X3r0r6HJo"
      }
    },
    {
      "cell_type": "code",
      "source": [
        "\n",
        "# Exercicio 2.4\n",
        "\n",
        "# Dados do Exercicio 2.4\n",
        "R_carga = 150 # Ω Resistor conectado ao secundário\n",
        "relacao_espiras_2_4 = 1/4 # Relação de espiras N1/N2\n",
        "V1_rms_2_4 = 12 # V eficazes no primário\n",
        "f_2_4 = 1000 # Hz\n",
        "\n",
        "# (a) Assumindo transformador ideal\n",
        "\n",
        "# Impedância vista do primário (impedância refletida)\n",
        "# Z_primaria = (N1/N2)^2 * Z_secundaria\n",
        "# Z_secundaria neste caso é apenas R_carga\n",
        "Z_refletida = (relacao_espiras_2_4)**2 * R_carga\n",
        "\n",
        "print(f\"\\nExercicio 2.4 (a) Transformador ideal:\")\n",
        "print(f\"A impedância refletida no primário é: {Z_refletida:.2f} Ω\")\n",
        "\n",
        "# Corrente do primário\n",
        "# I1_rms = V1_rms / Z_refletida\n",
        "I1_rms_ideal = V1_rms_2_4 / Z_refletida\n",
        "print(f\"A corrente do primário é: {I1_rms_ideal:.4f} A em rms\")\n",
        "\n",
        "# Tensão no resistor (tensão no secundário)\n",
        "# V2_rms = (N2 / N1) * V1_rms\n",
        "# Sabemos que N1/N2 = 1/4, então N2/N1 = 4\n",
        "V2_rms_ideal = (1 / relacao_espiras_2_4) * V1_rms_2_4\n",
        "print(f\"A tensão no resistor (secundário) é: {V2_rms_ideal:.2f} V em rms\")\n",
        "\n",
        "# Potência entregue ao resistor (potência no secundário)\n",
        "# P2 = V2_rms^2 / R_carga ou P2 = I2_rms^2 * R_carga\n",
        "# Primeiro, calcular I2_rms\n",
        "# I2_rms = V2_rms / R_carga\n",
        "I2_rms_ideal = V2_rms_ideal / R_carga\n",
        "Potencia_ideal = I2_rms_ideal**2 * R_carga\n",
        "# Alternativamente, para um transformador ideal, a potência no primário é igual à potência no secundário: P1 = V1_rms * I1_rms * cos(theta)\n",
        "# Como a carga é puramente resistiva, cos(theta) = 1.\n",
        "Potencia_ideal_check = V1_rms_2_4 * I1_rms_ideal\n",
        "print(f\"A potência entregue ao resistor é: {Potencia_ideal:.2f} W\")\n",
        "# print(f\"Potência checada pelo primário: {Potencia_ideal_check:.2f} W\") # Para verificar consistência\n",
        "\n",
        "# (b) Assumindo transformador com indutância de dispersão\n",
        "\n",
        "L_dispersao_primario = 340e-6 # Indutância de dispersão referida ao primário em H (340 μH = 340 * 10^-6 H)\n",
        "\n",
        "# A indutância de dispersão está em série com a impedância refletida no primário.\n",
        "# A impedância total vista pela fonte no primário será a impedância refletida mais a impedância da indutância de dispersão.\n",
        "# Impedância da indutância de dispersão: Z_L = j * omega * L\n",
        "# onde omega = 2 * pi * f\n",
        "omega = 2 * np.pi * f_2_4\n",
        "Z_dispersao = 1j * omega * L_dispersao_primario\n",
        "\n",
        "# Impedância total vista pela fonte no primário\n",
        "Z_total_primario = Z_refletida + Z_dispersao\n",
        "\n",
        "print(f\"\\nExercicio 2.4 (b) Transformador com indutância de dispersão:\")\n",
        "print(f\"A impedância da indutância de dispersão no primário é: {Z_dispersao:.4f}j Ω\")\n",
        "print(f\"A impedância total vista pela fonte é: ({Z_total_primario.real:.4f} + {Z_total_primario.imag:.4f}j) Ω\")\n",
        "\n",
        "# Corrente do primário\n",
        "# I1_rms = V1_rms / |Z_total_primario|\n",
        "# Usamos a magnitude da impedância total para calcular a corrente eficaz.\n",
        "I1_rms_real = V1_rms_2_4 / np.abs(Z_total_primario)\n",
        "print(f\"A corrente do primário é: {I1_rms_real:.4f} A em rms\")\n",
        "\n",
        "# A tensão no resistor (tensão no secundário)\n",
        "# A tensão V1_rms é a tensão total aplicada ao primário.\n",
        "# A tensão na impedância refletida (que corresponde à tensão no secundário transformada de volta para o primário) é calculada usando um divisor de tensão:\n",
        "# V_refletida_rms = V1_rms * (Z_refletida / Z_total_primario)\n",
        "V_refletida_rms_phasor = V1_rms_2_4 * (Z_refletida / Z_total_primario)\n",
        "\n",
        "# A magnitude desta tensão refletida no primário é:\n",
        "V_refletida_rms_mag = np.abs(V_refletida_rms_phasor)\n",
        "\n",
        "# A tensão eficaz no secundário é a tensão refletida no primário dividida pela relação de espiras (N1/N2):\n",
        "# V2_rms = V_refletida_rms_mag / (N1/N2)\n",
        "V2_rms_real = V_refletida_rms_mag / relacao_espiras_2_4\n",
        "print(f\"A tensão no resistor (secundário) é: {V2_rms_real:.2f} V em rms\")\n",
        "\n",
        "# Potência entregue ao resistor\n",
        "# A potência é consumida apenas na parte resistiva do circuito.\n",
        "# Podemos calcular a potência no resistor R_carga no secundário usando a tensão V2_rms_real que calculamos:\n",
        "Potencia_real = V2_rms_real**2 / R_carga\n",
        "print(f\"A potência entregue ao resistor é: {Potencia_real:.2f} W\")\n",
        "\n"
      ],
      "metadata": {
        "id": "EKoGDngu6RtW",
        "colab": {
          "base_uri": "https://localhost:8080/"
        },
        "outputId": "70d26e24-70aa-4931-806e-244818aa42fb"
      },
      "execution_count": 8,
      "outputs": [
        {
          "output_type": "stream",
          "name": "stdout",
          "text": [
            "\n",
            "Exercicio 2.4 (a) Transformador ideal:\n",
            "A impedância refletida no primário é: 9.38 Ω\n",
            "A corrente do primário é: 1.2800 A em rms\n",
            "A tensão no resistor (secundário) é: 48.00 V em rms\n",
            "A potência entregue ao resistor é: 15.36 W\n",
            "\n",
            "Exercicio 2.4 (b) Transformador com indutância de dispersão:\n",
            "A impedância da indutância de dispersão no primário é: 0.0000+2.1363jj Ω\n",
            "A impedância total vista pela fonte é: (9.3750 + 2.1363j) Ω\n",
            "A corrente do primário é: 1.2480 A em rms\n",
            "A tensão no resistor (secundário) é: 46.80 V em rms\n",
            "A potência entregue ao resistor é: 14.60 W\n"
          ]
        }
      ]
    },
    {
      "cell_type": "markdown",
      "source": [
        "# Exercicio 2.5\n",
        "\n",
        "Uma carga consistindo em um resistor de 5 Ω em série com um indutor de 2,5\n",
        "mH é conectada ao enrolamento de baixa tensão de um transformador 20:120\n",
        "V. Uma fonte de 110 V eficazes e 50 Hz é conectada ao enrolamento de alta\n",
        "tensão. Assumindo que o transformador é ideal, calcule a corrente de carga\n",
        "eficaz e a corrente eficaz que será consumida da fonte."
      ],
      "metadata": {
        "id": "qCLVnYcs6TAM"
      }
    },
    {
      "cell_type": "code",
      "source": [
        "\n",
        "# Exercicio 2.5\n",
        "\n",
        "# Dados do Exercicio 2.5\n",
        "R_carga_2_5 = 5  # Ω Resistor na carga\n",
        "L_carga_2_5 = 2.5e-3 # H Indutor na carga (2.5 mH = 2.5 * 10^-3 H)\n",
        "V_transformador_LV = 20 # V baixa tensão do transformador\n",
        "V_transformador_HV = 120 # V alta tensão do transformador\n",
        "V_fonte_rms = 110 # V eficazes da fonte (conectada ao HV)\n",
        "f_2_5 = 50 # Hz\n",
        "\n",
        "# Assumindo transformador ideal\n",
        "\n",
        "# A fonte de 110 V está conectada ao lado de 120 V do transformador.\n",
        "# A carga está conectada ao lado de 20 V do transformador.\n",
        "# A relação de espiras (N1/N2) é baseada nas tensões nominais do transformador.\n",
        "# A fonte está no lado de alta tensão (primário), a carga no lado de baixa tensão (secundário).\n",
        "# N_HV / N_LV = V_transformador_HV / V_transformador_LV\n",
        "relacao_espiras_2_5 = V_transformador_HV / V_transformador_LV\n",
        "print(f\"\\nExercicio 2.5:\")\n",
        "print(f\"A relação de espiras (N_HV/N_LV) é: {relacao_espiras_2_5:.2f}\")\n",
        "\n",
        "# Impedância da carga no lado de baixa tensão\n",
        "# A carga é R + j*X_L\n",
        "# Onde X_L = omega * L\n",
        "omega_2_5 = 2 * np.pi * f_2_5\n",
        "X_L_carga_2_5 = omega_2_5 * L_carga_2_5\n",
        "Z_carga_2_5 = R_carga_2_5 + 1j * X_L_carga_2_5\n",
        "print(f\"A impedância da carga no secundário é: ({Z_carga_2_5.real:.2f} + {Z_carga_2_5.imag:.2f}j) Ω\")\n",
        "\n",
        "# Tensão eficaz no lado de alta tensão (primário) é a tensão da fonte.\n",
        "V1_rms_2_5 = V_fonte_rms\n",
        "\n",
        "# Tensão eficaz no lado de baixa tensão (secundário, onde a carga está conectada)\n",
        "# V2_rms = V1_rms / (N_HV / N_LV)\n",
        "V2_rms_2_5 = V1_rms_2_5 / relacao_espiras_2_5\n",
        "print(f\"A tensão eficaz no lado de baixa tensão é: {V2_rms_2_5:.2f} V em rms\")\n",
        "\n",
        "# Corrente de carga eficaz (corrente no secundário)\n",
        "# I2_rms = V2_rms / |Z_carga|\n",
        "I2_rms_2_5 = V2_rms_2_5 / np.abs(Z_carga_2_5)\n",
        "print(f\"A corrente de carga eficaz (corrente no secundário) é: {I2_rms_2_5:.4f} A em rms\")\n",
        "\n",
        "# Corrente eficaz consumida da fonte (corrente no primário)\n",
        "# Para um transformador ideal, a relação entre as correntes é inversa à relação de espiras:\n",
        "# I1_rms / I2_rms = N2 / N1 = 1 / (N1/N2)\n",
        "# I1_rms = I2_rms * (N_LV / N_HV) = I2_rms / (N_HV / N_LV)\n",
        "I1_rms_2_5 = I2_rms_2_5 / relacao_espiras_2_5\n",
        "print(f\"A corrente eficaz consumida da fonte (corrente no primário) é: {I1_rms_2_5:.4f} A em rms\")\n"
      ],
      "metadata": {
        "id": "cnascOhg6dN0",
        "colab": {
          "base_uri": "https://localhost:8080/"
        },
        "outputId": "df996f10-9f16-4150-ecf0-d3a676425b82"
      },
      "execution_count": 11,
      "outputs": [
        {
          "output_type": "stream",
          "name": "stdout",
          "text": [
            "\n",
            "Exercicio 2.5:\n",
            "A relação de espiras (N_HV/N_LV) é: 6.00\n",
            "A impedância da carga no secundário é: (5.00 + 0.79j) Ω\n",
            "A tensão eficaz no lado de baixa tensão é: 18.33 V em rms\n",
            "A corrente de carga eficaz (corrente no secundário) é: 3.6223 A em rms\n",
            "A corrente eficaz consumida da fonte (corrente no primário) é: 0.6037 A em rms\n"
          ]
        }
      ]
    },
    {
      "cell_type": "markdown",
      "source": [
        "# Exercicio 2.6\n",
        "\n",
        "Uma fonte, que pode ser representada por uma fonte de tensão de 12 V eficazes\n",
        "em série com uma resistência interna de 1,5 kΩ, é conectada a um resistor de\n",
        "carga de 75 Ω por meio de um transformador ideal. Calcule o valor da relação\n",
        "de espiras com a qual a máxima potência é fornecida para a carga e a respectiva\n",
        "potência de carga. Usando MATLAB, plote a potência fornecida à carga, em miliwatts, em função da relação de transformação, cobrindo valores de 1,0 a 10,0."
      ],
      "metadata": {
        "id": "7MfOoewy6eXb"
      }
    },
    {
      "cell_type": "code",
      "source": [
        "\n",
        "# Exercicio 2.6\n",
        "\n",
        "# Dados do Exercicio 2.6\n",
        "V_fonte_2_6 = 12  # V eficazes da fonte\n",
        "Rs = 1500   # Ω Resistência interna da fonte (1.5 kΩ = 1500 Ω)\n",
        "Rload = 75    # Ω Resistor de carga\n",
        "\n",
        "# Para máxima transferência de potência, a impedância vista pela fonte deve ser igual à sua impedância interna.\n",
        "# Neste caso, a fonte tem uma resistência interna Rs.\n",
        "# A impedância vista pela fonte é a impedância da carga refletida de volta para o primário.\n",
        "# Para um transformador ideal, Z_primario = (N1/N2)^2 * Z_secundario\n",
        "# Neste caso, Z_secundario é apenas Rload.\n",
        "# Z_primario = (N1/N2)^2 * Rload\n",
        "\n",
        "# Para máxima transferência de potência, Z_primario = Rs\n",
        "# Rs = (N1/N2)^2 * Rload\n",
        "\n",
        "# Queremos encontrar a relação de espiras N = N1 / N2.\n",
        "# N^2 = Rs / Rload\n",
        "# N = sqrt(Rs / Rload)\n",
        "\n",
        "N_otimo = np.sqrt(Rs / Rload)\n",
        "\n",
        "print(f\"\\nExercicio 2.6:\")\n",
        "print(f\"A relação de espiras (N1/N2) para máxima transferência de potência é: {N_otimo:.2f}\")\n",
        "\n",
        "# Agora, calcule a potência de carga para essa relação de espiras ótima.\n",
        "# Primeiro, encontramos a impedância total vista pela fonte no primário.\n",
        "# Para a relação de espiras ótima, a impedância refletida é igual a Rs.\n",
        "Z_total_primario_otimo = Rs + (N_otimo)**2 * Rload # Rs (interna) + Z_refletida\n",
        "\n",
        "# Como (N_otimo)**2 * Rload = Rs, então:\n",
        "Z_total_primario_otimo = Rs + Rs # = 2 * Rs\n",
        "\n",
        "# A corrente no primário (I1) é V_fonte / Z_total_primario_otimo\n",
        "I1_rms_otimo = V_fonte_2_6 / Z_total_primario_otimo\n",
        "print(f\"A corrente do primário para N_otimo é: {I1_rms_otimo:.4f} A em rms\")\n",
        "\n",
        "# A corrente no secundário (I2) é relacionada à corrente no primário pela relação de espiras:\n",
        "# I1 / I2 = N2 / N1 = 1 / N\n",
        "# I2 = I1 * N\n",
        "I2_rms_otimo = I1_rms_otimo * N_otimo\n",
        "print(f\"A corrente no secundário para N_otimo é: {I2_rms_otimo:.4f} A em rms\")\n",
        "\n",
        "\n",
        "# A potência fornecida à carga (Pload) é I2^2 * Rload\n",
        "Pload_otimo = I2_rms_otimo**2 * Rload\n",
        "print(f\"A potência de carga para a relação de espiras ótima é: {Pload_otimo:.4f} W\")\n",
        "print(f\"A potência de carga para a relação de espiras ótima é: {Pload_otimo * 1000:.2f} mW\")\n",
        "\n",
        "\n",
        "# Usando Matplotlib para plotar a potência fornecida à carga em função da relação de transformação\n",
        "import matplotlib.pyplot as plt\n",
        "\n",
        "# Gerar um array de relações de transformação (N) de 1.0 a 10.0\n",
        "N_values = np.linspace(1.0, 10.0, 100) # 100 pontos entre 1.0 e 10.0\n",
        "\n",
        "# Calcular a potência de carga para cada valor de N\n",
        "Pload_values = []\n",
        "for N in N_values:\n",
        "  # Impedância refletida no primário para este N\n",
        "  Z_refletida_N = N**2 * Rload\n",
        "\n",
        "  # Impedância total vista pela fonte (Rs em série com Z_refletida_N)\n",
        "  Z_total_primario_N = Rs + Z_refletida_N\n",
        "\n",
        "  # Corrente no primário\n",
        "  I1_rms_N = V_fonte_2_6 / Z_total_primario_N\n",
        "\n",
        "  # Corrente no secundário\n",
        "  I2_rms_N = I1_rms_N * N\n",
        "\n",
        "  # Potência na carga\n",
        "  Pload_N = I2_rms_N**2 * Rload\n",
        "  Pload_values.append(Pload_N)\n",
        "\n",
        "# Converter a lista de potências para um array numpy e para miliwatts\n",
        "Pload_values_mW = np.array(Pload_values) * 1000\n",
        "\n",
        "# Plotar o gráfico\n",
        "plt.figure(figsize=(10, 6))\n",
        "plt.plot(N_values, Pload_values_mW)\n",
        "plt.xlabel(\"Relação de Espiras (N = N1/N2)\")\n",
        "plt.ylabel(\"Potência na Carga (mW)\")\n",
        "plt.title(\"Potência na Carga vs. Relação de Espiras para Transformador Ideal\")\n",
        "plt.grid(True)\n",
        "plt.show()\n"
      ],
      "metadata": {
        "id": "t1fP7xBg6poa",
        "colab": {
          "base_uri": "https://localhost:8080/",
          "height": 687
        },
        "outputId": "669e4718-4f64-4ca0-eb40-bb8dc833fd66"
      },
      "execution_count": 13,
      "outputs": [
        {
          "output_type": "stream",
          "name": "stdout",
          "text": [
            "\n",
            "Exercicio 2.6:\n",
            "A relação de espiras (N1/N2) para máxima transferência de potência é: 4.47\n",
            "A corrente do primário para N_otimo é: 0.0040 A em rms\n",
            "A corrente no secundário para N_otimo é: 0.0179 A em rms\n",
            "A potência de carga para a relação de espiras ótima é: 0.0240 W\n",
            "A potência de carga para a relação de espiras ótima é: 24.00 mW\n"
          ]
        },
        {
          "output_type": "display_data",
          "data": {
            "text/plain": [
              "<Figure size 1000x600 with 1 Axes>"
            ],
            "image/png": "[encoded data removed]"
          },
          "metadata": {}
        }
      ]
    },
    {
      "cell_type": "markdown",
      "source": [
        "# Exercicio 2.7\n",
        "\n",
        "Repita o Problema 2.6 com a resistência de fonte substituída por uma reatância indutiva de 1,5 kΩ."
      ],
      "metadata": {
        "id": "2NdHcMl_6qvT"
      }
    },
    {
      "cell_type": "code",
      "source": [
        "import numpy as np\n",
        "import matplotlib.pyplot as plt\n",
        "\n",
        "# Dados do Exercício Modificado\n",
        "V_fonte = 12  # Tensão eficaz da fonte (V)\n",
        "Xs = 1500     # Reatância indutiva da fonte (Ω)\n",
        "Rload = 75    # Resistência de carga (Ω)\n",
        "\n",
        "# Cálculo da relação de espiras ótima\n",
        "N_otimo = np.sqrt(Xs / Rload)\n",
        "print(f\"Relação de espiras ótima (N1/N2): {N_otimo:.2f}\")\n",
        "\n",
        "# Cálculo da potência na carga para N ótimo\n",
        "Z_refletida_otimo = N_otimo**2 * Rload\n",
        "Z_total_mag_otimo = np.sqrt(Z_refletida_otimo**2 + Xs**2)\n",
        "I1_otimo = V_fonte / Z_total_mag_otimo\n",
        "I2_otimo = I1_otimo * N_otimo\n",
        "P_otimo = (I2_otimo ** 2) * Rload\n",
        "print(f\"Potência na carga ótima: {P_otimo * 1000:.2f} mW\")\n",
        "\n",
        "# Plotagem da potência em função da relação de espiras\n",
        "N_values = np.linspace(1.0, 10.0, 100)\n",
        "Pload_mW = []\n",
        "\n",
        "for N in N_values:\n",
        "    Z_refletida = (N ** 2) * Rload\n",
        "    Z_total_mag = np.sqrt(Z_refletida**2 + Xs**2)\n",
        "    I1 = V_fonte / Z_total_mag\n",
        "    I2 = I1 * N\n",
        "    P = (I2 ** 2) * Rload\n",
        "    Pload_mW.append(P * 1000)\n",
        "\n",
        "plt.figure(figsize=(10, 6))\n",
        "plt.plot(N_values, Pload_mW, label='Potência na Carga')\n",
        "plt.axvline(N_otimo, color='r', linestyle='--', label=f'N ótimo = {N_otimo:.2f}')\n",
        "plt.xlabel('Relação de Espiras (N1/N2)')\n",
        "plt.ylabel('Potência na Carga (mW)')\n",
        "plt.title('Potência na Carga vs. Relação de Espiras com Fonte Indutiva')\n",
        "plt.legend()\n",
        "plt.grid(True)\n",
        "plt.show()"
      ],
      "metadata": {
        "id": "dSgytNYm7KhB",
        "colab": {
          "base_uri": "https://localhost:8080/",
          "height": 600
        },
        "outputId": "2bc2b22a-d25d-4b39-b5f6-58d756584344"
      },
      "execution_count": 14,
      "outputs": [
        {
          "output_type": "stream",
          "name": "stdout",
          "text": [
            "Relação de espiras ótima (N1/N2): 4.47\n",
            "Potência na carga ótima: 48.00 mW\n"
          ]
        },
        {
          "output_type": "display_data",
          "data": {
            "text/plain": [
              "<Figure size 1000x600 with 1 Axes>"
            ],
            "image/png": "[encoded data removed]"
          },
          "metadata": {}
        }
      ]
    },
    {
      "cell_type": "markdown",
      "source": [
        "# Exercicio 2.8\n",
        "\n",
        "Um transformador monofásico de 60 Hz tem uma tensão nominal de placa\n",
        "de 7,97 kV:120 V a qual se baseia na relação conhecida de espiras de seus\n",
        "enrolamentos. O fabricante calcula que a indutância de dispersão do primário\n",
        "(7,97 kV) seja 193 mH e a indutância de magnetização do primário seja 167\n",
        "H. Para uma tensão primária de 7970 V a 60 Hz, calcule a tensão resultante de\n",
        "secundário a circuito aberto (a vazio)."
      ],
      "metadata": {
        "id": "xD_EzY2tEGeF"
      }
    },
    {
      "cell_type": "code",
      "source": [
        "\n",
        "# Exercicio 2.8\n",
        "\n",
        "# Dados do Exercicio 2.8\n",
        "V_primario_nominal = 7970 # V (lado de alta tensão)\n",
        "V_secundario_nominal = 120 # V (lado de baixa tensão)\n",
        "f_2_8 = 60 # Hz\n",
        "L_dispersao_primario_2_8 = 193e-3 # H (indutância de dispersão do primário)\n",
        "L_magnetizacao_primario_2_8 = 167 # H (indutância de magnetização do primário)\n",
        "V_primario_aplicada = 7970 # V (tensão aplicada no primário)\n",
        "\n",
        "# Assumindo que o transformador é ideal para o circuito equivalente a vazio\n",
        "# A relação de espiras é dada pela relação das tensões nominais\n",
        "# a = N1 / N2 = V1_nominal / V2_nominal\n",
        "a_2_8 = V_primario_nominal / V_secundario_nominal\n",
        "print(f\"\\nExercicio 2.8:\")\n",
        "print(f\"A relação de espiras (a = N1/N2) é: {a_2_8:.4f}\")\n",
        "\n",
        "# Em circuito aberto (a vazio), o circuito equivalente visto do primário consiste\n",
        "# na impedância da indutância de dispersão em série com a impedância de magnetização.\n",
        "# No entanto, para um cálculo a vazio, a indutância de dispersão geralmente é\n",
        "# considerada insignificante em comparação com a indutância de magnetização\n",
        "# e a impedância de carga (que é infinita em circuito aberto).\n",
        "# O circuito equivalente a vazio simplificado consiste na indutância de magnetização\n",
        "# em paralelo com a impedância de perdas no núcleo (que não foi fornecida e\n",
        "# será assumida como negligenciável para este cálculo simples).\n",
        "# Portanto, a tensão aplicada no primário aparece quase totalmente através da\n",
        "# indutância de magnetização.\n",
        "\n",
        "# Em circuito aberto, a tensão no secundário é simplesmente a tensão no primário\n",
        "# dividida pela relação de espiras (para um transformador ideal).\n",
        "# Embora tenhamos indutância de magnetização, em vazio (sem carga) e ignorando\n",
        "# perdas no núcleo e queda de tensão na indutância de dispersão, a tensão\n",
        "# na reatância de magnetização é praticamente igual à tensão da fonte.\n",
        "# A tensão no secundário a vazio (E2) é relacionada à tensão no primário (E1) pela relação de espiras:\n",
        "# E2 = E1 / a\n",
        "# Neste caso, E1 é a tensão aplicada no primário V_primario_aplicada.\n",
        "V_secundario_vazio = V_primario_aplicada / a_2_8\n",
        "\n",
        "print(f\"A tensão resultante de secundário a circuito aberto (a vazio) é: {V_secundario_vazio:.2f} V em rms\")\n",
        "\n"
      ],
      "metadata": {
        "id": "9XvZTQQTENlg",
        "colab": {
          "base_uri": "https://localhost:8080/"
        },
        "outputId": "6fc6d43e-746e-47b6-8d47-4bf0d630b34b"
      },
      "execution_count": 17,
      "outputs": [
        {
          "output_type": "stream",
          "name": "stdout",
          "text": [
            "\n",
            "Exercicio 2.8:\n",
            "A relação de espiras (a = N1/N2) é: 66.4167\n",
            "A tensão resultante de secundário a circuito aberto (a vazio) é: 120.00 V em rms\n"
          ]
        }
      ]
    },
    {
      "cell_type": "markdown",
      "source": [
        "# Exercicio 2.9\n",
        "\n",
        "O fabricante calcula que o transformador do Problema 2.8 tenha uma indutância de dispersão de secundário igual a 44 μH.\n",
        "\n",
        "a. Calcule a indutância de magnetização quando referida ao lado do secundário.\n",
        "\n",
        "\n",
        "b. Uma tensão de 120 V e 60 Hz é aplicada ao secundário. Calcule (i) a tensão resultante de circuito aberto do primário e (ii) a corrente de secundário\n",
        "que resultaria se o primário fosse curto-circuitado."
      ],
      "metadata": {
        "id": "X_4TCI2TEO_F"
      }
    },
    {
      "cell_type": "code",
      "source": [
        "\n",
        "# Exercicio 2.9\n",
        "\n",
        "# Dados do Exercicio 2.9 (continuando do 2.8)\n",
        "V_primario_nominal = 7970 # V (lado de alta tensão)\n",
        "V_secundario_nominal = 120 # V (lado de baixa tensão)\n",
        "f_2_9 = 60 # Hz\n",
        "L_dispersao_primario_2_8 = 193e-3 # H (indutância de dispersão do primário, do Ex 2.8)\n",
        "L_magnetizacao_primario_2_8 = 167 # H (indutância de magnetização do primário, do Ex 2.8)\n",
        "L_dispersao_secundario_2_9 = 44e-6 # H (indutância de dispersão do secundário, 44 μH)\n",
        "\n",
        "# Relação de espiras do Exercicio 2.8\n",
        "a_2_9 = V_primario_nominal / V_secundario_nominal\n",
        "print(f\"\\nExercicio 2.9:\")\n",
        "print(f\"A relação de espiras (a = N1/N2) é: {a_2_9:.4f}\")\n",
        "\n",
        "# a. Calcule a indutância de magnetização quando referida ao lado do secundário.\n",
        "\n",
        "# A indutância de magnetização quando referida ao secundário (Lm2) é relacionada\n",
        "# à indutância de magnetização referida ao primário (Lm1) pela relação de espiras ao quadrado:\n",
        "# Lm1 / Lm2 = a^2\n",
        "# Lm2 = Lm1 / a^2\n",
        "\n",
        "Lm_secundario = L_magnetizacao_primario_2_8 / (a_2_9**2)\n",
        "print(f\"\\nExercicio 2.9 (a):\")\n",
        "print(f\"A indutância de magnetização referida ao lado do secundário é: {Lm_secundario:.4f} H\")\n",
        "\n",
        "# b. Uma tensão de 120 V e 60 Hz é aplicada ao secundário. Calcule:\n",
        "\n",
        "# (i) a tensão resultante de circuito aberto do primário\n",
        "\n",
        "# Se a tensão for aplicada ao secundário (lado 2, de baixa tensão) e o primário\n",
        "# (lado 1, de alta tensão) estiver em circuito aberto (a vazio), o transformador\n",
        "# opera \"ao contrário\". A relação de tensões continua sendo V1/V2 = N1/N2 = a.\n",
        "# A tensão aplicada é V2 = 120 V. O primário está em circuito aberto (sem carga).\n",
        "# A tensão resultante no primário a circuito aberto (V1_vazio) é:\n",
        "# V1_vazio = a * V2_aplicada\n",
        "\n",
        "V_aplicada_secundario = 120 # V\n",
        "V_primario_vazio = a_2_9 * V_aplicada_secundario\n",
        "\n",
        "print(f\"\\nExercicio 2.9 (b)(i):\")\n",
        "print(f\"A tensão resultante de circuito aberto do primário é: {V_primario_vazio:.2f} V em rms\")\n",
        "\n",
        "# (ii) a corrente de secundário que resultaria se o primário fosse curto-circuitado.\n",
        "\n",
        "# Se o primário for curto-circuitado e uma tensão for aplicada ao secundário,\n",
        "# o circuito equivalente simplificado visto do secundário consiste na impedância\n",
        "# da indutância de dispersão do secundário (Ld2) em série com a impedância\n",
        "# da indutância de dispersão do primário referida ao secundário (Ld1').\n",
        "# A indutância de magnetização (Lm2) é muito grande em comparação e\n",
        "# fica em paralelo, sendo praticamente um circuito aberto para fins de curto-circuito.\n",
        "# Perdas resistivas (resistências dos enrolamentos e perdas no núcleo) também\n",
        "# são geralmente consideradas pequenas para este cálculo e são ignoradas.\n",
        "\n",
        "# A impedância total vista do secundário no caso de curto-circuito no primário é\n",
        "# a impedância da indutância de dispersão total referida ao secundário.\n",
        "# A indutância de dispersão do primário referida ao secundário (Ld1') é:\n",
        "# Ld1 / Ld1' = a^2\n",
        "# Ld1' = Ld1 / a^2\n",
        "L_dispersao_primario_ref_sec = L_dispersao_primario_2_8 / (a_2_9**2)\n",
        "\n",
        "# A indutância de dispersão total referida ao secundário é a soma das indutâncias\n",
        "# de dispersão do secundário e a do primário referida ao secundário:\n",
        "L_dispersao_total_sec = L_dispersao_secundario_2_9 + L_dispersao_primario_ref_sec\n",
        "print(f\"A indutância de dispersão total referida ao secundário é: {L_dispersao_total_sec * 1e6:.2f} μH\")\n",
        "\n",
        "\n",
        "# A reatância da indutância de dispersão total referida ao secundário é:\n",
        "# X_dispersao_total_sec = omega * L_dispersao_total_sec\n",
        "omega_2_9 = 2 * np.pi * f_2_9\n",
        "X_dispersao_total_sec = omega_2_9 * L_dispersao_total_sec\n",
        "print(f\"A reatância de dispersão total referida ao secundário é: {X_dispersao_total_sec:.4f} Ω\")\n",
        "\n",
        "\n",
        "# A corrente de secundário resultante quando o primário está curto-circuitado\n",
        "# e a tensão V_aplicada_secundario é aplicada ao secundário é:\n",
        "# I2_cc = V_aplicada_secundario / X_dispersao_total_sec\n",
        "# (Ignorando a resistência total equivalente referida ao secundário)\n",
        "I2_cc = V_aplicada_secundario / X_dispersao_total_sec\n",
        "\n",
        "print(f\"\\nExercicio 2.9 (b)(ii):\")\n",
        "print(f\"A corrente de secundário que resultaria se o primário fosse curto-circuitado é: {I2_cc:.2f} A em rms\")"
      ],
      "metadata": {
        "colab": {
          "base_uri": "https://localhost:8080/"
        },
        "id": "o6a7UDGbnfsX",
        "outputId": "6e1943c0-f6e1-4d51-f006-30a4529cdf7e"
      },
      "execution_count": 19,
      "outputs": [
        {
          "output_type": "stream",
          "name": "stdout",
          "text": [
            "\n",
            "Exercicio 2.9:\n",
            "A relação de espiras (a = N1/N2) é: 66.4167\n",
            "\n",
            "Exercicio 2.9 (a):\n",
            "A indutância de magnetização referida ao lado do secundário é: 0.0379 H\n",
            "\n",
            "Exercicio 2.9 (b)(i):\n",
            "A tensão resultante de circuito aberto do primário é: 7970.00 V em rms\n",
            "A indutância de dispersão total referida ao secundário é: 87.75 μH\n",
            "A reatância de dispersão total referida ao secundário é: 0.0331 Ω\n",
            "\n",
            "Exercicio 2.9 (b)(ii):\n",
            "A corrente de secundário que resultaria se o primário fosse curto-circuitado é: 3627.36 A em rms\n"
          ]
        }
      ]
    },
    {
      "cell_type": "markdown",
      "source": [
        "# Exercicio 2.10\n",
        "\n",
        "Um transformador de 230 V:6,6 kV, 50 Hz e 45 kVA tem uma reatância de\n",
        "magnetização (quando medida nos terminais de 230V) de 46,2 Ω. O enrolamento de 230 V tem uma reatância de dispersão de 27,8 mΩ e o enrolamento\n",
        "de 6,6 kV tem uma reatância de dispersão de 25,3 Ω.\n",
        "\n",
        "\n",
        "a. Com o secundário em aberto e 230 V aplicados ao enrolamento do primário (230 V), calcule a corrente de primário e a tensão de secundário.\n",
        "\n",
        "\n",
        "b. Com o secundário curto-circuitado, calcule a tensão de primário da qual\n",
        "resulta a corrente nominal no enrolamento do primário. Calcule a respectiva corrente no enrolamento do primário."
      ],
      "metadata": {
        "id": "dFlJ0nmIEXvN"
      }
    },
    {
      "cell_type": "code",
      "source": [
        "\n",
        "# Exercicio 2.10\n",
        "\n",
        "# Dados do Exercicio 2.10\n",
        "V_primario_nominal_2_10 = 230    # V (lado de baixa tensão, primário neste caso)\n",
        "V_secundario_nominal_2_10 = 6600  # V (lado de alta tensão, secundário neste caso)\n",
        "S_nominal_2_10 = 45e3          # VA (Potência nominal)\n",
        "f_2_10 = 50                   # Hz\n",
        "\n",
        "# Reatâncias fornecidas (referidas aos seus lados)\n",
        "Xm_primario = 46.2  # Ω (Reatância de magnetização referida ao lado de 230V)\n",
        "X_dispersao_primario_2_10 = 27.8e-3 # Ω (Reatância de dispersão do enrolamento de 230V)\n",
        "X_dispersao_secundario_2_10 = 25.3  # Ω (Reatância de dispersão do enrolamento de 6.6 kV)\n",
        "\n",
        "# Frequência angular\n",
        "omega_2_10 = 2 * np.pi * f_2_10\n",
        "\n",
        "# Relação de espiras (a = N1/N2) - N1 é o primário (230V), N2 é o secundário (6.6kV)\n",
        "a_2_10 = V_primario_nominal_2_10 / V_secundario_nominal_2_10\n",
        "print(f\"\\nExercicio 2.10:\")\n",
        "print(f\"A relação de espiras (a = N1/N2) é: {a_2_10:.4f}\")\n",
        "\n",
        "# a. Com o secundário em aberto e 230 V aplicados ao enrolamento do primário (230 V), calcule a corrente de primário e a tensão de secundário.\n",
        "\n",
        "# Circuito equivalente a vazio (secundário em aberto) visto do primário:\n",
        "# A impedância vista da fonte no primário consiste na impedância da indutância de dispersão do primário em série com a impedância da reatância de magnetização (e perdas no núcleo, que são ignoradas).\n",
        "# Z_primario_vazio = j*X_dispersao_primario_2_10 + j*Xm_primario\n",
        "\n",
        "# A impedância da indutância de dispersão do primário é muito menor que a da reatância de magnetização.\n",
        "# Em vazio, a maior parte da corrente de primário é a corrente de excitação, que flui pela reatância de magnetização e perdas no núcleo.\n",
        "# Para fins de cálculo da corrente de primário a vazio, a reatância de dispersão do primário geralmente é ignorada, e a impedância vista é principalmente a reatância de magnetização.\n",
        "# Z_primario_vazio ≈ j*Xm_primario\n",
        "\n",
        "V_aplicada_primario_vazio = 230 # V\n",
        "\n",
        "# Corrente de primário a vazio\n",
        "# I1_vazio = V_aplicada_primario_vazio / |Z_primario_vazio|\n",
        "# Considerando apenas Xm:\n",
        "I1_vazio = V_aplicada_primario_vazio / Xm_primario\n",
        "\n",
        "print(f\"\\nExercicio 2.10 (a):\")\n",
        "print(f\"A corrente de primário a vazio (ign. X_dispersao) é: {I1_vazio:.4f} A em rms\")\n",
        "\n",
        "# Tensão de secundário a circuito aberto (a vazio)\n",
        "# Assumindo que a queda de tensão na reatância de dispersão do primário é negligenciável a vazio, a tensão interna gerada no primário (E1) é aproximadamente igual à tensão aplicada V_aplicada_primario_vazio.\n",
        "# A tensão no secundário a vazio (E2) é E1 / a\n",
        "# E2_vazio = V_aplicada_primario_vazio / a_2_10\n",
        "\n",
        "V_secundario_vazio_2_10 = V_aplicada_primario_vazio / a_2_10\n",
        "print(f\"A tensão de secundário a circuito aberto é: {V_secundario_vazio_2_10:.2f} V em rms\")\n",
        "\n",
        "# b. Com o secundário curto-circuitado, calcule a tensão de primário da qual resulta a corrente nominal no enrolamento do primário. Calcule a respectiva corrente no enrolamento do primário.\n",
        "\n",
        "# Corrente nominal no enrolamento do primário (lado de 230V)\n",
        "# I1_nominal = S_nominal / V_primario_nominal\n",
        "I1_nominal_2_10 = S_nominal_2_10 / V_primario_nominal_2_10\n",
        "print(f\"\\nExercicio 2.10 (b):\")\n",
        "print(f\"A corrente nominal no enrolamento do primário é: {I1_nominal_2_10:.2f} A em rms\")\n",
        "\n",
        "# Corrente nominal no enrolamento do secundário (lado de 6.6kV)\n",
        "# I2_nominal = S_nominal / V_secundario_nominal\n",
        "I2_nominal_2_10 = S_nominal_2_10 / V_secundario_nominal_2_10\n",
        "print(f\"A corrente nominal no enrolamento do secundário é: {I2_nominal_2_10:.4f} A em rms\")\n",
        "\n",
        "# Circuito equivalente de curto-circuito visto do primário:\n",
        "# O circuito consiste na reatância de dispersão do primário (X_dispersao_primario_2_10) em série com a reatância de dispersão do secundário referida ao primário (X_dispersao_secundario_ref_primario).\n",
        "# A reatância de magnetização (Xm_primario) fica em paralelo, mas como a impedância de curto-circuito é muito baixa, a corrente de excitação que flui por Xm é muito menor do que a corrente de curto-circuito, e Xm é geralmente ignorada neste cálculo.\n",
        "# Perdas resistivas também são ignoradas para simplificar.\n",
        "\n",
        "# Reatância de dispersão do secundário referida ao primário (X_d2')\n",
        "# X_d2' / X_d2 = a^2\n",
        "# X_d2' = a^2 * X_d2\n",
        "X_dispersao_secundario_ref_primario = (a_2_10**2) * X_dispersao_secundario_2_10\n",
        "print(f\"A reatância de dispersão do secundário referida ao primário é: {X_dispersao_secundario_ref_primario:.4f} Ω\")\n",
        "\n",
        "# Reatância de curto-circuito total referida ao primário (Xcc1)\n",
        "# Xcc1 = X_dispersao_primario_2_10 + X_dispersao_secundario_ref_primario\n",
        "Xcc1 = X_dispersao_primario_2_10 + X_dispersao_secundario_ref_primario\n",
        "print(f\"A reatância de curto-circuito total referida ao primário é: {Xcc1:.4f} Ω\")\n",
        "\n",
        "# Queremos encontrar a tensão de primário (V1_cc) que resulta na corrente nominal no primário (I1_nominal_2_10).\n",
        "# Em curto-circuito, a tensão no primário é aproximadamente a queda de tensão na impedância de curto-circuito total referida ao primário, multiplicada pela corrente no primário.\n",
        "# V1_cc = I1_nominal_2_10 * |Zcc1|\n",
        "# Como estamos considerando apenas a reatância de curto-circuito, |Zcc1| = Xcc1\n",
        "V1_cc = I1_nominal_2_10 * Xcc1\n",
        "\n",
        "print(f\"A tensão de primário da qual resulta a corrente nominal no primário (em curto-circuito) é: {V1_cc:.2f} V em rms\")\n",
        "\n",
        "# A respectiva corrente no enrolamento do primário é, por definição da pergunta, a corrente nominal do primário.\n",
        "Corrente_primario_resultante = I1_nominal_2_10\n",
        "print(f\"A respectiva corrente no enrolamento do primário (em curto-circuito) é: {Corrente_primario_resultante:.2f} A em rms (corrente nominal)\")\n"
      ],
      "metadata": {
        "colab": {
          "base_uri": "https://localhost:8080/"
        },
        "id": "uBQ47R7Qn0p0",
        "outputId": "6929d3b0-f60a-418d-f1a1-ccf512b23bba"
      },
      "execution_count": 20,
      "outputs": [
        {
          "output_type": "stream",
          "name": "stdout",
          "text": [
            "\n",
            "Exercicio 2.10:\n",
            "A relação de espiras (a = N1/N2) é: 0.0348\n",
            "\n",
            "Exercicio 2.10 (a):\n",
            "A corrente de primário a vazio (ign. X_dispersao) é: 4.9784 A em rms\n",
            "A tensão de secundário a circuito aberto é: 6600.00 V em rms\n",
            "\n",
            "Exercicio 2.10 (b):\n",
            "A corrente nominal no enrolamento do primário é: 195.65 A em rms\n",
            "A corrente nominal no enrolamento do secundário é: 6.8182 A em rms\n",
            "A reatância de dispersão do secundário referida ao primário é: 0.0307 Ω\n",
            "A reatância de curto-circuito total referida ao primário é: 0.0585 Ω\n",
            "A tensão de primário da qual resulta a corrente nominal no primário (em curto-circuito) é: 11.45 V em rms\n",
            "A respectiva corrente no enrolamento do primário (em curto-circuito) é: 195.65 A em rms (corrente nominal)\n"
          ]
        }
      ]
    },
    {
      "cell_type": "markdown",
      "source": [
        "# Exercicio 2.11\n",
        "\n",
        "O transformador do Problema 2.10 deve ser usado em um sistema de 60 Hz.\n",
        "\n",
        "\n",
        "a. Calcule a reatância de magnetização, referida ao enrolamento de baixa tensão, e a reatância de dispersão de cada enrolamento.\n",
        "\n",
        "\n",
        "b. Com 240 V aplicados ao enrolamento de baixa tensão (primário) e com\n",
        "o enrolamento secundário em aberto, calcule a corrente do enrolamento\n",
        "primário e a tensão do secundário."
      ],
      "metadata": {
        "id": "3p-7REfhEy-a"
      }
    },
    {
      "cell_type": "code",
      "source": [
        "import numpy as np\n",
        "\n",
        "# Exercício 2.10 Modificado (60 Hz)\n",
        "\n",
        "# Dados do Transformador\n",
        "V_primario_nominal = 230  # V (enrolamento de baixa tensão)\n",
        "V_secundario_nominal = 6600  # V (enrolamento de alta tensão)\n",
        "S_nominal = 45e3  # VA (45 kVA)\n",
        "f_original = 50  # Hz\n",
        "f_nova = 60  # Hz\n",
        "\n",
        "# Reatâncias fornecidas a 50 Hz\n",
        "Xm_50 = 46.2  # Ω (reatância de magnetização referida ao primário)\n",
        "X_dispersao_primario_50 = 27.8e-3  # Ω (reatância de dispersão do primário a 50 Hz)\n",
        "X_dispersao_secundario_50 = 25.3  # Ω (reatância de dispersão do secundário a 50 Hz)\n",
        "\n",
        "# a. Cálculo das reatâncias a 60 Hz\n",
        "ratio_freq = f_nova / f_original\n",
        "\n",
        "# Reatância de magnetização referida ao primário (60 Hz)\n",
        "Xm_60 = Xm_50 * ratio_freq\n",
        "\n",
        "# Reatâncias de dispersão a 60 Hz (em seus próprios enrolamentos)\n",
        "X_dispersao_primario_60 = X_dispersao_primario_50 * ratio_freq\n",
        "X_dispersao_secundario_60 = X_dispersao_secundario_50 * ratio_freq\n",
        "\n",
        "# Relação de espiras (a = N1/N2)\n",
        "a = V_primario_nominal / V_secundario_nominal\n",
        "\n",
        "# Reatância de dispersão do secundário referida ao primário (60 Hz)\n",
        "X_dispersao_secundario_ref_primario_60 = (a ** 2) * X_dispersao_secundario_60\n",
        "\n",
        "print(\"Exercício 2.10 Modificado (60 Hz):\\n\")\n",
        "print(\"a. Reatâncias referidas ao enrolamento de baixa tensão:\")\n",
        "print(f\"- Reatância de magnetização: {Xm_60:.2f} Ω\")\n",
        "print(f\"- Reatância de dispersão do primário: {X_dispersao_primario_60:.5f} Ω\")\n",
        "print(f\"- Reatância de dispersão do secundário referida ao primário: {X_dispersao_secundario_ref_primario_60:.5f} Ω\")\n",
        "\n",
        "# b. Cálculo com 240 V no primário e secundário em aberto\n",
        "V1 = 240  # Tensão aplicada ao primário\n",
        "\n",
        "# Impedância total no primário (reatâncias em série)\n",
        "X_total = Xm_60 + X_dispersao_primario_60\n",
        "\n",
        "# Corrente no primário\n",
        "I_primario = V1 / X_total\n",
        "\n",
        "# Tensão induzida no primário (E1 = V1 * Xm_60 / (Xm_60 + X_dispersao_primario_60))\n",
        "E1 = V1 * (Xm_60 / X_total)\n",
        "\n",
        "# Tensão no secundário (V2 = E1 / a)\n",
        "V_secundario = E1 / a\n",
        "\n",
        "print(\"\\nb. Resultados com secundário em aberto:\")\n",
        "print(f\"- Corrente no primário: {I_primario:.3f} A\")\n",
        "print(f\"- Tensão no secundário: {V_secundario:.2f} V\")"
      ],
      "metadata": {
        "id": "LYBGsHjNE46s",
        "colab": {
          "base_uri": "https://localhost:8080/"
        },
        "outputId": "5fa59e82-b2e7-467f-edde-c9781c76fffd"
      },
      "execution_count": 21,
      "outputs": [
        {
          "output_type": "stream",
          "name": "stdout",
          "text": [
            "Exercício 2.10 Modificado (60 Hz):\n",
            "\n",
            "a. Reatâncias referidas ao enrolamento de baixa tensão:\n",
            "- Reatância de magnetização: 55.44 Ω\n",
            "- Reatância de dispersão do primário: 0.03336 Ω\n",
            "- Reatância de dispersão do secundário referida ao primário: 0.03687 Ω\n",
            "\n",
            "b. Resultados com secundário em aberto:\n",
            "- Corrente no primário: 4.326 A\n",
            "- Tensão no secundário: 6882.81 V\n"
          ]
        }
      ]
    },
    {
      "cell_type": "markdown",
      "source": [
        "# Exercicio 2.12\n",
        "\n",
        "Um transformador de 460 V:2400 V tem uma reatância de dispersão em série\n",
        "de 39,3 Ω, referida ao lado de alta tensão. Observa-se que uma carga conectada ao lado de baixa tensão está absorvendo 42 kW com fator de potência\n",
        "unitário e que a tensão mede 447 V. Calcule a tensão e o fator de potência\n",
        "correspondentes, medidos nos terminais de alta tensão."
      ],
      "metadata": {
        "id": "XkoklnY5E6SJ"
      }
    },
    {
      "cell_type": "code",
      "source": [
        "\n",
        "# Exercicio 2.12\n",
        "\n",
        "# Dados do Exercicio 2.12\n",
        "V_primario_nominal_2_12 = 460    # V (lado de baixa tensão)\n",
        "V_secundario_nominal_2_12 = 2400  # V (lado de alta tensão)\n",
        "X_dispersao_serie_HV = 39.3   # Ω (Reatância de dispersão total em série, referida ao lado de alta tensão)\n",
        "\n",
        "# Dados da carga no lado de baixa tensão (LV)\n",
        "P_carga_LV = 42e3       # W (42 kW)\n",
        "fp_carga_LV = 1.0       # Fator de potência unitário\n",
        "V_carga_LV = 447        # V (Tensão medida na carga no lado de baixa tensão)\n",
        "\n",
        "# Assumindo um transformador ideal para a relação de espiras\n",
        "# a = N1 / N2 (Primário LV, Secundário HV)\n",
        "a_2_12 = V_primario_nominal_2_12 / V_secundario_nominal_2_12\n",
        "print(f\"\\nExercicio 2.12:\")\n",
        "print(f\"A relação de espiras (a = N_LV/N_HV) é: {a_2_12:.4f}\")\n",
        "\n",
        "# A reatância de dispersão total em série referida ao lado de alta tensão (HV) é dada.\n",
        "# X_serie_total_HV = 39.3 Ω\n",
        "\n",
        "# A carga está no lado de baixa tensão (LV). Precisamos referir a carga para o lado de alta tensão (HV).\n",
        "# A impedância da carga no lado de baixa tensão é Z_carga_LV.\n",
        "# Como o fator de potência é unitário, a carga é puramente resistiva.\n",
        "R_carga_LV = V_carga_LV**2 / P_carga_LV\n",
        "print(f\"A resistência da carga no lado de baixa tensão é: {R_carga_LV:.2f} Ω\")\n",
        "\n",
        "# Referir a impedância da carga para o lado de alta tensão (HV)\n",
        "# Z_carga_HV = (N_HV / N_LV)^2 * Z_carga_LV\n",
        "# (N_HV / N_LV) = 1 / (N_LV / N_HV) = 1 / a\n",
        "Z_carga_HV = (1 / a_2_12)**2 * R_carga_LV\n",
        "# Como a carga é resistiva no LV, a carga referida ao HV também será resistiva.\n",
        "R_carga_HV = Z_carga_HV\n",
        "print(f\"A resistência da carga referida ao lado de alta tensão é: {R_carga_HV:.2f} Ω\")\n",
        "\n",
        "# Agora, o circuito equivalente visto do lado de alta tensão consiste na resistência da carga referida ao HV em série com a reatância de dispersão total em série referida ao HV.\n",
        "# A impedância total vista nos terminais de alta tensão é:\n",
        "# Z_total_HV = R_carga_HV + j * X_dispersao_serie_HV\n",
        "\n",
        "Z_total_HV = R_carga_HV + 1j * X_dispersao_serie_HV\n",
        "print(f\"A impedância total vista dos terminais de alta tensão é: ({Z_total_HV.real:.2f} + {Z_total_HV.imag:.2f}j) Ω\")\n",
        "\n",
        "# Queremos calcular a tensão e o fator de potência correspondentes, medidos nos terminais de alta tensão (V_terminais_HV).\n",
        "\n",
        "# Primeiro, calculamos a corrente no lado de baixa tensão (corrente de carga).\n",
        "# I_carga_LV = P_carga_LV / V_carga_LV (como fp=1)\n",
        "I_carga_LV = P_carga_LV / V_carga_LV\n",
        "print(f\"A corrente de carga no lado de baixa tensão é: {I_carga_LV:.4f} A em rms\")\n",
        "\n",
        "# A corrente no lado de alta tensão (corrente vista da fonte) é relacionada pela relação de espiras:\n",
        "# I_HV / I_LV = N_LV / N_HV = a\n",
        "# I_HV = a * I_LV\n",
        "I_HV = a_2_12 * I_carga_LV\n",
        "print(f\"A corrente no lado de alta tensão é: {I_HV:.4f} A em rms\")\n",
        "\n",
        "# A tensão nos terminais de alta tensão é a tensão através da impedância total vista do HV, multiplicada pela corrente no HV.\n",
        "# V_terminais_HV = I_HV * |Z_total_HV|\n",
        "V_terminais_HV = I_HV * np.abs(Z_total_HV)\n",
        "\n",
        "print(f\"\\nA tensão correspondente, medida nos terminais de alta tensão é: {V_terminais_HV:.2f} V em rms\")\n",
        "\n",
        "# O fator de potência nos terminais de alta tensão é o cosseno do ângulo da impedância total vista do HV.\n",
        "# Z_total_HV = |Z_total_HV| * exp(j * theta)\n",
        "# theta = arctan(X_dispersao_serie_HV / R_carga_HV)\n",
        "# fp_HV = cos(theta)\n",
        "angulo_impedancia_HV = np.arctan(X_dispersao_serie_HV / R_carga_HV)\n",
        "fp_HV = np.cos(angulo_impedancia_HV)\n",
        "\n",
        "# Determinar se é indutivo ou capacitivo. Como a reatância em série é indutiva (+jX), o fator de potência é atrasado (indutivo).\n",
        "print(f\"O fator de potência correspondente, medido nos terminais de alta tensão é: {fp_HV:.4f} (atrasado)\")"
      ],
      "metadata": {
        "id": "CyZ2xaefFTkE",
        "colab": {
          "base_uri": "https://localhost:8080/"
        },
        "outputId": "8ad62342-c8ae-4fa7-b807-7df2fd5ca070"
      },
      "execution_count": 22,
      "outputs": [
        {
          "output_type": "stream",
          "name": "stdout",
          "text": [
            "\n",
            "Exercicio 2.12:\n",
            "A relação de espiras (a = N_LV/N_HV) é: 0.1917\n",
            "A resistência da carga no lado de baixa tensão é: 4.76 Ω\n",
            "A resistência da carga referida ao lado de alta tensão é: 129.50 Ω\n",
            "A impedância total vista dos terminais de alta tensão é: (129.50 + 39.30j) Ω\n",
            "A corrente de carga no lado de baixa tensão é: 93.9597 A em rms\n",
            "A corrente no lado de alta tensão é: 18.0089 A em rms\n",
            "\n",
            "A tensão correspondente, medida nos terminais de alta tensão é: 2437.20 V em rms\n",
            "O fator de potência correspondente, medido nos terminais de alta tensão é: 0.9569 (atrasado)\n"
          ]
        }
      ]
    },
    {
      "cell_type": "markdown",
      "source": [
        "# Exercicio 2.13\n",
        "\n",
        "O transformador de 460 V:2400 V do Problema 2.12 deve operar com uma\n",
        "fonte de 50 Hz. Observa-se que uma carga de fator de potência unitário conectada ao lado de baixa tensão está absorvendo 34,5 kW, com fator de potência\n",
        "unitário e uma tensão de 362 V. Calcule a tensão aplicada ao enrolamento de\n",
        "alta tensão do transformador"
      ],
      "metadata": {
        "id": "5dJdbP33FUya"
      }
    },
    {
      "cell_type": "code",
      "source": [
        "import numpy as np\n",
        "\n",
        "# Dados do Exercício 2.13\n",
        "V_LV_nominal = 460    # V (lado de baixa tensão)\n",
        "V_HV_nominal = 2400   # V (lado de alta tensão)\n",
        "X_HV = 39.3           # Ω (Reatância de dispersão referida ao lado HV)\n",
        "\n",
        "# Dados da carga no lado LV\n",
        "P_carga = 34.5e3      # W (34.5 kW)\n",
        "V_carga_LV = 362      # V\n",
        "fp = 1.0              # Fator de potência unitário\n",
        "\n",
        "# 1. Cálculo da relação de transformação\n",
        "a = V_LV_nominal / V_HV_nominal\n",
        "print(f\"Relação de transformação (a): {a:.4f}\")\n",
        "\n",
        "# 2. Corrente no lado LV\n",
        "I_LV = P_carga / V_carga_LV\n",
        "print(f\"\\nCorrente no lado LV: {I_LV:.2f} A\")\n",
        "\n",
        "# 3. Resistência da carga no LV\n",
        "R_LV = V_carga_LV**2 / P_carga\n",
        "print(f\"Resistência da carga (LV): {R_LV:.2f} Ω\")\n",
        "\n",
        "# 4. Resistência equivalente no HV\n",
        "R_HV = R_LV * (V_HV_nominal/V_LV_nominal)**2\n",
        "print(f\"\\nResistência equivalente no HV: {R_HV:.2f} Ω\")\n",
        "\n",
        "# 5. Impedância total no lado HV\n",
        "Z_total_HV = R_HV + 1j*X_HV\n",
        "modulo_Z_HV = np.abs(Z_total_HV)\n",
        "print(f\"\\nImpedância total no HV: {modulo_Z_HV:.2f} Ω\")\n",
        "\n",
        "# 6. Corrente equivalente no HV\n",
        "I_HV = I_LV * a\n",
        "print(f\"\\nCorrente equivalente no HV: {I_HV:.2f} A\")\n",
        "\n",
        "# 7. Tensão necessária no HV\n",
        "V_HV = I_HV * modulo_Z_HV\n",
        "print(f\"\\nTensão aplicada no enrolamento HV: {V_HV:.2f} V\")"
      ],
      "metadata": {
        "id": "KXRKJExEFZAP",
        "colab": {
          "base_uri": "https://localhost:8080/"
        },
        "outputId": "c0e1b3c7-fa71-4eb5-c958-1cfe2adc2d05"
      },
      "execution_count": 23,
      "outputs": [
        {
          "output_type": "stream",
          "name": "stdout",
          "text": [
            "Relação de transformação (a): 0.1917\n",
            "\n",
            "Corrente no lado LV: 95.30 A\n",
            "Resistência da carga (LV): 3.80 Ω\n",
            "\n",
            "Resistência equivalente no HV: 103.40 Ω\n",
            "\n",
            "Impedância total no HV: 110.61 Ω\n",
            "\n",
            "Corrente equivalente no HV: 18.27 A\n",
            "\n",
            "Tensão aplicada no enrolamento HV: 2020.52 V\n"
          ]
        }
      ]
    },
    {
      "cell_type": "markdown",
      "source": [
        "# Exercicio 2.14\n",
        "\n",
        "As resistências e reatâncias de dispersão de um transformador de distribuição\n",
        "monofásico com 40 kVA, 60 Hz e 7,97 kV:240 V são\n",
        "\n",
        "\n",
        "\n",
        "*   R1 = 41.6 Ω\n",
        "*   R2 = 37.2 mΩ\n",
        "*   Xl1 = 42.1 Ω\n",
        "*   Xl2 = 39.8 mΩ\n",
        "\n",
        "\n",
        "onde o índice 1 denota o enrolamento de 7,97 kV e o índice 2, o de 240 V.\n",
        "Cada grandeza está referida a seu próprio lado no transformador.\n",
        "\n",
        "\n",
        "a. Desenhe o circuito equivalente referido aos lados de (i) alta e (ii) baixa\n",
        "tensão. Indique numericamente no desenho as impedâncias.\n",
        "\n",
        "\n",
        "b. Considere que o transformador esteja entregando sua potência aparente nominal (kVA) a uma carga no lado de baixa tensão com 240 V sobre a carga.\n",
        "(i) Encontre a tensão nos terminais de alta tensão para uma carga com fator\n",
        "de potência de 0,87 atrasado. (ii) Encontre a tensão nos terminais de alta\n",
        "tensão para uma carga com fator de potência de 0,87 adiantado.\n",
        "\n",
        "\n",
        "c. Considere uma carga, em kVA nominais, conectada aos terminais de baixa\n",
        "tensão. Supondo que a tensão na carga permanece constante com 240 V,\n",
        "use MATLAB para plotar a tensão nos terminais de alta tensão em função\n",
        "do ângulo de fator de potência, quando este varia de 0,6 adiantado, passa\n",
        "pelo valor unitário e atinge 0,6 atrasado.\n"
      ],
      "metadata": {
        "id": "zbFGCbK_FaHL"
      }
    },
    {
      "cell_type": "code",
      "source": [
        "\n",
        "# Exercicio 2.14\n",
        "\n",
        "# Dados do Transformador\n",
        "S_nominal_2_14 = 40e3  # VA\n",
        "f_2_14 = 60  # Hz\n",
        "V1_nominal_2_14 = 7970  # V (lado de alta tensão)\n",
        "V2_nominal_2_14 = 240  # V (lado de baixa tensão)\n",
        "\n",
        "# Resistências e Reatâncias de Dispersão (referidas aos seus lados)\n",
        "R1 = 41.6  # Ω (lado 7.97 kV)\n",
        "R2 = 37.2e-3  # Ω (lado 240 V)\n",
        "Xl1 = 42.1  # Ω (lado 7.97 kV)\n",
        "Xl2 = 39.8e-3  # Ω (lado 240 V)\n",
        "\n",
        "# Relação de espiras (a = N1/N2) - N1 é o lado de alta tensão (7.97kV), N2 é o lado de baixa tensão (240V)\n",
        "a_2_14 = V1_nominal_2_14 / V2_nominal_2_14\n",
        "print(f\"\\nExercicio 2.14:\")\n",
        "print(f\"A relação de espiras (a = N_HV/N_LV) é: {a_2_14:.4f}\")\n",
        "\n",
        "# a. Desenhe o circuito equivalente referido aos lados de (i) alta e (ii) baixa tensão.\n",
        "# (Este é um pedido para um desenho, que não pode ser gerado diretamente em texto ou código.\n",
        "# No entanto, podemos calcular os valores das impedâncias referidas para cada lado.)\n",
        "\n",
        "# (i) Circuito Equivalente Referido ao Lado de Alta Tensão (HV)\n",
        "# Impedância série do primário (HV): Z1 = R1 + jXl1\n",
        "Z1_HV = R1 + 1j * Xl1\n",
        "\n",
        "# Impedância série do secundário (LV) referida ao primário (HV): Z2' = a^2 * (R2 + jXl2)\n",
        "Z2_LV = R2 + 1j * Xl2\n",
        "Z2_ref_HV = (1 / a_2_14)**2 * Z2_LV\n",
        "R2_ref_HV = Z2_ref_HV.real\n",
        "Xl2_ref_HV = Z2_ref_HV.imag\n",
        "\n",
        "# Impedância série total referida ao primário (HV): Zeq1 = Z1 + Z2'\n",
        "R_eq1 = R1 + R2_ref_HV\n",
        "X_eq1 = Xl1 + Xl2_ref_HV\n",
        "Zeq1 = R_eq1 + 1j * X_eq1\n",
        "\n",
        "print(\"\\na. Valores de impedância para o circuito equivalente:\")\n",
        "print(\"(i) Referido ao Lado de Alta Tensão (7.97 kV):\")\n",
        "print(f\"  Resistência série equivalente (Req1): {R_eq1:.4f} Ω\")\n",
        "print(f\"  Reatância série equivalente (Xeq1): {X_eq1:.4f} Ω\")\n",
        "print(f\"  Impedância série equivalente (Zeq1): ({Zeq1.real:.4f} + {Zeq1.imag:.4f}j) Ω\")\n",
        "\n",
        "# (ii) Circuito Equivalente Referido ao Lado de Baixa Tensão (LV)\n",
        "# Impedância série do secundário (LV): Z2 = R2 + jXl2\n",
        "Z2_LV = R2 + 1j * Xl2\n",
        "\n",
        "# Impedância série do primário (HV) referida ao secundário (LV): Z1' = (1/a)^2 * (R1 + jXl1)\n",
        "Z1_HV = R1 + 1j * Xl1\n",
        "Z1_ref_LV = (a_2_14)**2 * Z1_HV\n",
        "R1_ref_LV = Z1_ref_LV.real\n",
        "Xl1_ref_LV = Z1_ref_LV.imag\n",
        "\n",
        "# Impedância série total referida ao secundário (LV): Zeq2 = Z1' + Z2\n",
        "R_eq2 = R1_ref_LV + R2\n",
        "X_eq2 = Xl1_ref_LV + Xl2\n",
        "Zeq2 = R_eq2 + 1j * X_eq2\n",
        "\n",
        "print(\"(ii) Referido ao Lado de Baixa Tensão (240 V):\")\n",
        "print(f\"  Resistência série equivalente (Req2): {R_eq2:.4f} Ω\")\n",
        "print(f\"  Reatância série equivalente (Xeq2): {X_eq2:.4f} Ω\")\n",
        "print(f\"  Impedância série equivalente (Zeq2): ({Zeq2.real:.4f} + {Zeq2.imag:.4f}j) Ω\")\n",
        "\n",
        "# b. Cálculo da tensão nos terminais de alta tensão para carga nominal\n",
        "# A carga está no lado de baixa tensão (LV) com tensão V2 = 240 V.\n",
        "V2 = 240 # V\n",
        "\n",
        "# Corrente nominal na carga no lado de baixa tensão (LV)\n",
        "# I2_nominal = S_nominal / V2_nominal\n",
        "I2_nominal_2_14 = S_nominal_2_14 / V2_nominal_2_14\n",
        "print(f\"\\nb. Corrente nominal no lado de baixa tensão: {I2_nominal_2_14:.2f} A rms\")\n",
        "\n",
        "# Para resolver este problema, é conveniente usar o circuito equivalente referido ao lado de baixa tensão (LV).\n",
        "# A tensão no primário referida ao secundário (V1') é a soma fasorial da tensão na carga (V2) e a queda de tensão na impedância série equivalente referida ao secundário (Zeq2).\n",
        "# V1' = V2 + I2 * Zeq2 (onde I2 é o fasor da corrente de carga)\n",
        "\n",
        "# (i) Carga com fator de potência de 0,87 atrasado\n",
        "fp1 = 0.87\n",
        "theta1 = np.arccos(fp1) # Ângulo da impedância da carga ou da corrente de carga\n",
        "# Para fator de potência atrasado, a corrente atrasa a tensão.\n",
        "# Se considerarmos V2 como referência com ângulo 0, a corrente I2 terá um ângulo de -theta1.\n",
        "V2_phasor = 240 + 0j # Fasor da tensão na carga (referência)\n",
        "I2_magnitude = I2_nominal_2_14\n",
        "I2_phasor_lagging = I2_magnitude * (np.cos(-theta1) + 1j * np.sin(-theta1)) # I * exp(-j*theta)\n",
        "print(f\"\\n(i) Carga com fator de potência de 0.87 atrasado:\")\n",
        "print(f\"  Fasor da corrente de carga (I2): ({I2_phasor_lagging.real:.2f} + {I2_phasor_lagging.imag:.2f}j) A\")\n",
        "\n",
        "# Tensão do primário referida ao secundário (V1')\n",
        "V1_prime_phasor_lagging = V2_phasor + I2_phasor_lagging * Zeq2\n",
        "print(f\"  Fasor da tensão do primário referida ao secundário (V1'): ({V1_prime_phasor_lagging.real:.2f} + {V1_prime_phasor_lagging.imag:.2f}j) V\")\n",
        "\n",
        "# Tensão nos terminais de alta tensão (V1). V1 = V1' * a\n",
        "V1_phasor_lagging = V1_prime_phasor_lagging * a_2_14\n",
        "\n",
        "# A tensão nos terminais de alta tensão é a magnitude do fasor V1_phasor_lagging.\n",
        "V1_mag_lagging = np.abs(V1_phasor_lagging)\n",
        "print(f\"  A tensão nos terminais de alta tensão é: {V1_mag_lagging:.2f} V rms\")\n",
        "\n",
        "# (ii) Carga com fator de potência de 0,87 adiantado\n",
        "fp2 = 0.87\n",
        "theta2 = np.arccos(fp2)\n",
        "# Para fator de potência adiantado, a corrente adianta a tensão.\n",
        "# Se considerarmos V2 como referência com ângulo 0, a corrente I2 terá um ângulo de +theta2.\n",
        "I2_phasor_leading = I2_magnitude * (np.cos(theta2) + 1j * np.sin(theta2)) # I * exp(+j*theta)\n",
        "print(f\"\\n(ii) Carga com fator de potência de 0.87 adiantado:\")\n",
        "print(f\"  Fasor da corrente de carga (I2): ({I2_phasor_leading.real:.2f} + {I2_phasor_leading.imag:.2f}j) A\")\n",
        "\n",
        "# Tensão do primário referida ao secundário (V1')\n",
        "V1_prime_phasor_leading = V2_phasor + I2_phasor_leading * Zeq2\n",
        "print(f\"  Fasor da tensão do primário referida ao secundário (V1'): ({V1_prime_phasor_leading.real:.2f} + {V1_prime_phasor_leading.imag:.2f}j) V\")\n",
        "\n",
        "# Tensão nos terminais de alta tensão (V1). V1 = V1' * a\n",
        "V1_phasor_leading = V1_prime_phasor_leading * a_2_14\n",
        "\n",
        "# A tensão nos terminais de alta tensão é a magnitude do fasor V1_phasor_leading.\n",
        "V1_mag_leading = np.abs(V1_phasor_leading)\n",
        "print(f\"  A tensão nos terminais de alta tensão é: {V1_mag_leading:.2f} V rms\")\n",
        "\n",
        "# c. Plotar a tensão nos terminais de alta tensão em função do ângulo de fator de potência\n",
        "# Carga em kVA nominais, tensão na carga constante com 240 V.\n",
        "# Isso significa que a magnitude da corrente de carga (I2) é a corrente nominal I2_nominal_2_14 = 166.67 A.\n",
        "\n",
        "# Ângulo do fator de potência varia de 0.6 adiantado a 0.6 atrasado.\n",
        "# fp = cos(theta). O ângulo theta varia de arccos(0.6) a -arccos(0.6).\n",
        "# Fator de potência adiantado: ângulo positivo da corrente em relação à tensão (ou ângulo negativo da impedância).\n",
        "# Fator de potência atrasado: ângulo negativo da corrente em relação à tensão (ou ângulo positivo da impedância).\n",
        "\n",
        "# Ângulos correspondentes a fp = 0.6\n",
        "theta_0_6 = np.arccos(0.6) # ~ 53.13 graus\n",
        "\n",
        "# Gerar array de ângulos para a corrente I2 em relação a V2.\n",
        "# Varia de +theta_0_6 (adiantado) a -theta_0_6 (atrasado).\n",
        "# Usaremos um número suficiente de pontos para um gráfico suave.\n",
        "num_points = 200\n",
        "# np.linspace(start, stop, num)\n",
        "# Do ângulo para fp=0.6 adiantado (+theta_0_6) ao ângulo para fp=0.6 atrasado (-theta_0_6)\n",
        "angle_values_rad = np.linspace(theta_0_6, -theta_0_6, num_points) # do adiantado ao atrasado\n",
        "fp_values = np.cos(angle_values_rad) # Fator de potência correspondente\n",
        "angle_values_deg = np.degrees(angle_values_rad) # Ângulos em graus para o eixo x (opcional, mas útil)\n",
        "\n",
        "V1_mag_values = []\n",
        "\n",
        "for angle_rad in angle_values_rad:\n",
        "  # Fasor da corrente de carga I2 (magnitude I2_nominal_2_14, ângulo angle_rad)\n",
        "  I2_phasor = I2_nominal_2_14 * (np.cos(angle_rad) + 1j * np.sin(angle_rad))\n",
        "\n",
        "  # Tensão do primário referida ao secundário (V1')\n",
        "  V1_prime_phasor = V2_phasor + I2_phasor * Zeq2\n",
        "\n",
        "  # Tensão nos terminais de alta tensão (V1)\n",
        "  V1_phasor = V1_prime_phasor * a_2_14\n",
        "\n",
        "  # Magnitude da tensão no primário\n",
        "  V1_mag = np.abs(V1_phasor)\n",
        "  V1_mag_values.append(V1_mag)\n",
        "\n",
        "# Plotar o gráfico\n",
        "plt.figure(figsize=(10, 6))\n",
        "\n",
        "# Plotando em função do ângulo em graus\n",
        "# plt.plot(angle_values_deg, V1_mag_values)\n",
        "# plt.xlabel(\"Ângulo do Fator de Potência (graus) (Positivo = Adiantado, Negativo = Atrasado)\")\n",
        "\n",
        "# Plotando em função do Fator de Potência (fp)\n",
        "# Para plotar corretamente em função do FP, precisamos mapear os ângulos para os valores de FP.\n",
        "# fp = cos(angle). Se angle_rad é de +theta_0_6 a -theta_0_6,\n",
        "# fp_values = cos(angle_values_rad) será de 0.6 a 1.0 e de 1.0 a 0.6.\n",
        "# Precisamos ordenar os valores de FP ou usar o ângulo no eixo x e anotar os FPs.\n",
        "# A instrução pede para plotar em função do ângulo de fator de potência. Podemos usar o ângulo em graus no eixo x.\n",
        "plt.plot(angle_values_deg, V1_mag_values)\n",
        "plt.xlabel(\"Ângulo do Fator de Potência (graus)\") # Positivo = Adiantado, Negativo = Atrasado\n",
        "plt.ylabel(\"Tensão nos Terminais de Alta Tensão (V rms)\")\n",
        "plt.title(\"Tensão no Lado de Alta Tensão vs. Ângulo do Fator de Potência\")\n",
        "plt.grid(True)\n",
        "\n",
        "# Adicionar marcas de Fator de Potência no eixo x (opcional, mas útil)\n",
        "# Ângulos para FPs de 0.6, 0.8, 1.0 (adiantado e atrasado)\n",
        "fp_points = np.array([0.6, 0.8, 1.0])\n",
        "angles_points_rad = np.arccos(fp_points)\n",
        "angles_points_deg = np.degrees(angles_points_rad)\n",
        "\n",
        "# Pontos no eixo x para adiantado e atrasado, e unitário\n",
        "xticks_deg = np.concatenate((-angles_points_deg[::-1], [0], angles_points_deg))\n",
        "xtick_labels = [f\"0.{int(f*10)} Ad\" for f in fp_points[::-1]] + [\"1.0\"] + [f\"0.{int(f*10)} At\" for f in fp_points]\n",
        "\n",
        "plt.xticks(xticks_deg, xtick_labels)\n",
        "\n",
        "plt.show()"
      ],
      "metadata": {
        "id": "-sUA9SAAFxya",
        "colab": {
          "base_uri": "https://localhost:8080/",
          "height": 1000
        },
        "outputId": "2bd68e88-cc70-4696-b27f-b238a6543b52"
      },
      "execution_count": 34,
      "outputs": [
        {
          "output_type": "stream",
          "name": "stdout",
          "text": [
            "\n",
            "Exercicio 2.14:\n",
            "A relação de espiras (a = N_HV/N_LV) é: 33.2083\n",
            "\n",
            "a. Valores de impedância para o circuito equivalente:\n",
            "(i) Referido ao Lado de Alta Tensão (7.97 kV):\n",
            "  Resistência série equivalente (Req1): 41.6000 Ω\n",
            "  Reatância série equivalente (Xeq1): 42.1000 Ω\n",
            "  Impedância série equivalente (Zeq1): (41.6000 + 42.1000j) Ω\n",
            "(ii) Referido ao Lado de Baixa Tensão (240 V):\n",
            "  Resistência série equivalente (Req2): 45876.2428 Ω\n",
            "  Reatância série equivalente (Xeq2): 46427.6421 Ω\n",
            "  Impedância série equivalente (Zeq2): (45876.2428 + 46427.6421j) Ω\n",
            "\n",
            "b. Corrente nominal no lado de baixa tensão: 166.67 A rms\n",
            "\n",
            "(i) Carga com fator de potência de 0.87 atrasado:\n",
            "  Fasor da corrente de carga (I2): (145.00 + -82.18j) A\n",
            "  Fasor da tensão do primário referida ao secundário (V1'): (10467500.01 + 2962114.69j) V\n",
            "  A tensão nos terminais de alta tensão é: 361258254.64 V rms\n",
            "\n",
            "(ii) Carga com fator de potência de 0.87 adiantado:\n",
            "  Fasor da corrente de carga (I2): (145.00 + 82.18j) A\n",
            "  Fasor da tensão do primário referida ao secundário (V1'): (2837090.39 + 10501901.51j) V\n",
            "  A tensão nos terminais de alta tensão é: 361252664.29 V rms\n"
          ]
        },
        {
          "output_type": "display_data",
          "data": {
            "text/plain": [
              "<Figure size 1000x600 with 1 Axes>"
            ],
            "image/png": "[encoded data removed]"
          },
          "metadata": {}
        }
      ]
    },
    {
      "cell_type": "markdown",
      "source": [
        "# Exercicio 2.15\n",
        "\n",
        "Repita o Problema 2.14 para um transformador de distribuição com 75 kVA,\n",
        "50 Hz e 3,81 kV: 230 V cujas resistências e reatâncias de dispersão são\n",
        "\n",
        "*   R1 = 4.85 Ω\n",
        "*   R2 = 16.2 mΩ\n",
        "*   Xl1 = 4.13 Ω\n",
        "*   Xl2 = 16.9 mΩ\n",
        "\n",
        "onde o índice 1 denota o enrolamento de 3,81 kV e o índice 2, o de 230 V.\n",
        "Cada grandeza está referida a seu próprio lado do transformador.\n",
        "\n",
        "Deve-se assumir que a carga das partes (b) e (c) estão operando com a tensão de 230 V."
      ],
      "metadata": {
        "id": "NDWLv4UFFy2u"
      }
    },
    {
      "cell_type": "code",
      "source": [
        "\n",
        "# (a) Circuito equivalente\n",
        "# (i) Referido ao lado HV (3.81 kV)\n",
        "Z2_ref_HV_2_15 = (V1_nominal_2_15/V2_nominal_2_15)**2 * (R2_2_15 + 1j*Xl2_2_15)\n",
        "Zeq_HV_2_15 = (R1_2_15 + 1j*Xl1_2_15) + Z2_ref_HV_2_15\n",
        "\n",
        "# (ii) Referido ao lado LV (230 V)\n",
        "Z1_ref_LV_2_15 = (V2_nominal_2_15/V1_nominal_2_15)**2 * (R1_2_15 + 1j*Xl1_2_15)\n",
        "Zeq_LV_2_15 = Z1_ref_LV_2_15 + (R2_2_15 + 1j*Xl2_2_15)\n",
        "\n",
        "print(f\"Exercicio 2.15 (a):\")\n",
        "print(f\"(i) Impedância equivalente referida ao lado HV: ({Zeq_HV_2_15.real:.4f} + {Zeq_HV_2_15.imag:.4f}j) Ω\")\n",
        "print(f\"(ii) Impedância equivalente referida ao lado LV: ({Zeq_LV_2_15.real:.4f} + {Zeq_LV_2_15.imag:.4f}j) Ω\")\n",
        "\n",
        "# (b) Cálculo da tensão no lado HV para carga nominal a 230 V\n",
        "\n",
        "V2_2_15 = 230  # V\n",
        "I2_nominal_2_15 = S_nominal_2_15 / V2_2_15  # Corrente nominal no LV\n",
        "print(f\"\\nCorrente nominal no lado LV: {I2_nominal_2_15:.2f} A\")\n",
        "\n",
        "\n",
        "def calculate_V1_2_15(pf, leading=False):\n",
        "    theta = np.arccos(pf) * (-1 if leading else 1) # Ângulo da corrente em radianos\n",
        "    I2_phasor_2_15 = I2_nominal_2_15 * np.exp(1j*theta) # Fasor da corrente de carga (referência de tensão no LV)\n",
        "    # V1' = V2 + I2 * Zeq_LV (Lei de Kirchhoff de tensão no lado LV)\n",
        "    V1_prime_phasor_2_15 = V2_2_15 + I2_phasor_2_15 * Zeq_LV_2_15\n",
        "    # V1 = V1' * a\n",
        "    V1_phasor_2_15 = V1_prime_phasor_2_15 * a_2_15\n",
        "    return np.abs(V1_phasor_2_15) # Magnitude da tensão no lado HV\n",
        "\n",
        "# (i) FP 0.87 atrasado\n",
        "V1_lag_2_15 = calculate_V1_2_15(0.87, leading=False)\n",
        "print(f\"(b-i) Tensão HV para FP 0.87 atrasado: {V1_lag_2_15:.2f} V\")\n",
        "\n",
        "# (ii) FP 0.87 adiantado\n",
        "V1_lead_2_15 = calculate_V1_2_15(0.87, leading=True)\n",
        "print(f\"(b-ii) Tensão HV para FP 0.87 adiantado: {V1_lead_2_15:.2f} V\")\n",
        "\n",
        "\n",
        "# (c) Plot da tensão vs ângulo FP para carga nominal a 230 V\n",
        "\n",
        "# Gerar ângulos de fator de potência de -60 a 60 graus\n",
        "angle_degrees = np.linspace(-60, 60, 200) # Ângulos em graus (- adiantado, + atrasado)\n",
        "angle_radians = np.deg2rad(angle_degrees) # Ângulos em radianos\n",
        "\n",
        "# Calcular o fator de potência correspondente\n",
        "pf_values = np.cos(angle_radians)\n",
        "\n",
        "# Calcular a tensão no lado HV para cada ângulo\n",
        "V1_values_2_15 = []\n",
        "for ang_rad in angle_radians:\n",
        "    # Determinar se é adiantado (negativo) ou atrasado (positivo)\n",
        "    leading = (ang_rad < 0)\n",
        "    pf = np.cos(ang_rad) # O fator de potência é sempre positivo (0 a 1)\n",
        "\n",
        "    # A função calculate_V1_2_15 já lida com o sinal do ângulo para a corrente\n",
        "    # Recalculamos o fasor da corrente diretamente do ângulo e magnitude nominal\n",
        "    I2_phasor = I2_nominal_2_15 * np.exp(1j * ang_rad) # Fasor da corrente com o ângulo correto\n",
        "\n",
        "    V1_prime_phasor = V2_2_15 + I2_phasor * Zeq_LV_2_15\n",
        "    V1_phasor = V1_prime_phasor * a_2_15\n",
        "    V1_values_2_15.append(np.abs(V1_phasor))\n",
        "\n",
        "\n",
        "# Plotar o gráfico\n",
        "plt.figure(figsize=(10, 6))\n",
        "plt.plot(angle_degrees, V1_values_2_15)\n",
        "plt.xlabel(\"Ângulo do Fator de Potência (graus)\")\n",
        "plt.ylabel(\"Tensão no Lado de Alta Tensão (V)\")\n",
        "plt.title(\"Tensão no Lado de Alta Tensão vs Ângulo do Fator de Potência\")\n",
        "plt.grid(True)\n",
        "\n",
        "# Adicionar anotações para FP 0.87 atrasado e adiantado\n",
        "# Encontrar os ângulos correspondentes a cos(0.87)\n",
        "angle_0_87 = np.arccos(0.87) * 180/np.pi # em graus\n",
        "\n",
        "# Anotar o ponto de FP 0.87 atrasado (+angle_0_87)\n",
        "plt.annotate(f'{V1_lag_2_15:.0f} V', (angle_0_87, V1_lag_2_15), textcoords=\"offset points\", xytext=(10,10), ha='center',\n",
        "             arrowprops=dict(arrowstyle='->', connectionstyle='arc3,rad=.2'))\n",
        "\n",
        "# Anotar o ponto de FP 0.87 adiantado (-angle_0_87)\n",
        "plt.annotate(f'{V1_lead_2_15:.0f} V', (-angle_0_87, V1_lead_2_15), textcoords=\"offset points\", xytext=(-10,-10), ha='center',\n",
        "             arrowprops=dict(arrowstyle='->', connectionstyle='arc3,rad=-.2'))\n",
        "\n",
        "plt.show()\n"
      ],
      "metadata": {
        "id": "VApXiU2KF_CA",
        "colab": {
          "base_uri": "https://localhost:8080/",
          "height": 691
        },
        "outputId": "08ef14dc-5f06-45f0-de6d-9fb166e8b9ff"
      },
      "execution_count": 35,
      "outputs": [
        {
          "output_type": "stream",
          "name": "stdout",
          "text": [
            "Exercicio 2.15 (a):\n",
            "(i) Impedância equivalente referida ao lado HV: (9.2954 + 8.7675j) Ω\n",
            "(ii) Impedância equivalente referida ao lado LV: (0.0339 + 0.0320j) Ω\n",
            "\n",
            "Corrente nominal no lado LV: 326.09 A\n",
            "(b-i) Tensão HV para FP 0.87 atrasado: 3891.53 V\n",
            "(b-ii) Tensão HV para FP 0.87 adiantado: 4054.73 V\n"
          ]
        },
        {
          "output_type": "display_data",
          "data": {
            "text/plain": [
              "<Figure size 1000x600 with 1 Axes>"
            ],
            "image/png": "[encoded data removed]"
          },
          "metadata": {}
        }
      ]
    },
    {
      "cell_type": "markdown",
      "source": [
        "# Exercicio 2.16\n",
        "\n",
        "Uma carga monofásica é abastecida através de um alimentador de 35 kV cuja\n",
        "impedância é 90 + j320 Ω e um transformador de 35 kV:2400 V cuja impedância em série equivalente é 0,21 + j1,33 Ω, referida a seu lado de baixa tensão.\n",
        "A carga é de 135 kW com um fator de potência de 0,78 adiantado e 2385 V.\n",
        "\n",
        "\n",
        "a. Calcule a tensão nos terminais de alta tensão do transformador.\n",
        "\n",
        "\n",
        "b. Calcule a tensão no lado de envio do alimentador.\n",
        "\n",
        "\n",
        "c. Calcule os ingressos de potências ativa e reativa no lado de envio do\n",
        "alimentador."
      ],
      "metadata": {
        "id": "j1ISGx7RGADQ"
      }
    },
    {
      "cell_type": "code",
      "source": [
        "\n",
        "# Exercicio 2.16\n",
        "\n",
        "# Dados do Exercicio 2.16\n",
        "V_alimentador_nominal = 35000 # V (Lado de envio do alimentador)\n",
        "Z_alimentador = 90 + 1j*320 # Ω (Impedância do alimentador)\n",
        "\n",
        "# Dados do Transformador\n",
        "V_transformador_HV_nominal = 35000 # V (lado de alta tensão)\n",
        "V_transformador_LV_nominal = 2400 # V (lado de baixa tensão)\n",
        "Z_transformador_serie_LV = 0.21 + 1j*1.33 # Ω (Impedância série equivalente, referida ao lado de baixa tensão)\n",
        "\n",
        "# Dados da carga\n",
        "P_carga_2_16 = 135e3 # W (135 kW)\n",
        "fp_carga_2_16 = 0.78 # Fator de potência\n",
        "V_carga_2_16 = 2385 # V (Tensão na carga no lado de baixa tensão)\n",
        "\n",
        "# Relação de espiras do transformador (a = N_HV/N_LV)\n",
        "a_2_16 = V_transformador_HV_nominal / V_transformador_LV_nominal\n",
        "print(f\"\\nExercicio 2.16:\")\n",
        "print(f\"A relação de espiras do transformador (a = N_HV/N_LV) é: {a_2_16:.4f}\")\n",
        "\n",
        "# Para resolver, vamos referir todo o circuito para o lado de alta tensão (HV) do transformador.\n",
        "\n",
        "# 1. Impedância da carga referida ao lado HV do transformador\n",
        "# Calcular a impedância da carga no lado LV.\n",
        "# S_carga = P_carga / fp_carga + j * Q_carga\n",
        "# Q_carga = P_carga * tan(arccos(fp_carga))\n",
        "# fp = 0.78 adiantado, então o ângulo da corrente atrasa a tensão (ou a impedância tem ângulo negativo).\n",
        "theta_carga_2_16 = np.arccos(fp_carga_2_16)\n",
        "# Z_carga_LV = V_carga^2 / S_carga*\n",
        "# Magnitude da impedância da carga no LV\n",
        "Z_carga_LV_mag = V_carga_2_16**2 / (P_carga_2_16 / fp_carga_2_16)\n",
        "# Ângulo da impedância da carga no LV (adiantado => ângulo negativo)\n",
        "Z_carga_LV_angle = -theta_carga_2_16 # Ângulo negativo para FP adiantado\n",
        "Z_carga_LV_phasor = Z_carga_LV_mag * np.exp(1j * Z_carga_LV_angle)\n",
        "print(f\"Impedância da carga no lado LV: ({Z_carga_LV_phasor.real:.4f} + {Z_carga_LV_phasor.imag:.4f}j) Ω\")\n",
        "\n",
        "# Referir a impedância da carga para o lado HV do transformador\n",
        "Z_carga_ref_HV = (a_2_16)**2 * Z_carga_LV_phasor\n",
        "print(f\"Impedância da carga referida ao lado HV: ({Z_carga_ref_HV.real:.4f} + {Z_carga_ref_HV.imag:.4f}j) Ω\")\n",
        "\n",
        "# 2. Impedância série equivalente do transformador referida ao lado HV\n",
        "# A impedância série equivalente é fornecida referida ao lado LV.\n",
        "# Referir Z_transformador_serie_LV para o lado HV:\n",
        "Z_transformador_serie_ref_HV = (a_2_16)**2 * Z_transformador_serie_LV\n",
        "print(f\"Impedância série do transformador referida ao lado HV: ({Z_transformador_serie_ref_HV.real:.4f} + {Z_transformador_serie_ref_HV.imag:.4f}j) Ω\")\n",
        "\n",
        "# O circuito equivalente visto do lado de envio do alimentador consiste na impedância do alimentador\n",
        "# em série com a impedância série equivalente do transformador referida ao HV\n",
        "# em série com a impedância da carga referida ao HV.\n",
        "\n",
        "# 3. Impedância total do circuito vista do lado de envio do alimentador (referida ao HV)\n",
        "# Z_total_circuito_ref_HV = Z_alimentador + Z_transformador_serie_ref_HV + Z_carga_ref_HV\n",
        "Z_total_circuito_ref_HV = Z_alimentador + Z_transformador_serie_ref_HV + Z_carga_ref_HV\n",
        "print(f\"Impedância total do circuito referida ao lado de envio: ({Z_total_circuito_ref_HV.real:.4f} + {Z_total_circuito_ref_HV.imag:.4f}j) Ω\")\n",
        "\n",
        "# Para encontrar as tensões e potências, precisamos da corrente.\n",
        "# É mais fácil calcular a corrente de carga no LV primeiro, e então referir para o HV.\n",
        "# Magnitude da corrente de carga no LV\n",
        "I_carga_LV_mag = P_carga_2_16 / (V_carga_2_16 * fp_carga_2_16)\n",
        "print(f\"Magnitude da corrente de carga no lado LV: {I_carga_LV_mag:.4f} A rms\")\n",
        "\n",
        "# Ângulo da corrente de carga no LV em relação à tensão (V_carga_2_16).\n",
        "# fp = 0.78 adiantado significa que a corrente ADIANTA a tensão.\n",
        "# Se V_carga_2_16 está no ângulo 0, I_carga_LV_phasor tem ângulo +theta_carga_2_16.\n",
        "I_carga_LV_phasor = I_carga_LV_mag * np.exp(1j * theta_carga_2_16)\n",
        "print(f\"Fasor da corrente de carga no lado LV (V_carga_LV como referência): ({I_carga_LV_phasor.real:.4f} + {I_carga_LV_phasor.imag:.4f}j) A\")\n",
        "\n",
        "# Corrente no lado HV do transformador (referida ao HV)\n",
        "# I_HV = I_LV / a\n",
        "I_HV_phasor = I_carga_LV_phasor / a_2_16\n",
        "print(f\"Fasor da corrente no lado HV do transformador: ({I_HV_phasor.real:.4f} + {I_HV_phasor.imag:.4f}j) A\")\n",
        "print(f\"Magnitude da corrente no lado HV do transformador: {np.abs(I_HV_phasor):.4f} A rms\")\n",
        "\n",
        "# A tensão nos terminais de alta tensão do transformador (V_transformador_HV)\n",
        "# é a tensão na impedância da carga referida ao HV.\n",
        "# V_transformador_HV_phasor = I_HV_phasor * Z_carga_ref_HV\n",
        "# Alternativamente, podemos calcular a tensão no lado HV (V_transformador_HV) usando a tensão na carga LV (V_carga_2_16)\n",
        "# e a queda de tensão na impedância série do transformador referida ao LV.\n",
        "# Tensão no lado de alta tensão do transformador referida ao lado LV (V_transformador_HV') = V_carga_2_16 + I_carga_LV_phasor * Z_transformador_serie_LV\n",
        "V_transformador_HV_prime_phasor = V_carga_2_16 + I_carga_LV_phasor * Z_transformador_serie_LV\n",
        "# Tensão nos terminais de alta tensão do transformador (V_transformador_HV) = V_transformador_HV' * a\n",
        "V_transformador_HV_phasor = V_transformador_HV_prime_phasor * a_2_16\n",
        "\n",
        "print(f\"\\na. Calcule a tensão nos terminais de alta tensão do transformador.\")\n",
        "print(f\"Fasor da tensão nos terminais de alta tensão do transformador: ({V_transformador_HV_phasor.real:.2f} + {V_transformador_HV_phasor.imag:.2f}j) V\")\n",
        "V_transformador_HV_mag = np.abs(V_transformador_HV_phasor)\n",
        "print(f\"Tensão nos terminais de alta tensão do transformador: {V_transformador_HV_mag:.2f} V rms\")\n",
        "\n",
        "\n",
        "# b. Calcule a tensão no lado de envio do alimentador.\n",
        "# A tensão no lado de envio do alimentador (V_envio) é a soma fasorial da tensão nos terminais de alta tensão do transformador\n",
        "# e a queda de tensão no alimentador.\n",
        "# V_envio_phasor = V_transformador_HV_phasor + I_HV_phasor * Z_alimentador\n",
        "\n",
        "V_envio_phasor = V_transformador_HV_phasor + I_HV_phasor * Z_alimentador\n",
        "print(f\"\\nb. Calcule a tensão no lado de envio do alimentador.\")\n",
        "print(f\"Fasor da tensão no lado de envio do alimentador: ({V_envio_phasor.real:.2f} + {V_envio_phasor.imag:.2f}j) V\")\n",
        "V_envio_mag = np.abs(V_envio_phasor)\n",
        "print(f\"Tensão no lado de envio do alimentador: {V_envio_mag:.2f} V rms\")\n",
        "\n",
        "# c. Calcule os ingressos de potências ativa e reativa no lado de envio do alimentador.\n",
        "# A potência no lado de envio do alimentador (S_envio) é a potência aparente complexa no ponto de envio.\n",
        "# S = V * I* (onde I* é o conjugado da corrente)\n",
        "# Potência ativa (P) = real(S)\n",
        "# Potência reativa (Q) = imag(S)\n",
        "\n",
        "# Usando os fasores calculados no lado de envio\n",
        "S_envio_phasor = V_envio_phasor * np.conj(I_HV_phasor)\n",
        "\n",
        "P_envio = S_envio_phasor.real\n",
        "Q_envio = S_envio_phasor.imag\n",
        "\n",
        "print(f\"\\nc. Calcule os ingressos de potências ativa e reativa no lado de envio do alimentador.\")\n",
        "print(f\"Potência aparente complexa no lado de envio: ({S_envio_phasor.real:.2f} + {S_envio_phasor.imag:.2f}j) VA\")\n",
        "print(f\"Ingresso de potência ativa (P): {P_envio:.2f} W\")\n",
        "print(f\"Ingresso de potência reativa (Q): {Q_envio:.2f} VAR\")"
      ],
      "metadata": {
        "id": "EUincV9BGK97",
        "colab": {
          "base_uri": "https://localhost:8080/"
        },
        "outputId": "7ecb7247-52c5-4c62-cb6b-63a9194cf382"
      },
      "execution_count": 37,
      "outputs": [
        {
          "output_type": "stream",
          "name": "stdout",
          "text": [
            "\n",
            "Exercicio 2.16:\n",
            "A relação de espiras do transformador (a = N_HV/N_LV) é: 14.5833\n",
            "Impedância da carga no lado LV: (25.6349 + -20.5664j) Ω\n",
            "Impedância da carga referida ao lado HV: (5451.8740 + -4373.9372j) Ω\n",
            "Impedância série do transformador referida ao lado HV: (44.6615 + 282.8559j) Ω\n",
            "Impedância total do circuito referida ao lado de envio: (5586.5354 + -3771.0813j) Ω\n",
            "Magnitude da corrente de carga no lado LV: 72.5689 A rms\n",
            "Fasor da corrente de carga no lado LV (V_carga_LV como referência): (56.6038 + 45.4122j) A\n",
            "Fasor da corrente no lado HV do transformador: (3.8814 + 3.1140j) A\n",
            "Magnitude da corrente no lado HV do transformador: 4.9762 A rms\n",
            "\n",
            "a. Calcule a tensão nos terminais de alta tensão do transformador.\n",
            "Fasor da tensão nos terminais de alta tensão do transformador: (34073.79 + 1236.95j) V\n",
            "Tensão nos terminais de alta tensão do transformador: 34096.24 V rms\n",
            "\n",
            "b. Calcule a tensão no lado de envio do alimentador.\n",
            "Fasor da tensão no lado de envio do alimentador: (33426.65 + 2759.26j) V\n",
            "Tensão no lado de envio do alimentador: 33540.34 V rms\n",
            "\n",
            "c. Calcule os ingressos de potências ativa e reativa no lado de envio do alimentador.\n",
            "Potência aparente complexa no lado de envio: (138334.50 + -93380.00j) VA\n",
            "Ingresso de potência ativa (P): 138334.50 W\n",
            "Ingresso de potência reativa (Q): -93380.00 VAR\n"
          ]
        }
      ]
    },
    {
      "cell_type": "markdown",
      "source": [
        "# Exercicio 2.17\n",
        "\n",
        "Escreva um script de MATLAB para (a) repetir os cálculos do Problema 2.16\n",
        "para fatores de potência de 0,78 adiantado, unitário e 0,78 atrasado, assumindo que a potência de carga continua constante em 135 kW e que a tensão de\n",
        "carga permanece constante em 2385 V.\n",
        "\n",
        "\n",
        "(b) Use seu script de MATLAB para\n",
        "plotar (versus o ângulo de fator de potência) a tensão do terminal de envio\n",
        "requerida para manter uma tensão de carga de 2385 V quando o fator de potência varia de 0,7 adiantado, passa pela unidade e chega a 0,7 atrasado."
      ],
      "metadata": {
        "id": "U4afyJfaGMZU"
      }
    },
    {
      "cell_type": "code",
      "source": [
        "\n",
        "# Exercicio 2.17\n",
        "\n",
        "# Dados do Exercicio 2.17 (Continuando do 2.16)\n",
        "# V_alimentador_nominal = 35000 # V (Lado de envio do alimentador) - Usado apenas para a relação do transformador no 2.16\n",
        "Z_alimentador = 90 + 1j*320 # Ω (Impedância do alimentador)\n",
        "\n",
        "# Dados do Transformador\n",
        "V_transformador_HV_nominal = 35000 # V (lado de alta tensão)\n",
        "V_transformador_LV_nominal = 2400 # V (lado de baixa tensão)\n",
        "Z_transformador_serie_LV = 0.21 + 1j*1.33 # Ω (Impedância série equivalente, referida ao lado de baixa tensão)\n",
        "\n",
        "# Dados da carga\n",
        "P_carga_2_17 = 135e3 # W (135 kW)\n",
        "V_carga_2_17 = 2385 # V (Tensão na carga no lado de baixa tensão)\n",
        "\n",
        "# Relação de espiras do transformador (a = N_HV/N_LV)\n",
        "a_2_17 = V_transformador_HV_nominal / V_transformador_LV_nominal\n",
        "# print(f\"\\nExercicio 2.17:\")\n",
        "# print(f\"A relação de espiras do transformador (a = N_HV/N_LV) é: {a_2_17:.4f}\")\n",
        "\n",
        "# Corrente de carga no lado LV (magnitude), já que P e V na carga são constantes\n",
        "# P = V * I * fp => I = P / (V * fp)\n",
        "# Precisamos do fp para calcular a magnitude da corrente para cada caso de fp.\n",
        "# No entanto, a potência P e a tensão V na carga são constantes, então a magnitude\n",
        "# da corrente de carga pode ser expressa em termos de P e V:\n",
        "# P = V * I * fp\n",
        "# S = V * I = P / fp\n",
        "# |I| = S / V = (P / fp) / V = P / (V * fp) <-- Esta fórmula varia com fp.\n",
        "\n",
        "# Uma forma alternativa é calcular a admitância da carga.\n",
        "# S_complexa = V * I*  => I = (S / V)*\n",
        "# S_complexa = P + jQ\n",
        "# P = 135 kW\n",
        "# Q = P * tan(theta)\n",
        "# S_magnitude = P / fp\n",
        "# I_carga_LV_mag = S_magnitude / V_carga_2_17 = (P_carga_2_17 / fp) / V_carga_2_17\n",
        "\n",
        "# Se a tensão e a potência ativa na carga são constantes, a corrente varia com o fator de potência.\n",
        "# I_carga_LV_mag = P_carga_2_17 / (V_carga_2_17 * fp)\n",
        "\n",
        "# A abordagem usando a impedância da carga parece mais direta quando a tensão e potência ativa são dadas.\n",
        "# A potência complexa na carga S_carga = P_carga + jQ_carga.\n",
        "# O fator de potência determina Q para um dado P e V.\n",
        "# fp = cos(theta) => theta = arccos(fp)\n",
        "# Q_carga = P_carga * tan(theta). Para FP adiantado, Q é negativo.\n",
        "# S_carga = V_carga * I_carga_LV*\n",
        "# V_carga_phasor = V_carga_2_17 + 0j (referência)\n",
        "# A corrente I_carga_LV_phasor terá um ângulo -theta em relação a V_carga_phasor para FP atrasado,\n",
        "# e +theta para FP adiantado.\n",
        "# S_carga = V_carga * |I_carga_LV| * (cos(0 - angle_I) + j sin(0 - angle_I)) = V_carga * |I_carga_LV| * (cos(-angle_I) + j sin(-angle_I))\n",
        "# P_carga = V_carga * |I_carga_LV| * cos(angle_I)\n",
        "# Q_carga = V_carga * |I_carga_LV| * sin(angle_I) # Note que se angle_I é negativo (atrasado), sin é negativo => Q negativo.\n",
        "# Queremos que P_carga = 135e3 W e V_carga = 2385 V.\n",
        "# |I_carga_LV| = P_carga / (V_carga * fp)\n",
        "# O ângulo da corrente I_carga_LV em relação à tensão V_carga é -arccos(fp) para FP atrasado e +arccos(fp) para FP adiantado.\n",
        "# V_carga_phasor = V_carga_2_17 # Referência\n",
        "\n",
        "def calculate_voltages_and_powers(fp, is_leading):\n",
        "    \"\"\"Calcula tensões e potências para um dado FP.\"\"\"\n",
        "    theta_fp = np.arccos(fp) # Ângulo do fator de potência\n",
        "    # Ângulo da corrente em relação à tensão de carga.\n",
        "    # Se V_carga é a referência (ângulo 0), I_carga tem ângulo +theta_fp para FP adiantado, -theta_fp para FP atrasado.\n",
        "    angle_I_rad = theta_fp if is_leading else -theta_fp\n",
        "\n",
        "    # Magnitude da corrente de carga\n",
        "    I_carga_LV_mag = P_carga_2_17 / (V_carga_2_17 * fp)\n",
        "\n",
        "    # Fasor da corrente de carga no lado LV (com V_carga como referência)\n",
        "    I_carga_LV_phasor = I_carga_LV_mag * np.exp(1j * angle_I_rad)\n",
        "\n",
        "    # print(f\"  I_carga_LV_phasor = ({I_carga_LV_phasor.real:.2f} + {I_carga_LV_phasor.imag:.2f}j) A\")\n",
        "\n",
        "    # a. Tensão nos terminais de alta tensão do transformador (V_transformador_HV)\n",
        "    # V_transformador_HV' = V_carga_LV + I_carga_LV_phasor * Z_transformador_serie_LV\n",
        "    V_transformador_HV_prime_phasor = V_carga_2_17 + I_carga_LV_phasor * Z_transformador_serie_LV\n",
        "    # V_transformador_HV = V_transformador_HV' * a\n",
        "    V_transformador_HV_phasor = V_transformador_HV_prime_phasor * a_2_17\n",
        "    V_transformador_HV_mag = np.abs(V_transformador_HV_phasor)\n",
        "\n",
        "    # Corrente no lado HV do transformador (referida ao HV)\n",
        "    I_HV_phasor = I_carga_LV_phasor / a_2_17\n",
        "\n",
        "    # b. Tensão no lado de envio do alimentador (V_envio)\n",
        "    # V_envio_phasor = V_transformador_HV_phasor + I_HV_phasor * Z_alimentador\n",
        "    V_envio_phasor = V_transformador_HV_phasor + I_HV_phasor * Z_alimentador\n",
        "    V_envio_mag = np.abs(V_envio_phasor)\n",
        "\n",
        "    # c. Ingressos de potências ativa e reativa no lado de envio do alimentador.\n",
        "    S_envio_phasor = V_envio_phasor * np.conj(I_HV_phasor)\n",
        "    P_envio = S_envio_phasor.real\n",
        "    Q_envio = S_envio_phasor.imag\n",
        "\n",
        "    return V_transformador_HV_mag, V_envio_mag, P_envio, Q_envio\n",
        "\n",
        "# (a) Repetir cálculos para FP 0.78 adiantado, unitário e 0.78 atrasado\n",
        "\n",
        "print(\"\\nExercicio 2.17 (a):\")\n",
        "\n",
        "# FP 0.78 adiantado\n",
        "fp_a_leading = 0.78\n",
        "V_tx_hv_a_lead, V_envio_a_lead, P_envio_a_lead, Q_envio_a_lead = calculate_voltages_and_powers(fp_a_leading, is_leading=True)\n",
        "print(f\"\\nFP {fp_a_leading} Adiantado:\")\n",
        "print(f\"  Tensão nos terminais HV do transformador: {V_tx_hv_a_lead:.2f} V rms\")\n",
        "print(f\"  Tensão no lado de envio do alimentador: {V_envio_a_lead:.2f} V rms\")\n",
        "print(f\"  Ingresso de potência ativa no envio: {P_envio_a_lead:.2f} W\")\n",
        "print(f\"  Ingresso de potência reativa no envio: {Q_envio_a_lead:.2f} VAR\")\n",
        "\n",
        "# FP Unitário\n",
        "fp_a_unity = 1.0\n",
        "V_tx_hv_a_unity, V_envio_a_unity, P_envio_a_unity, Q_envio_a_unity = calculate_voltages_and_powers(fp_a_unity, is_leading=False) # is_leading doesn't matter for fp=1\n",
        "print(f\"\\nFP {fp_a_unity}:\")\n",
        "print(f\"  Tensão nos terminais HV do transformador: {V_tx_hv_a_unity:.2f} V rms\")\n",
        "print(f\"  Tensão no lado de envio do alimentador: {V_envio_a_unity:.2f} V rms\")\n",
        "print(f\"  Ingresso de potência ativa no envio: {P_envio_a_unity:.2f} W\")\n",
        "print(f\"  Ingresso de potência reativa no envio: {Q_envio_a_unity:.2f} VAR\")\n",
        "\n",
        "\n",
        "# FP 0.78 atrasado\n",
        "fp_a_lagging = 0.78\n",
        "V_tx_hv_a_lag, V_envio_a_lag, P_envio_a_lag, Q_envio_a_lag = calculate_voltages_and_powers(fp_a_lagging, is_leading=False)\n",
        "print(f\"\\nFP {fp_a_lagging} Atrasado:\")\n",
        "print(f\"  Tensão nos terminais HV do transformador: {V_tx_hv_a_lag:.2f} V rms\")\n",
        "print(f\"  Tensão no lado de envio do alimentador: {V_envio_a_lag:.2f} V rms\")\n",
        "print(f\"  Ingresso de potência ativa no envio: {P_envio_a_lag:.2f} W\")\n",
        "print(f\"  Ingresso de potência reativa no envio: {Q_envio_a_lag:.2f} VAR\")\n",
        "\n",
        "\n",
        "# (b) Plotar a tensão do terminal de envio requerida versus o ângulo de fator de potência\n",
        "# Variação do FP de 0.7 adiantado a 0.7 atrasado.\n",
        "# Ângulo do fator de potência varia de arccos(0.7) (adiantado) a -arccos(0.7) (atrasado).\n",
        "fp_limit = 0.7\n",
        "theta_limit_rad = np.arccos(fp_limit)\n",
        "\n",
        "# Gerar array de ângulos para a corrente I_carga_LV em relação a V_carga_2_17.\n",
        "# Varia de +theta_limit_rad (adiantado) a -theta_limit_rad (atrasado).\n",
        "num_points = 200\n",
        "angle_values_rad_plot = np.linspace(theta_limit_rad, -theta_limit_rad, num_points)\n",
        "angle_values_deg_plot = np.degrees(angle_values_rad_plot) # Ângulos em graus para o eixo x\n",
        "\n",
        "V_envio_mag_values = []\n",
        "\n",
        "for angle_rad in angle_values_rad_plot:\n",
        "  # Determinar se é adiantado ou atrasado para o cálculo dentro da função\n",
        "  is_leading_plot = (angle_rad > 0)\n",
        "  fp_plot = np.cos(angle_rad) # fp é sempre positivo para o cálculo\n",
        "\n",
        "  # Recalcular a tensão de envio para este ângulo\n",
        "  # A magnitude da corrente varia com o fp\n",
        "  I_carga_LV_mag_plot = P_carga_2_17 / (V_carga_2_17 * fp_plot)\n",
        "  I_carga_LV_phasor_plot = I_carga_LV_mag_plot * np.exp(1j * angle_rad)\n",
        "\n",
        "  V_transformador_HV_prime_phasor_plot = V_carga_2_17 + I_carga_LV_phasor_plot * Z_transformador_serie_LV\n",
        "  V_transformador_HV_phasor_plot = V_transformador_HV_prime_phasor_plot * a_2_17\n",
        "  I_HV_phasor_plot = I_carga_LV_phasor_plot / a_2_17\n",
        "  V_envio_phasor_plot = V_transformador_HV_phasor_plot + I_HV_phasor_plot * Z_alimentador\n",
        "\n",
        "  V_envio_mag_values.append(np.abs(V_envio_phasor_plot))\n",
        "\n",
        "\n",
        "# Plotar o gráfico\n",
        "plt.figure(figsize=(10, 6))\n",
        "plt.plot(angle_values_deg_plot, V_envio_mag_values)\n",
        "plt.xlabel(\"Ângulo do Fator de Potência (graus)\") # Positivo = Adiantado, Negativo = Atrasado\n",
        "plt.ylabel(\"Tensão no Lado de Envio do Alimentador (V rms)\")\n",
        "plt.title(\"Tensão no Lado de Envio vs. Ângulo do Fator de Potência (P_carga=135kW, V_carga=2385V)\")\n",
        "plt.grid(True)\n",
        "\n",
        "# Adicionar marcas de Fator de Potência no eixo x (opcional)\n",
        "# Ângulos para FPs de 0.7, 0.8, 0.9, 1.0 (adiantado e atrasado)\n",
        "fp_points_plot = np.array([0.7, 0.8, 0.9, 1.0])\n",
        "angles_points_rad_plot = np.arccos(fp_points_plot)\n",
        "angles_points_deg_plot = np.degrees(angles_points_rad_plot)\n",
        "\n",
        "# Pontos no eixo x para adiantado e atrasado, e unitário\n",
        "xticks_deg_plot = np.concatenate((-angles_points_deg_plot[::-1], [0], angles_points_deg_plot))\n",
        "xtick_labels_plot = [f\"{f:.1f} Ad\" for f in fp_points_plot[::-1]] + [\"1.0\"] + [f\"{f:.1f} At\" for f in fp_points_plot]\n",
        "\n",
        "plt.xticks(xticks_deg_plot, xtick_labels_plot)\n",
        "\n",
        "plt.show()\n"
      ],
      "metadata": {
        "id": "y7tuO_EXGTs2",
        "colab": {
          "base_uri": "https://localhost:8080/",
          "height": 916
        },
        "outputId": "e7cf7f3d-a014-4f4a-dc5a-1ff0a55b4b2a"
      },
      "execution_count": 38,
      "outputs": [
        {
          "output_type": "stream",
          "name": "stdout",
          "text": [
            "\n",
            "Exercicio 2.17 (a):\n",
            "\n",
            "FP 0.78 Adiantado:\n",
            "  Tensão nos terminais HV do transformador: 34096.24 V rms\n",
            "  Tensão no lado de envio do alimentador: 33540.34 V rms\n",
            "  Ingresso de potência ativa no envio: 138334.50 W\n",
            "  Ingresso de potência reativa no envio: -93380.00 VAR\n",
            "\n",
            "FP 1.0:\n",
            "  Tensão nos terminais HV do transformador: 34971.84 V rms\n",
            "  Tensão no lado de envio do alimentador: 35381.38 V rms\n",
            "  Ingresso de potência ativa no envio: 137028.71 W\n",
            "  Ingresso de potência reativa no envio: 9082.19 VAR\n",
            "\n",
            "FP 0.78 Atrasado:\n",
            "  Tensão nos terminais HV do transformador: 35848.23 V rms\n",
            "  Tensão no lado de envio do alimentador: 37230.78 V rms\n",
            "  Ingresso de potência ativa no envio: 138334.50 W\n",
            "  Ingresso de potência reativa no envio: 123235.99 VAR\n"
          ]
        },
        {
          "output_type": "display_data",
          "data": {
            "text/plain": [
              "<Figure size 1000x600 with 1 Axes>"
            ],
            "image/png": "[encoded data removed]"
          },
          "metadata": {}
        }
      ]
    },
    {
      "cell_type": "markdown",
      "source": [
        "# Exercicio 2.18\n",
        "\n",
        "Repita o Exemplo 2.6 com o transformador operando a plena carga e um fator\n",
        "de potência unitário."
      ],
      "metadata": {
        "id": "KrlWjp7DQSrI"
      }
    },
    {
      "cell_type": "code",
      "source": [
        "\n",
        "\n",
        "# Exercicio 2.18\n",
        "\n",
        "# Dados do Exercicio 2.18 (Referência ao Exemplo 2.6, não ao Problema 2.6 neste código)\n",
        "# Como não temos o código do \"Exemplo 2.6\", vamos assumir que a intenção era\n",
        "# referenciar o Problema 2.6, que trata de máxima transferência de potência\n",
        "# com uma fonte de 12 V rms em série com Rs = 1.5 kOhm, conectada a uma\n",
        "# carga Rload = 75 Ohm através de um transformador ideal.\n",
        "\n",
        "# Dados do Problema 2.6 (assumindo que este é o \"Exemplo 2.6\" referenciado)\n",
        "V_fonte_2_6_ref = 12  # V eficazes da fonte\n",
        "Rs_ref = 1500   # Ω Resistência interna da fonte (1.5 kΩ)\n",
        "Rload_ref = 75    # Ω Resistor de carga\n",
        "\n",
        "# Dados adicionais para o Exercicio 2.18: Transformador operando a plena carga e FP unitário.\n",
        "# O transformador não tem potência nominal ou relação de espiras definida no Ex 2.6/2.18.\n",
        "# A plena carga e FP unitário referem-se à operação da carga, não a uma potência nominal específica do transformador.\n",
        "# A carga é puramente resistiva (FP unitário), com Rload_ref = 75 Ω.\n",
        "# A \"plena carga\" neste contexto provavelmente significa que a relação de espiras\n",
        "# é aquela que maximiza a transferência de potência para a carga, pois este é o\n",
        "# tema principal do Ex. 2.6/2.18.\n",
        "\n",
        "# Relação de espiras para máxima transferência de potência (repetindo o cálculo do Ex 2.6)\n",
        "# N = N1 / N2\n",
        "# Z_primario = N^2 * Z_secundario = N^2 * Rload\n",
        "# Para máx transferência, Z_primario = Rs\n",
        "# N^2 * Rload = Rs\n",
        "N_otimo_ref = np.sqrt(Rs_ref / Rload_ref)\n",
        "\n",
        "print(f\"\\nExercicio 2.18 (Baseado no Problema 2.6):\")\n",
        "print(f\"Relação de espiras (N1/N2) para máxima transferência de potência: {N_otimo_ref:.2f}\")\n",
        "\n",
        "# Para \"operando a plena carga e um fator de potência unitário\", a corrente\n",
        "# no secundário é aquela que resulta da conexão com esta relação de espiras ótima.\n",
        "# Circuito visto do primário: Fonte V_fonte em série com Rs e a impedância refletida da carga.\n",
        "# A impedância refletida da carga no primário é (N_otimo_ref)^2 * Rload_ref = Rs_ref.\n",
        "# Impedância total no primário = Rs_ref + Rs_ref = 2 * Rs_ref.\n",
        "Z_total_primario_ref = Rs_ref + (N_otimo_ref**2 * Rload_ref)\n",
        "# Z_total_primario_ref = 2 * Rs_ref # Para a relação ótima\n",
        "\n",
        "# Corrente no primário\n",
        "I1_rms_ref = V_fonte_2_6_ref / Z_total_primario_ref\n",
        "print(f\"Corrente no primário: {I1_rms_ref:.4f} A rms\")\n",
        "\n",
        "# Corrente no secundário\n",
        "# I1 / I2 = N2 / N1 = 1 / N\n",
        "# I2 = I1 * N\n",
        "I2_rms_ref = I1_rms_ref * N_otimo_ref\n",
        "print(f\"Corrente no secundário: {I2_rms_ref:.4f} A rms\")\n",
        "\n",
        "# Tensão na carga (no secundário)\n",
        "# V2 = I2 * Rload\n",
        "V2_rms_ref = I2_rms_ref * Rload_ref\n",
        "print(f\"Tensão na carga (secundário): {V2_rms_ref:.2f} V rms\")\n",
        "\n",
        "# Potência na carga\n",
        "# Pload = I2^2 * Rload\n",
        "Pload_ref = I2_rms_ref**2 * Rload_ref\n",
        "print(f\"Potência na carga: {Pload_ref:.4f} W\")\n",
        "print(f\"Potência na carga: {Pload_ref * 1000:.2f} mW\")\n",
        "\n",
        "# Nota: Como o fator de potência é unitário, a carga é puramente resistiva.\n",
        "# A potência entregue à carga é puramente ativa.\n",
        "# A \"plena carga\" é atingida na relação de espiras ótima que maximiza a potência transferida."
      ],
      "metadata": {
        "id": "V-hb2R7CQcP6",
        "colab": {
          "base_uri": "https://localhost:8080/"
        },
        "outputId": "7f9508e3-7036-4efd-9896-df589500c2fa"
      },
      "execution_count": 39,
      "outputs": [
        {
          "output_type": "stream",
          "name": "stdout",
          "text": [
            "\n",
            "Exercicio 2.18 (Baseado no Problema 2.6):\n",
            "Relação de espiras (N1/N2) para máxima transferência de potência: 4.47\n",
            "Corrente no primário: 0.0040 A rms\n",
            "Corrente no secundário: 0.0179 A rms\n",
            "Tensão na carga (secundário): 1.34 V rms\n",
            "Potência na carga: 0.0240 W\n",
            "Potência na carga: 24.00 mW\n"
          ]
        }
      ]
    },
    {
      "cell_type": "markdown",
      "source": [
        "# Exercicio 2.19\n",
        "\n",
        "Um transformador monofásico de 450 kVA e 50 Hz, com um enrolamento primário de 11 kV, absorve sem carga 0,33 A e 2700 W, com tensão e frequência\n",
        "nominais. Um outro transformador tem um núcleo com todas as dimensões √2 lineares vezes maiores que as respectivas dimensões do primeiro transformador. O material do núcleo e a espessura das chapas são as mesmas em\n",
        "ambos os transformadores.\n",
        "\n",
        "(a) Se os enrolamentos do primário de ambos os\n",
        "transformadores tiverem o mesmo número de espiras, qual tensão primária\n",
        "deve ser aplicada para produzir a mesma densidade de fluxo no núcleo.\n",
        "\n",
        " (b)\n",
        "Com o primário excitado pela tensão encontrada na parte (a), calcule a corrente do primário e a potência."
      ],
      "metadata": {
        "id": "P0ovcbOsQdKu"
      }
    },
    {
      "cell_type": "code",
      "source": [
        "import math\n",
        "\n",
        "# Dados do transformador original\n",
        "V1 = 11000  # Volts\n",
        "I0_1 = 0.33  # A\n",
        "P0_1 = 2700  # W\n",
        "\n",
        "# Fator de aumento das dimensões lineares\n",
        "scaling_factor = math.sqrt(2)\n",
        "\n",
        "# Parte (a) - Tensão para manter mesma densidade de fluxo\n",
        "A2_A1_ratio = scaling_factor ** 2  # área proporcional ao quadrado do comprimento\n",
        "V2 = V1 * A2_A1_ratio\n",
        "\n",
        "# Parte (b) - Corrente e potência com nova tensão\n",
        "I0_2 = I0_1 * (V2 / V1)  # proporcional ao aumento de tensão\n",
        "volume_ratio = scaling_factor ** 3\n",
        "P0_2 = P0_1 * volume_ratio  # perdas no ferro proporcionais ao volume\n",
        "\n",
        "# Exibir resultados\n",
        "print(f\"(a) Tensão primária para mesma densidade de fluxo: {V2:.0f} V\")\n",
        "print(f\"(b) Corrente de excitação no novo transformador: {I0_2:.2f} A\")\n",
        "print(f\"(b) Potência sem carga no novo transformador: {P0_2:.2f} W\")\n"
      ],
      "metadata": {
        "colab": {
          "base_uri": "https://localhost:8080/"
        },
        "id": "HD4uh41uyLDZ",
        "outputId": "edcdb133-1cd9-48c7-9efa-6778874f2392"
      },
      "execution_count": 44,
      "outputs": [
        {
          "output_type": "stream",
          "name": "stdout",
          "text": [
            "(a) Tensão primária para mesma densidade de fluxo: 22000 V\n",
            "(b) Corrente de excitação no novo transformador: 0.66 A\n",
            "(b) Potência sem carga no novo transformador: 7636.75 W\n"
          ]
        }
      ]
    },
    {
      "cell_type": "markdown",
      "source": [
        "# Exercicio 2.20\n",
        "\n",
        "A placa de um transformador monofásico de 25 MVA e 60 Hz indica que ele\n",
        "tem uma tensão nominal de 8,0 kV:78 kV. Um ensaio de curto-circuito é executado no lado de alta tensão (enrolamento de baixa tensão em curto-circuito),\n",
        "sendo as leituras 4,53 kV, 321 A e 77,5 kW. Um ensaio de circuito aberto é\n",
        "executado no lado de baixa tensão e as respectivas leituras nos instrumentos de\n",
        "medida são 8,0 kV, 39,6 A e 86,2 kW.\n",
        "\n",
        "\n",
        "a. Calcule a impedância em série equivalente do transformador referida aos\n",
        "terminais de alta tensão.\n",
        "\n",
        "\n",
        "b. Calcule a impedância em série equivalente do transformador referida aos\n",
        "terminais de baixa tensão.\n",
        "\n",
        "\n",
        "c. Fazendo as aproximações apropriadas, desenhe um circuito equivalente T\n",
        "para o transformador."
      ],
      "metadata": {
        "id": "oE68W6dUQ7U0"
      }
    },
    {
      "cell_type": "code",
      "source": [
        "import math\n",
        "\n",
        "# Dados\n",
        "S_base = 25e6       # VA\n",
        "V1 = 78e3           # V (alta tensão)\n",
        "V2 = 8e3            # V (baixa tensão)\n",
        "\n",
        "# Ensaio de curto-circuito\n",
        "Vcc = 4.53e3        # V\n",
        "Icc = 321           # A\n",
        "Pcc = 77.5e3        # W\n",
        "\n",
        "# Ensaio de circuito aberto\n",
        "Vca = 8e3           # V\n",
        "Ica = 39.6          # A\n",
        "Pca = 86.2e3        # W\n",
        "\n",
        "# Parte (a): Impedância equivalente referida ao lado AT\n",
        "Zeq_AT = Vcc / Icc\n",
        "Req_AT = Pcc / (Icc ** 2)\n",
        "Xeq_AT = math.sqrt(Zeq_AT ** 2 - Req_AT ** 2)\n",
        "\n",
        "# Parte (b): Referida ao lado BT\n",
        "a = V1 / V2\n",
        "Zeq_BT = Zeq_AT / (a ** 2)\n",
        "Req_BT = Req_AT / (a ** 2)\n",
        "Xeq_BT = Xeq_AT / (a ** 2)\n",
        "\n",
        "# Exibir resultados\n",
        "print(\"=== Parte (a) - Referido à Alta Tensão ===\")\n",
        "print(f\"Zeq_AT = {Zeq_AT:.4f} Ω\")\n",
        "print(f\"Req_AT = {Req_AT:.4f} Ω\")\n",
        "print(f\"Xeq_AT = {Xeq_AT:.4f} Ω\")\n",
        "\n",
        "print(\"\\n=== Parte (b) - Referido à Baixa Tensão ===\")\n",
        "print(f\"Zeq_BT = {Zeq_BT:.6f} Ω\")\n",
        "print(f\"Req_BT = {Req_BT:.6f} Ω\")\n",
        "print(f\"Xeq_BT = {Xeq_BT:.6f} Ω\")\n",
        "\n"
      ],
      "metadata": {
        "id": "k1SPYTfMRSlL",
        "colab": {
          "base_uri": "https://localhost:8080/"
        },
        "outputId": "5b035423-82a7-4f1c-827e-370409b96355"
      },
      "execution_count": 45,
      "outputs": [
        {
          "output_type": "stream",
          "name": "stdout",
          "text": [
            "=== Parte (a) - Referido à Alta Tensão ===\n",
            "Zeq_AT = 14.1121 Ω\n",
            "Req_AT = 0.7521 Ω\n",
            "Xeq_AT = 14.0921 Ω\n",
            "\n",
            "=== Parte (b) - Referido à Baixa Tensão ===\n",
            "Zeq_BT = 0.148451 Ω\n",
            "Req_BT = 0.007912 Ω\n",
            "Xeq_BT = 0.148240 Ω\n"
          ]
        }
      ]
    },
    {
      "cell_type": "markdown",
      "source": [
        "# Exercicio 2.21\n",
        "\n",
        "Execute os cálculos do Problema 2.20 para um transformador monofásico de\n",
        "175 kVA e 50 Hz cuja tensão nominal é 3,8 kV:6,4 kV. Um ensaio de circuito\n",
        "aberto é realizado no lado de baixa tensão e as respectivas leituras nos instrumentos são 3,8 kV, 0,58 A e 603 W. De modo semelhante, um ensaio de\n",
        "curto-circuito no lado de alta tensão (enrolamento de baixa tensão em curto-\n",
        "-circuito) dá as leituras 372 V, 27,3 A e 543 W"
      ],
      "metadata": {
        "id": "6qZulvBHRUSi"
      }
    },
    {
      "cell_type": "code",
      "source": [
        "\n",
        "# Exercicio 2.21\n",
        "\n",
        "# Dados\n",
        "S_base_2_21 = 175e3       # VA\n",
        "V1_2_21 = 6400            # V (alta tensão)\n",
        "V2_2_21 = 3800            # V (baixa tensão)\n",
        "f_2_21 = 50               # Hz\n",
        "\n",
        "# Ensaio de circuito aberto (Lado de Baixa Tensão - 3.8 kV)\n",
        "Vca_2_21 = 3800           # V\n",
        "Ica_2_21 = 0.58           # A\n",
        "Pca_2_21 = 603            # W\n",
        "\n",
        "# Ensaio de curto-circuito (Lado de Alta Tensão - 6.4 kV)\n",
        "Vcc_2_21 = 372            # V\n",
        "Icc_2_21 = 27.3           # A\n",
        "Pcc_2_21 = 543            # W\n",
        "\n",
        "# Relação de espiras (a = N_HV/N_LV)\n",
        "a_2_21 = V1_2_21 / V2_2_21\n",
        "print(f\"\\nExercicio 2.21:\")\n",
        "print(f\"Relação de espiras (a = N_HV/N_LV): {a_2_21:.4f}\")\n",
        "\n",
        "# a. Calcule a impedância em série equivalente do transformador referida aos\n",
        "# terminais de alta tensão.\n",
        "\n",
        "# O ensaio de curto-circuito foi realizado no lado de alta tensão.\n",
        "# As leituras do ensaio de curto-circuito fornecem diretamente a impedância série equivalente referida ao lado onde o ensaio foi realizado (lado de alta tensão).\n",
        "# Zcc_HV = Vcc / Icc\n",
        "Zcc_HV_2_21 = Vcc_2_21 / Icc_2_21\n",
        "\n",
        "# Rcc_HV = Pcc / Icc^2\n",
        "Rcc_HV_2_21 = Pcc_2_21 / (Icc_2_21**2)\n",
        "\n",
        "# Xcc_HV = sqrt(Zcc_HV^2 - Rcc_HV^2)\n",
        "# Zcc_HV é a magnitude da impedância complexa.\n",
        "Xcc_HV_2_21 = np.sqrt(Zcc_HV_2_21**2 - Rcc_HV_2_21**2)\n",
        "\n",
        "# Impedância série equivalente referida ao lado de alta tensão (Zeq1)\n",
        "Zeq_HV_2_21 = Rcc_HV_2_21 + 1j * Xcc_HV_2_21\n",
        "\n",
        "print(f\"\\n(a) Impedância em série equivalente referida aos terminais de alta tensão:\")\n",
        "print(f\"  Magnitude (Zcc_HV): {Zcc_HV_2_21:.4f} Ω\")\n",
        "print(f\"  Resistência (Req_HV): {Rcc_HV_2_21:.4f} Ω\")\n",
        "print(f\"  Reatância (Xeq_HV): {Xcc_HV_2_21:.4f} Ω\")\n",
        "print(f\"  Impedância complexa (Zeq_HV): ({Zeq_HV_2_21.real:.4f} + {Zeq_HV_2_21.imag:.4f}j) Ω\")\n",
        "\n",
        "\n",
        "# b. Calcule a impedância em série equivalente do transformador referida aos\n",
        "# terminais de baixa tensão.\n",
        "\n",
        "# Referir a impedância série equivalente do lado HV para o lado LV\n",
        "# Zeq_LV = Zeq_HV / a^2\n",
        "Zeq_LV_2_21 = Zeq_HV_2_21 / (a_2_21**2)\n",
        "\n",
        "Req_LV_2_21 = Zeq_LV_2_21.real\n",
        "Xeq_LV_2_21 = Zeq_LV_2_21.imag\n",
        "\n",
        "print(f\"\\n(b) Impedância em série equivalente referida aos terminais de baixa tensão:\")\n",
        "print(f\"  Resistência (Req_LV): {Req_LV_2_21:.6f} Ω\")\n",
        "print(f\"  Reatância (Xeq_LV): {Xeq_LV_2_21:.6f} Ω\")\n",
        "print(f\"  Impedância complexa (Zeq_LV): ({Zeq_LV_2_21.real:.6f} + {Zeq_LV_2_21.imag:.6f}j) Ω\")\n",
        "\n",
        "# c. Fazendo as aproximações apropriadas, desenhe um circuito equivalente T\n",
        "# para o transformador. (Desenho não pode ser gerado, mas podemos calcular os valores dos ramos).\n",
        "\n",
        "# O ensaio de circuito aberto foi realizado no lado de baixa tensão.\n",
        "# As leituras do ensaio de circuito aberto fornecem a admitância de excitação (perdas no núcleo e magnetização) referida ao lado onde o ensaio foi realizado (lado de baixa tensão).\n",
        "# A admitância de excitação (Yex) = Gc - jBm\n",
        "# Potência no ensaio a vazio (Pca) representa as perdas no núcleo (Pc).\n",
        "# Pc = Vca * Ica * fp_vazio\n",
        "# fp_vazio = Pca / (Vca * Ica)\n",
        "fp_vazio_2_21 = Pca_2_21 / (Vca_2_21 * Ica_2_21)\n",
        "print(f\"\\n(c) Valores para o circuito equivalente T (referido ao lado BT):\")\n",
        "print(f\"  Fator de potência no ensaio a vazio: {fp_vazio_2_21:.4f}\")\n",
        "\n",
        "# A corrente no ensaio a vazio (Ica) tem duas componentes: corrente de perdas no núcleo (Ic) e corrente de magnetização (Im).\n",
        "# Ic = Ica * fp_vazio (componente em fase com a tensão)\n",
        "# Im = Ica * sin(arccos(fp_vazio)) (componente em quadratura com a tensão)\n",
        "theta_vazio_2_21 = np.arccos(fp_vazio_2_21)\n",
        "Ic_2_21 = Ica_2_21 * np.cos(theta_vazio_2_21) # Componente em fase (perdas no núcleo)\n",
        "Im_2_21 = Ica_2_21 * np.sin(theta_vazio_2_21) # Componente em quadratura (magnetização)\n",
        "print(f\"  Corrente de perdas no núcleo (Ic): {Ic_2_21:.4f} A\")\n",
        "print(f\"  Corrente de magnetização (Im): {Im_2_21:.4f} A\")\n",
        "\n",
        "\n",
        "# Resistência de perdas no núcleo referida ao lado BT (Rc2) = Vca / Ic\n",
        "Rc_LV_2_21 = Vca_2_21 / Ic_2_21\n",
        "\n",
        "# Reatância de magnetização referida ao lado BT (Xm2) = Vca / Im\n",
        "Xm_LV_2_21 = Vca_2_21 / Im_2_21\n",
        "\n",
        "print(f\"  Resistência de perdas no núcleo referida ao lado BT (Rc): {Rc_LV_2_21:.4f} Ω\")\n",
        "print(f\"  Reatância de magnetização referida ao lado BT (Xm): {Xm_LV_2_21:.4f} Ω\")\n",
        "\n",
        "# No circuito equivalente T (referido ao lado BT), temos:\n",
        "# - Ramo série primário (referido ao BT): R1' + jXl1' = Req_LV/2 + jXeq_LV/2 (aproximação de divisão igualitária)\n",
        "# - Ramo paralelo de excitação: Rc_LV em paralelo com jXm_LV\n",
        "# - Ramo série secundário (referido ao BT): R2 + jXl2 = Req_LV/2 + jXeq_LV/2 (aproximação de divisão igualitária)\n",
        "\n",
        "# Aproximação comum: dividir a impedância série total igualmente entre primário e secundário referidos ao mesmo lado.\n",
        "R1_prime_aprox_LV = Req_LV_2_21 / 2\n",
        "Xl1_prime_aprox_LV = Xeq_LV_2_21 / 2\n",
        "R2_aprox_LV = Req_LV_2_21 / 2\n",
        "Xl2_aprox_LV = Xeq_LV_2_21 / 2\n",
        "\n",
        "print(f\"\\n  Componentes série aproximadas (referidas ao lado BT):\")\n",
        "print(f\"  Resistência série do primário referido (R1'): {R1_prime_aprox_LV:.6f} Ω\")\n",
        "print(f\"  Reatância de dispersão do primário referido (Xl1'): {Xl1_prime_aprox_LV:.6f} Ω\")\n",
        "print(f\"  Resistência série do secundário (R2): {R2_aprox_LV:.6f} Ω\")\n",
        "print(f\"  Reatância de dispersão do secundário (Xl2): {Xl2_aprox_LV:.6f} Ω\")\n",
        "\n",
        "print(f\"\\n  Ramos do circuito equivalente T referido ao lado de baixa tensão:\")\n",
        "print(f\"  Ramo série do primário (referido): ({R1_prime_aprox_LV:.6f} + {Xl1_prime_aprox_LV:.6f}j) Ω\")\n",
        "print(f\"  Ramo de perdas no núcleo (Rc): {Rc_LV_2_21:.4f} Ω\")\n",
        "print(f\"  Ramo de magnetização (Xm): {Xm_LV_2_21:.4f}j Ω\")\n",
        "print(f\"  Ramo série do secundário: ({R2_aprox_LV:.6f} + {Xl2_aprox_LV:.6f}j) Ω\")\n"
      ],
      "metadata": {
        "id": "0UxDQaoCRaPh",
        "colab": {
          "base_uri": "https://localhost:8080/"
        },
        "outputId": "c381b90e-75a7-42d4-f369-de4c32d494dd"
      },
      "execution_count": 49,
      "outputs": [
        {
          "output_type": "stream",
          "name": "stdout",
          "text": [
            "\n",
            "Exercicio 2.21:\n",
            "Relação de espiras (a = N_HV/N_LV): 1.6842\n",
            "\n",
            "(a) Impedância em série equivalente referida aos terminais de alta tensão:\n",
            "  Magnitude (Zcc_HV): 13.6264 Ω\n",
            "  Resistência (Req_HV): 0.7286 Ω\n",
            "  Reatância (Xeq_HV): 13.6069 Ω\n",
            "  Impedância complexa (Zeq_HV): (0.7286 + 13.6069j) Ω\n",
            "\n",
            "(b) Impedância em série equivalente referida aos terminais de baixa tensão:\n",
            "  Resistência (Req_LV): 0.256851 Ω\n",
            "  Reatância (Xeq_LV): 4.796957 Ω\n",
            "  Impedância complexa (Zeq_LV): (0.256851 + 4.796957j) Ω\n",
            "\n",
            "(c) Valores para o circuito equivalente T (referido ao lado BT):\n",
            "  Fator de potência no ensaio a vazio: 0.2736\n",
            "  Corrente de perdas no núcleo (Ic): 0.1587 A\n",
            "  Corrente de magnetização (Im): 0.5579 A\n",
            "  Resistência de perdas no núcleo referida ao lado BT (Rc): 23946.9320 Ω\n",
            "  Reatância de magnetização referida ao lado BT (Xm): 6811.6186 Ω\n",
            "\n",
            "  Componentes série aproximadas (referidas ao lado BT):\n",
            "  Resistência série do primário referido (R1'): 0.128426 Ω\n",
            "  Reatância de dispersão do primário referido (Xl1'): 2.398479 Ω\n",
            "  Resistência série do secundário (R2): 0.128426 Ω\n",
            "  Reatância de dispersão do secundário (Xl2): 2.398479 Ω\n",
            "\n",
            "  Ramos do circuito equivalente T referido ao lado de baixa tensão:\n",
            "  Ramo série do primário (referido): (0.128426 + 2.398479j) Ω\n",
            "  Ramo de perdas no núcleo (Rc): 23946.9320 Ω\n",
            "  Ramo de magnetização (Xm): 6811.6186j Ω\n",
            "  Ramo série do secundário: (0.128426 + 2.398479j) Ω\n"
          ]
        }
      ]
    },
    {
      "cell_type": "markdown",
      "source": [
        "# Exercicio 2.22\n",
        "\n",
        "Uma tensão de 7,96 kV é aplicada ao enrolamento de baixa tensão de um\n",
        "transformador monofásico de 7,96 kV:39,8 kV, 60 Hz e 10 MVA com o\n",
        "enrolamento de alta tensão em circuito aberto, resultando uma corrente de\n",
        "17,3 A e uma potência de 48,0 kW. A seguir, o enrolamento de baixa tensão\n",
        "é colocado em curto-circuito e uma tensão de 1,92 kV é aplicada ao enrolamento de alta tensão resultando uma corrente de 252 A e uma potência de\n",
        "60,3 kW.\n",
        "\n",
        "\n",
        "a. Calcule os parâmetros dos circuitos equivalentes L das Figs. 2.12a e b,\n",
        "referidos ao enrolamento de alta tensão do transformador.\n",
        "\n",
        "\n",
        "b. Calcule os parâmetros de circuito equivalente L referidos ao enrolamento\n",
        "de baixa tensão do transformador.\n",
        "\n",
        "\n",
        "c. Com o transformador operando com a carga nominal e a tensão nominal em\n",
        "seu terminal de baixa tensão, calcule a potência dissipada no transformador."
      ],
      "metadata": {
        "id": "Qb040s4yRb8R"
      }
    },
    {
      "cell_type": "code",
      "source": [
        "# Exercicio 2.22\n",
        "\n",
        "# Dados do Exercicio 2.22\n",
        "V_LV_nominal_2_22 = 7960   # V (lado de baixa tensão)\n",
        "V_HV_nominal_2_22 = 39800  # V (lado de alta tensão)\n",
        "S_base_2_22 = 10e6        # VA\n",
        "f_2_22 = 60               # Hz\n",
        "\n",
        "# Ensaio de circuito aberto (Lado de Baixa Tensão - 7.96 kV, HV em aberto)\n",
        "Vca_LV = 7960             # V (Tensão aplicada no LV)\n",
        "Ica_LV = 17.3             # A (Corrente no LV)\n",
        "Pca_LV = 48.0e3           # W (Potência absorvida no LV)\n",
        "\n",
        "# Ensaio de curto-circuito (Lado de Alta Tensão - 39.8 kV, LV em curto)\n",
        "Vcc_HV = 1920             # V (Tensão aplicada no HV)\n",
        "Icc_HV = 252              # A (Corrente no HV)\n",
        "Pcc_HV = 60.3e3           # W (Potência absorvida no HV)\n",
        "\n",
        "# Relação de espiras (a = N_HV/N_LV)\n",
        "a_2_22 = V_HV_nominal_2_22 / V_LV_nominal_2_22\n",
        "print(f\"\\nExercicio 2.22:\")\n",
        "print(f\"Relação de espiras (a = N_HV/N_LV): {a_2_22:.4f}\")\n",
        "\n",
        "# a. Calcule os parâmetros dos circuitos equivalentes L das Figs. 2.12a e b,\n",
        "# referidos ao enrolamento de alta tensão do transformador.\n",
        "# (Fig. 2.12a: Circuito equivalente aproximado referido ao primário (HV)).\n",
        "# (Fig. 2.12b: Circuito equivalente aproximado referido ao secundário (LV)).\n",
        "# Os parâmetros são Req, Xeq, Rc, Xm.\n",
        "\n",
        "# Parâmetros série equivalente (obtidos do ensaio de curto-circuito no HV)\n",
        "Zcc_HV_2_22 = Vcc_HV / Icc_HV\n",
        "Rcc_HV_2_22 = Pcc_HV / (Icc_HV**2)\n",
        "Xcc_HV_2_22 = np.sqrt(Zcc_HV_2_22**2 - Rcc_HV_2_22**2)\n",
        "\n",
        "# No circuito equivalente L referido ao lado de alta tensão (Fig 2.12a),\n",
        "# Req e Xeq são obtidos diretamente do ensaio de curto-circuito no HV.\n",
        "Req_HV_a = Rcc_HV_2_22\n",
        "Xeq_HV_a = Xcc_HV_2_22\n",
        "Zeq_HV_a = Req_HV_a + 1j * Xeq_HV_a\n",
        "\n",
        "print(f\"\\n(a) Parâmetros do circuito equivalente L referidos ao lado de alta tensão (HV):\")\n",
        "print(f\"  Resistência série equivalente (Req_HV): {Req_HV_a:.4f} Ω\")\n",
        "print(f\"  Reatância série equivalente (Xeq_HV): {Xeq_HV_a:.4f} Ω\")\n",
        "\n",
        "# Parâmetros paralelos de excitação (obtidos do ensaio de circuito aberto no LV, e depois referidos ao HV)\n",
        "# Primeiro, calcule os parâmetros a vazio referidos ao lado LV.\n",
        "# Pca_LV representa as perdas no núcleo (Pc_LV).\n",
        "# Ic_LV = Pc_LV / Vca_LV\n",
        "Ic_LV_2_22 = Pca_LV / Vca_LV\n",
        "# Rc_LV = Vca_LV / Ic_LV\n",
        "Rc_LV_2_22 = Vca_LV / Ic_LV_2_22\n",
        "\n",
        "# Corrente de magnetização no LV (Im_LV)\n",
        "# Ica_LV é a corrente total de excitação no LV.\n",
        "# Ica_LV^2 = Ic_LV^2 + Im_LV^2\n",
        "Im_LV_2_22 = np.sqrt(Ica_LV**2 - Ic_LV_2_22**2)\n",
        "# Xm_LV = Vca_LV / Im_LV\n",
        "Xm_LV_2_22 = Vca_LV / Im_LV_2_22\n",
        "\n",
        "# Agora, referir os parâmetros de excitação para o lado HV.\n",
        "# Rc_HV = Rc_LV * a^2\n",
        "Rc_HV_a = Rc_LV_2_22 * (a_2_22**2)\n",
        "# Xm_HV = Xm_LV * a^2\n",
        "Xm_HV_a = Xm_LV_2_22 * (a_2_22**2)\n",
        "\n",
        "print(f\"  Resistência de perdas no núcleo (Rc_HV): {Rc_HV_a:.2f} Ω\")\n",
        "print(f\"  Reatância de magnetização (Xm_HV): {Xm_HV_a:.2f} Ω\")\n",
        "\n",
        "# b. Calcule os parâmetros de circuito equivalente L referidos ao enrolamento\n",
        "# de baixa tensão do transformador.\n",
        "# (Fig. 2.12b: Circuito equivalente aproximado referido ao secundário (LV)).\n",
        "\n",
        "# Parâmetros série equivalente referidos ao lado LV.\n",
        "# Referir os parâmetros série do HV para o LV.\n",
        "# Req_LV = Req_HV / a^2\n",
        "Req_LV_b = Req_HV_a / (a_2_22**2)\n",
        "# Xeq_LV = Xeq_HV / a^2\n",
        "Xeq_LV_b = Xeq_HV_a / (a_2_22**2)\n",
        "Zeq_LV_b = Req_LV_b + 1j * Xeq_LV_b\n",
        "\n",
        "print(f\"\\n(b) Parâmetros do circuito equivalente L referidos ao lado de baixa tensão (LV):\")\n",
        "print(f\"  Resistência série equivalente (Req_LV): {Req_LV_b:.6f} Ω\")\n",
        "print(f\"  Reatância série equivalente (Xeq_LV): {Xeq_LV_b:.6f} Ω\")\n",
        "\n",
        "# Parâmetros paralelos de excitação referidos ao lado LV.\n",
        "# Estes são obtidos diretamente do ensaio de circuito aberto no LV.\n",
        "Rc_LV_b = Rc_LV_2_22\n",
        "Xm_LV_b = Xm_LV_2_22\n",
        "\n",
        "print(f\"  Resistência de perdas no núcleo (Rc_LV): {Rc_LV_b:.4f} Ω\")\n",
        "print(f\"  Reatância de magnetização (Xm_LV): {Xm_LV_b:.4f} Ω\")\n",
        "\n",
        "# c. Com o transformador operando com a carga nominal e a tensão nominal em\n",
        "# seu terminal de baixa tensão, calcule a potência dissipada no transformador.\n",
        "\n",
        "# \"Carga nominal\" significa que a potência aparente entregue à carga é S_base_2_22 = 10 MVA.\n",
        "# \"Tensão nominal em seu terminal de baixa tensão\" significa que V_carga_LV = V_LV_nominal_2_22 = 7960 V.\n",
        "\n",
        "# A potência dissipada no transformador consiste nas perdas no cobre (nos enrolamentos)\n",
        "# e nas perdas no núcleo (perdas por histerese e correntes parasitas).\n",
        "\n",
        "# Perdas no cobre: Dependem da corrente. Na carga nominal, as correntes nos enrolamentos\n",
        "# são aproximadamente as correntes nominais.\n",
        "# Corrente nominal no lado de baixa tensão (LV)\n",
        "I_LV_nominal_2_22 = S_base_2_22 / V_LV_nominal_2_22\n",
        "\n",
        "# A resistência equivalente referida ao lado LV é Req_LV_b.\n",
        "# As perdas no cobre totais podem ser calculadas como (Corrente)^2 * (Resistência equivalente).\n",
        "# Se a corrente no lado LV é I_LV_nominal, as perdas no cobre são:\n",
        "# P_cobre = I_LV_nominal^2 * Req_LV (referido ao LV)\n",
        "P_cobre_c = I_LV_nominal_2_22**2 * Req_LV_b\n",
        "\n",
        "# Perdas no núcleo: Dependem da tensão e frequência.\n",
        "# Assumindo que a tensão no lado LV é nominal (7960 V), a densidade de fluxo\n",
        "# no núcleo é nominal, e as perdas no núcleo são aproximadamente as perdas medidas no ensaio a vazio\n",
        "# sob tensão nominal. O ensaio a vazio foi realizado a 7.96 kV no LV.\n",
        "Pc_c = Pca_LV\n",
        "\n",
        "# Potência total dissipada no transformador = Perdas no cobre + Perdas no núcleo.\n",
        "P_dissipada_total_c = P_cobre_c + Pc_c\n",
        "\n",
        "print(f\"\\n(c) Potência dissipada no transformador com carga nominal e tensão nominal no terminal LV:\")\n",
        "print(f\"  Corrente nominal no lado LV: {I_LV_nominal_2_22:.2f} A rms\")\n",
        "print(f\"  Perdas no cobre (Pcobre): {P_cobre_c:.2f} W\")\n",
        "print(f\"  Perdas no núcleo (Pnucleo): {Pc_c:.2f} W\")\n",
        "print(f\"  Potência total dissipada: {P_dissipada_total_c:.2f} W\")\n"
      ],
      "metadata": {
        "colab": {
          "base_uri": "https://localhost:8080/"
        },
        "id": "098gCRFzz9UF",
        "outputId": "590c47be-b411-47e2-c877-27cab68bde4f"
      },
      "execution_count": 50,
      "outputs": [
        {
          "output_type": "stream",
          "name": "stdout",
          "text": [
            "\n",
            "Exercicio 2.22:\n",
            "Relação de espiras (a = N_HV/N_LV): 5.0000\n",
            "\n",
            "(a) Parâmetros do circuito equivalente L referidos ao lado de alta tensão (HV):\n",
            "  Resistência série equivalente (Req_HV): 0.9495 Ω\n",
            "  Reatância série equivalente (Xeq_HV): 7.5596 Ω\n",
            "  Resistência de perdas no núcleo (Rc_HV): 33000.83 Ω\n",
            "  Reatância de magnetização (Xm_HV): 12272.56 Ω\n",
            "\n",
            "(b) Parâmetros do circuito equivalente L referidos ao lado de baixa tensão (LV):\n",
            "  Resistência série equivalente (Req_LV): 0.037982 Ω\n",
            "  Reatância série equivalente (Xeq_LV): 0.302386 Ω\n",
            "  Resistência de perdas no núcleo (Rc_LV): 1320.0333 Ω\n",
            "  Reatância de magnetização (Xm_LV): 490.9025 Ω\n",
            "\n",
            "(c) Potência dissipada no transformador com carga nominal e tensão nominal no terminal LV:\n",
            "  Corrente nominal no lado LV: 1256.28 A rms\n",
            "  Perdas no cobre (Pcobre): 59944.60 W\n",
            "  Perdas no núcleo (Pnucleo): 48000.00 W\n",
            "  Potência total dissipada: 107944.60 W\n"
          ]
        }
      ]
    },
    {
      "cell_type": "markdown",
      "source": [
        "# Exercicio 2.23\n",
        "\n",
        "Os seguintes dados foram obtidos para um transformador monofásico de 2,5\n",
        "MVA, 50 Hz, 19,1 kV:3,81 kV em um ensaio a 50 Hz:\n",
        "\n",
        "\n",
        "![Screenshot_1780.png](data:image/png;base64,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)\n",
        "\n",
        "a. Calcule os parâmetros dos circuitos equivalentes L das Figs. 2.12a e b,\n",
        "referidos ao enrolamento de alta tensão do transformador.\n",
        "\n",
        "\n",
        "b. Calcule os parâmetros de circuito equivalente L referidos ao enrolamento\n",
        "de baixa tensão do transformador.\n",
        "\n",
        "\n",
        "c. Com o transformador operando com a carga nominal e a tensão nominal em\n",
        "seu terminal de baixa tensão, calcule a potência dissipada no transformador."
      ],
      "metadata": {
        "id": "Yc1LOrLnR_lc"
      }
    },
    {
      "cell_type": "code",
      "source": [
        "#codigo"
      ],
      "metadata": {
        "id": "qLFdxq9lSPo2"
      },
      "execution_count": null,
      "outputs": []
    },
    {
      "cell_type": "markdown",
      "source": [
        "# Exercicio 2.24\n",
        "\n",
        "Escreva um script de MATLAB para calcular os parâmetros dos circuitos\n",
        "equivalentes T das Figs. 2.12a e b, com os parâmetros referidos ao enrolamento de alta tensão e baseado nos seguintes dados de um ensaio:\n",
        "\n",
        "Tensão, corrente e potência de um ensaio de circuito aberto realizado\n",
        "no enrolamento de baixa tensão (enrolamento de alta tensão em circuito\n",
        "aberto)\n",
        "\n",
        "\n",
        "Tensão, corrente e potência de um ensaio de curto-circuito realizado no enrolamento de baixa tensão (enrolamento de alta tensão em curto-circuito)\n",
        "Teste o seu script com as medições feitas no transformador do Problema 2.22"
      ],
      "metadata": {
        "id": "x2OYH9TTSRRY"
      }
    },
    {
      "cell_type": "code",
      "source": [
        "#Codigo"
      ],
      "metadata": {
        "id": "sqYw61ZhStTe"
      },
      "execution_count": null,
      "outputs": []
    },
    {
      "cell_type": "markdown",
      "source": [
        "# Exercicio 2.25\n",
        "\n",
        "O enrolamento de alta tensão do transformador do Problema 2.22 é substituído\n",
        "por um outro enrolamento idêntico com o dobro de espiras e um fio com metade da área da seção reta.\n",
        "\n",
        "\n",
        "a. Calcule a tensão e potência nominais desse transformador modificado.\n",
        "\n",
        "\n",
        "b. Com o enrolamento de alta tensão em circuito aberto e com a tensão nominal aplicada ao enrolamento de baixa tensão, calcule a corrente e a potência fornecidas ao enrolamento de baixa tensão.\n",
        "\n",
        "\n",
        "c. Com o enrolamento de baixa tensão em curto-circuito, calcule a tensão\n",
        "aplicada ao enrolamento de alta tensão que resultará em uma dissipação de\n",
        "curto-circuito de 60,3 kW.\n",
        "\n",
        "\n",
        "d. Calcule os parâmetros de circuito equivalente T desse transformador referidos a (i) lado de baixa tensão e (ii) lado de alta tensão."
      ],
      "metadata": {
        "id": "SXRRSAjiS7qb"
      }
    },
    {
      "cell_type": "code",
      "source": [
        "#Codigo aqui"
      ],
      "metadata": {
        "id": "O75Sc75ddfr-"
      },
      "execution_count": null,
      "outputs": []
    },
    {
      "cell_type": "markdown",
      "source": [
        "# Exercicio 2.26\n",
        "\n",
        "(a) Determine o rendimento e a regulação de tensão do transformador do Problema 2.20 se ele estiver fornecendo a carga nominal (fator de potência unitário) com tensão nominal em seus terminais de baixa tensão.\n",
        "\n",
        "(b) Repita a parte\n",
        "(a), assumindo que a carga está com um fator de potência de 0,9 adiantado."
      ],
      "metadata": {
        "id": "azE3uDDhdg_3"
      }
    },
    {
      "cell_type": "code",
      "source": [
        "#Codigo aqui"
      ],
      "metadata": {
        "id": "OnHz2WgSd_3c"
      },
      "execution_count": null,
      "outputs": []
    },
    {
      "cell_type": "markdown",
      "source": [
        "# Exercicio 2.27\n",
        "\n",
        "Assuma que o transformador do Problema 2.23 está operando com a tensão\n",
        "nominal e com uma carga que consome a corrente nominal em seus terminais\n",
        "de baixa tensão. Escreva um script de MATLAB para plotar (a) o rendimento\n",
        "e (b) a regulação de tensão do transformador como função do fator de potência da carga, quando o fator de potência varia desde 0,75 atrasado, passa pela\n",
        "unidade e chega a 0,55 adiantado"
      ],
      "metadata": {
        "id": "A8S-dvhweBGd"
      }
    },
    {
      "cell_type": "code",
      "source": [
        "#Codigo aqui"
      ],
      "metadata": {
        "id": "b8QD1014eGyz"
      },
      "execution_count": null,
      "outputs": []
    },
    {
      "cell_type": "markdown",
      "source": [
        "# Exercicio 2.28\n",
        "\n",
        "Os seguintes dados foram obtidos para um transformador de distribuição de 25\n",
        "kVA, 60 Hz e 2400:240 V em um ensaio a 60 Hz:\n",
        "\n",
        "![Screenshot_1795.png](data:image/png;base64,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)\n",
        "\n",
        "a. Compute o rendimento do transformador quando ele está operando na tensão nominal de terminal com uma carga de fator de potência 0,85 (atrasado) em seus terminais de secundário que estão absorvendo a corrente de\n",
        "plena carga.\n",
        "\n",
        "\n",
        "b. Observa-se que o transformador está operando com tensão nominal em\n",
        "seus terminais primário e secundário e abastecendo uma carga em seus terminais de secundário que consome a corrente nominal. Calcule o fator de\n",
        "potência da carga (SUGESTÃO: Use MATLAB para encontrar a solução)."
      ],
      "metadata": {
        "id": "F4v7cKeCeHtj"
      }
    },
    {
      "cell_type": "code",
      "source": [
        "#Codigo aqui"
      ],
      "metadata": {
        "id": "Su34afV-eROq"
      },
      "execution_count": null,
      "outputs": []
    },
    {
      "cell_type": "markdown",
      "source": [
        "# Exercicio 2.29\n",
        "\n",
        "Um transformador monofásico de distribuição com 150 kVA, 240 V:7970 V e\n",
        "60 Hz tem os seguintes parâmetros referidos ao lado de alta tensão:\n",
        "\n",
        "R1 = 2,81 Ω \t X1 = 21,8 Ω\n",
        "R2 = 2,24 Ω\t X2 = 20,3 Ω\n",
        "Rc = 127 Ωk\t Xm = 58,3 Ωk\n",
        "\n",
        "\n",
        "Suponha que o transformador esteja fornecendo a sua potência aparente nominal (kVA) em seus terminais de baixa tensão. Escreva um script de MATLAB\n",
        "para determinar o rendimento e a regulação do transformador para qualquer\n",
        "fator de potência de carga especificado (adiantado ou atrasado). Você pode\n",
        "usar aproximações razoáveis de engenharia para simplificar a sua análise. Use\n",
        "o seu script de MATLAB para determinar o rendimento e a regulação de uma\n",
        "carga com fator de potência 0,92 adiantado\n"
      ],
      "metadata": {
        "id": "4x-NYrcUeTUs"
      }
    },
    {
      "cell_type": "code",
      "source": [
        "#Codigo aqui"
      ],
      "metadata": {
        "id": "kqjigZu-ei2f"
      },
      "execution_count": null,
      "outputs": []
    },
    {
      "cell_type": "markdown",
      "source": [
        "# Exercicio 2.30\n",
        "\n",
        "Um transformador monofásico de 45 kVA, 120 V:280 V deve ser conectado\n",
        "como um autotransformador de 280 V:400 V. Determine as tensões nominais\n",
        "dos enrolamentos de alta e baixa tensões para essa conexão e a potência aparente nominal (em kVA) dessa conexão em forma de autotransformador."
      ],
      "metadata": {
        "id": "boZZWsmXej1_"
      }
    },
    {
      "cell_type": "code",
      "source": [
        "#codigo aqui"
      ],
      "metadata": {
        "id": "Hpk93ZzCeoFn"
      },
      "execution_count": null,
      "outputs": []
    },
    {
      "cell_type": "markdown",
      "source": [
        "# Exercicio 2.31\n",
        "\n",
        "Um transformador monofásico de 120:480 V e 10 kVA deve ser usado como\n",
        "autotransformador para fornecer 480 V a um circuito a partir de uma fonte de\n",
        "600 V. Quando testado como um transformador de dois enrolamentos usando\n",
        "a carga nominal e fator de potência unitário, seu rendimento é 0,982.\n",
        "\n",
        "a. Faça um diagrama das conexões do autotransformador.\n",
        "\n",
        "\n",
        "b. Determine a sua potência nominal (em kVA) como autotransformador.\n",
        "\n",
        "\n",
        "c. Encontre seu rendimento como autotransformador quando está operando\n",
        "com carga aparente nominal (kVA), fator de potência 0,93 adiantado e\n",
        "480 V, conectada ao enrolamento de baixa tensão.\n"
      ],
      "metadata": {
        "id": "vVJjkc2leq_W"
      }
    },
    {
      "cell_type": "code",
      "source": [
        "#Codigo aqui"
      ],
      "metadata": {
        "id": "sIM3GvshexNa"
      },
      "execution_count": null,
      "outputs": []
    },
    {
      "cell_type": "markdown",
      "source": [
        "# Exercicio 2.32\n",
        "\n",
        "Considere o transformador de 8 kV:78 kV e 25 MVA do Problema 2.20 conectado como autotransformador de 78 kV:86 kV.\n",
        "\n",
        "\n",
        "a. Determine as tensões nominais dos enrolamentos de alta e baixa tensão para\n",
        "esse tipo de conexão e também a potência aparente nominal (em MVA).\n",
        "\n",
        "\n",
        "b. Calcule o rendimento do transformador com essa conexão quando está suprindo a sua carga nominal com um fator de potência unitário."
      ],
      "metadata": {
        "id": "Qiv95DGaeyS7"
      }
    },
    {
      "cell_type": "code",
      "source": [
        "#Codigo aqui"
      ],
      "metadata": {
        "id": "5HSb56gqe3az"
      },
      "execution_count": null,
      "outputs": []
    },
    {
      "cell_type": "markdown",
      "source": [
        "# Exercicio 2.33\n",
        "\n",
        "Para um transformador monofásico, escreva um script de MATLAB cujas entradas são as suas especificações nominais (tensão e kVA) e o rendimento para\n",
        "a carga nominal e fator de potência unitário. As saídas do script são as especificações nominais do transformador e o seu rendimento quando ele está operando\n",
        "com carga nominal e fator de potência unitário e está conectado como autotransformador. Teste seu programa com o autotransformador do Problema 2.32"
      ],
      "metadata": {
        "id": "WUlqS_rte4oE"
      }
    },
    {
      "cell_type": "code",
      "source": [
        "#Codigo aqui"
      ],
      "metadata": {
        "id": "wLUKiSaLe8ta"
      },
      "execution_count": null,
      "outputs": []
    },
    {
      "cell_type": "markdown",
      "source": [
        "# Exercicio 2.34\n",
        "\n",
        "Os terminais de alta tensão de um banco trifásico de três transformadores monofásicos são abastecidos a partir de um sistema de três fios e três fases de\n",
        "13,8 kV (de linha). Os terminais de baixa tensão devem ser conectados a uma\n",
        "carga (subestação) de três fios e três fases, de até 4500 kVA em 2300 V (de\n",
        "linha). Obtenha as especificações nominais necessárias de tensão, corrente e\n",
        "potência aparente (em kVA) de cada transformador (os enrolamentos de alta e\n",
        "baixa tensão) para as seguintes conexões:\n",
        "\n",
        "![Screenshot_1796.png](data:image/png;base64,iVBORw0KGgoAAAANSUhEUgAAAoMAAAC9CAYAAADIgXd6AAAAAXNSR0IArs4c6QAAAARnQU1BAACxjwv8YQUAAAAJcEhZcwAADsMAAA7DAcdvqGQAADH4SURBVHhe7d33V1P5ogXw95+QkFAVK4pdrCigiBU7OvY6Y+8jOiqKvc6oVBWVpoIoKIxlpChFQUFBegI646zrnTvq1Qe8/dZJTkIIAU5GxEj2Z639Cwkhp33Pzinhf0BEREREVut/jH9ARERERNaDZZCIiIjIirEMEhEREVkxlkEiIiIiK8YySERERGTFWAaJiIiIrBjLIBEREZEVYxkkIiIismIsg0RERERWjGWQiIiIyIqxDBIRERFZMZZBIiIiIivGMkhERERkxVgGiYiIiKwYyyARERGRFWMZJCIiIrJiLINEREREVkxfBp89fYa9ewIZhmEYhmEYC8i+wMDGre0L0ZfB6MtRUNjIGIZhGIZhGAtJe9CXwaSbN+HpMYphGIZhGIaxkLQHfRl8/+EDal69ZhiGYRiGYSwk7YFlkGEYhmEYxkLTHlgGGYZhGIZhLDTtgWWQYRiGYRjGQtMeWAYZhmEYhmEsNO2BZZBhGIZhGMZC0x5YBhmGYRiGYSw07YFlsC1SlYHo48dw7KiUnEDk3ZKmr9FOqUyPwQkLeS8dJtUFSA493mgZX7xX2vR5bR2j9e7EhXsoNn5OR01ZLpIiIxCZkI4ClfZn6hf3EBWbjlLj51pUVEiPPmFiXDCdr7pMrXn9+mKpwdPkMBw3XMaR91HS5HlSo0ZmzMmG1zsWhqRnNSaeZ35K7gdj88L5+OHgDTyrbvq4VcRCxpn2wDLYFqkuweO7V7B/ei/Y6b413HYg5u0PxYXISJwLOYX9W5dgQm8HKGwU8NmXBZXxa7RT1MUZCFnQV3yfCowLyv5q76VtU4P8hAhce1xt4rEvHRWKcu4gZMlA2Ovm6/6cLz9fq18iPXgh+su165z9mP3IUhs+58vME3X+dURcffLlp6+5VKZit2cnKDXzWo5Obr5Yvj0QW6cNxOhtv6LK+PkWlRoUP76HuKAZcBOXm7C+DJ57AKEXLiIyIhSngrZh6Tg3OAnL1DsIjxot03ZMq+vXN5zqp0gIv4bHX2F6Koty8WvIUgy2Fefr2API/oz3UZIViw0j7fT7nU3JqibPMTvVT3BsvLC/El7THVtvt8FrmpUvM3aZFQsaZ9oDy2Abpuz8fHQVy6DSZSEuVjR+XF0QhzWDnb5qGRRScnYmHDtYGazKPI5p3Qe3zUD4D1MaMkuzA2+3MiikNBizlKZ31l9knqge4rhfDwzZeAuVxo+1U0oiF2PY5F24FBuBoOXjMcDRFgobW3T12Ii4grY5KvLFU34BCzqJZVDWBYsiKxs/Xl2IuFXu6Pw1y6CQFtavbzdqZB6bil6DNiG5yvixdkpZKPzt2qYM1ryqQuwyV+0H/LYqg6+KELmgp7YIOY3H4YftW8q+yNhlZixpnGkPLINtmPLLi9FTpiuDi3BJXwYrUPCsBGrhFMEvszH1K5fB0uCOVQbVhfHYONyhDQfCf5aykNntXwbLQkzurL/IPKl+jvj1I+Bso4D7VyyDVUX5yH/ZsHNSlxUg69FTlHxLp7IqorCkq1xfBhdfbCiDZQUFKK5+DfWz0/Cf/JXLYDPr17ebGhRc2wAPexnsB3zFMlgeCn/7tiuDccvFs1Jtub2XZSMxIhwxvxVBbfzYF8wXGbv+QSxpnGkPLINtmGbLYFEI5s87q7neRv0kBmFXCjQbV9mzXDx6+AiZQh7lokB4fkkOki+HI/R8IjJfNrx2VXFew3MfZiG/RLim5xnuREcgLOYBigxWUHVpruY1zp6NQPTtJ02ubWi+DNagJOc2YiKCcebsOUTF38XjUoNPQNWlyH+kew+P8OhJMapeVeNFeiIuhgQj4mo6XugGtepS5NyOQnh4HO4XmP5UWf4sHTcuhSPsQjx+K1Drf27OfFE/jcUmD/FQvm0/rLyQgcxHT1FsOLhWlyE7OQrhZ4IRHp2Cx2VN30uNqhBp1y8jLDgCsalPUFKcgbuZ5U2fZxh1CbJTYhERdgm3citQ2mIZrMSztJu4FBaGyGsP9NeftJxWlocQEzvr1ueJhNc1TvUzxG4YhS6a9VuBgcsjkS6shwaDZfPTWIFnOVkN603Oc5QLn7yzbyEqLBQXrj9sei1aa8ujuhTZt2Jx7uwZBEdEIf7Ok2YH6da2h6+SZstgMUK+m4+zwjpenYfo0Kva67XKC5Ct3/aykFMoPL9Uu16HXMD1TINrf1Uv8dhwO30qXL+qQv6dGISHxuK3IsNtupVtw8T61fC7LS2DGpTkNyzzzEd5KFK9hupFBhIjQxEcfg1pL3TrjrA+piAqPAJx9wtNf4iqKEDajcsID41E/G+FDafozJkvwqnHmI3wdNbOd/u+K3Ah/REe5ZcYjYHCenkWweExuP3Y1BigRkFaIi6FhiAi5lc8Ln2JtLsPW1mvqlGck4rY8HBcuvUYZcKRwZbKYHPTazJGZTCpAgW/XcW5YGHbykSR8WsL20RJLm7FnEPw6WCcu5yAO4/LDAqf8bJ7giKhNKuKG61Xum25rPw5cnQ/f/QEL3QFu8X1w3RaH7tamDdmrQti2myckbLe/PO0B5bBNozpMliDx2dno8+MM0Y7vGo8vhqI2X0V2h2CbX+sPLIXM9wcxOvOZHDo5Y8zWdqSVHI3GN97dBavX3DA7MNR2ObZRbz2zxkTDz2C6lUl0s6uwGgXB7jPO4Cws7sw080ePT1XI+Jhlf5vmyyDVQ8RsnQ4eg6ci6CQSIQf+h7eLnLYu4zA8rMZqNA8Jx0R63zRS3cN0ehNOLlpLFyVwuFz7eu5zTqNzCex2OjhAntxXti5+GJvquEGVoArP45Hb3s3zNodipCfpqFPpyFYHpqlKZfS54sKt4NmY5SreL2MjQP6eozDhImbcLlIXCbpwVg5sgucB87HwdBg7JreB07dvLAm/JF2ml69hir3AlaN7IY+E7fiVPDP+GnhSPRQOGD8gdwmy1gX9bME/DSpl+Y9OfVwh8ewMVjsPwoOJsqg+tlVBPi6wqn3TOwJCcWuqb3Q1X0Zwh41FOAmkbI8hDTZWbcyT6S+rlEqb++H/4he4nojg3PvURg/bhI2XS5ufRrVT3Btz0wM1F0j1W8FjgZOQz97cRnbKNF39hlkieWxteVRmRmK5cO6w31OEEIvRODISk90kynQbfgyBKc3rOdCOZWyPXyVNFMG1U+C4e86E2cMPvAIUT2+hsAZ/fTXpA5cfhT7pvaBszhPFYremHM6W7tjLLmH4BWj0FXc/pxmHMHlLV7oJm63Lr6HkamWtm00Xb+0P299GaiQFr4eE7qLY4OtJzaf2Ixx3e3011Xbu87G6cw8xKwfhW624ryQd8GEwF8NilUNnl7Zjok9HdB3xh6EhuzCdNfOGLY0DI+EcmnOfKlKwf5ZI+EmTo/C3g2ePr6YsjEKRZplkoHg5R7obj8IC/eHIfinGehn1x1jVkUgs1J8P+rHuPC9B3q6TsK2kyH4eecijOqihJPPQeSYLAna8S5+52S4Ce/JvieGDR8On4Vz4KkQ50OjMtjy9DZ5bU0MyqC8B8ZMnYxxXqPQz0mYpwr08NyEmKe6DwAqZIYsw8hugzBvXyguhB/GD6O7QGnbBR5Lg5GumU4V0iLWY3w33bIbhd1p1ah5+StOzBmoHwMUyuFYdioZ+fnJOL3KG11te8Bn+Qkkv6iRsH4YT4P277Y4drUyb8xaF9pynJGy3nxm2gPLYBvGsAwqnP2wNzYGIYFL4Okih+M04zIopAqJa/qJg6MDBs4KQmJ+BZ5eWIQ+moHbFm7L48SBuQbPjk8Wy4YtuvWbglU/rYGvi3aDH7TuBvKiVmh3uI7TcaZQ+zs5B8Zpfsdh0DrEF2v/rqkyWBA8W7PzsB+8ATdKte/tykpxgHHyw6k8cTCpuITFmr8pg9JpMBYeTUFBRR6CZ/fQFlVZZ7hP24aLD8tQkrINHuKG2HnaGRRoBstqZB33Qzfhb3nswgNhgKuMx6retlB2mozj2cLRAnPmS/OnSNSF0VjZTygcTph5+rn2ZzkHMV4YhBWDsT7+JWpelSF6qSvs5L3wwxVxA68uRNTSgZjQXBlU5+LU1C6a6bXrMRfh+TWoUefjwsI+DTfm6MqgOhsnpgjPVcDzpzTNQFRx7Qf0lcvRddLxpkcExEheHiZ31s3PE8mvayIVsSvEmx6MThNLmcbKRKzrK+5c7PvDf18i8ssLcGGhbifWCytjhfnf2vJ4jpBZwociBYauv6m9C7PyKn5w1b525ymnkKdZz2pQIHF7+CoxLIM2nTAtMA7RIXux1KMLlMrpTcqgkIrrazFQLHTO/WYj6PpTlD2LxGJx2u1cVyBO3Pmon53AFLFs2Ln0x9Tvd2HtWO06a99/PRLzpGwbza1fUpdBJS4t1P5NhcwZQ+Yfw+3CSjw+6w9XzTgpR9cB0/Fj5COUlKTix+HihwNheYnXZKmyTmCaMN7YjsKuB8KHpyrEf+8GO1ln+B3TbmPmzJeayjisFH/e6DRx9XNEL++vKRKasUrzs1wc9FFqPqwMWZugKYwlUcvQW26LPiuv6sflgsvL4O7bXBmsRvbJaeguTK+8J+aFPYX6VTXyzi9CP92HaoMyKGV6m/4Ng+1d1glTjmqfV3JzE4Zrxl85es4K1i6TwhD4dxJe3x0bb5Rp16sr34vjqjOmncwXjxBW4NwcZ+3y0JVB4eflKQjwEG8skbtifvgzqF+VIHGjD6bsvYcyze9KXT9MpfmxS8q8kb4utNE4I3G9aTqd5qU9sAy2YRqVQfvh+G7dKszz6qU5dWi6DKpwc514B6q8D9bEiytl4Sn4iQOww6STYol6jaKfp+pL3MC1N1DxqgYvbgdjX+BZ3Mp/gD2jtZ+o7Advxm1xkNPulIXfccCEg9ri17QM1iDv2GQ4Cz9TeGNfhrDhq3B7i7v2vdn2x/pEcaOsiMHy7uJplsFbxL9Tjcy93uInMgf4h4pHASuisLSb+NxhO3BPKH5Vt7FlkHbQ7+wfoR081BnY4yH8TAmffcIRTnPmS3ODhxppuz2102nrji26u+GE4tlLu0E7+x5CVmUmAj2Fvy1H11FrEZGm/UoYVdZlhCUWNVnGQqruBGCkOMj2WHBRfxTD1DWDlbc2Y4jmuU6YG16hfe303fAUfqYYgyCTF2absTxM7qybmydmvK6JNFcGJU1jVRI2DNAudzu31YgXd84FJyeL66ISU04UQq1uZXlU5+P4JO3OyMFrLzKE6a1KwbbB2te277cOiZpTWumStwfj6WyXNCqDDhjpvx6r53jDTbipoJkyWHlzvXgHqi36rUoQy8hznJokHklRTMZJ3YXtRb9gmm69EOZJpfCVGCkIDtyLs7ee4jcp24Ywb02tX1KXwatKRC8VPyQa3JGqergPY8UPic6zwsTtpxJRi7uLzx2OHfe0R/5vbRqsXTcd5yC8XHheNdJ2jdL8zME7SHOE06z50kwZrErbA2/NdCowdFOKuG4LZaO3djuyH49DWVXI2OOl+dvKTqOxLjxdWxLU2bgUegMvTBUc1V0EDNPOF2WXhbioOw1v8ppBadPb5G80t72rHuCnkWLBVvrgYFY11HnHMUXzd5UYG5ipHaNub8UwzfzT7le0016JC/M6a3/XsAwK+4/kbfAQb36xc/0OR44vw8Ql5/BYN/2S1w9TaWZaJM4byetCG40z0tYbU2O8eWkPLINtGNOniV8iYZ07XFotg32xJkEsPS9+1g/kDhOO42mTMqjEhIOPG13Uq847iom6QdtTXHk1G/oWDNUNvNPO4IXJMigMkrmI//kofrnyCGWql8i8HozNvt20g7O8L9ZeF99bozK4VV8Gs4LGGpRBbSFo9Nyh23FHpT364Cu+H6cBk7F06TIsX/odxvQQBmg5eiy8jHKz5kszg0d1Po766r5uwQt7NcVHu0FvFTdohf10nHlRhtjl4oareW53jJ63C5eavV6wBnlHJ+jn38iA+/rTDk3LoHAkykc/X9wnLcFyYXrneqG3UEhkXbHkktFdpLpIXR6mdtbNzRNzXtdETJdBidNoWAb7rEaCWAZfnPLTr9OTjwnX0ra+PCpy4vHLkV9w5WEFqoof4frZTZggFiu7Pmu0xceM7cF4OtslzZwmLkpYj2FOrZfB/quuizu6Ivw8Rbejm4jjuu+YMyiDDuMOIdewqEjeNppbv6QtA+MyuE1XBrP2Y5xBGdQeTTJ87jAE3FFrj7CM1b2fgfBbLIwVyzDPs6dm/VB20Y6xZs0Xk2WwBnlHxuu36TFiSdJ8UNosflCyccDM00UoiVkhfpjQPrfnyPnYdan56wXVeccwSTf/dB+IhcdMlUGJ02v8N5rf3stxfm4ncR1zwULNHetVyL72C47+fBWZ5WoUPUxE8Mbx4n7LFgNWJ4rzr/kyKBxVS9o8XH+62M51GaKMjrJLWz9MpZlpkThvpK8LbTHOSF9vmk6neWkPLINtGNNl8DXUuYfhN9ugDFY8R0GJsEKaU3qMyuChJ43KYNW9HeLRqsaDtvBz3ala3XeWmSyDwiBdkIqzW+fAq/cATFx7FEHzxO8jbMMy2Oh9egYgMS0DaekNyXgi3HVtznxpZvBQ3ccO8RO5wnYs9us+nanuY6fudJTtGAQ9qoa6IAE7xvUQ37+4/Dp7YedN7WmUxlHjXsAI8bkKjNmjGwBMlUHhucMbnrv9RqNpTUvPxOOXzZ+WlbQ8TO6sm5kn5ryuiZgugxKnUXIZFL6CqbXlUY2ClLPY5j8affuPx/ojQVjQRzwNJO5ozNkejKezXdJMGaypfozDk/wNymAlCgpKNfNF+o7OqAz6Hm44aiPEjG3D9PolpPVl8NllsNH79EJAYnrjdSsjT3PXtVnzxWQZbLwON4yJjbd1zVeCVRciPsAXruL71y4/F4wJSDL5xdGN1jfPQP2HEpNlUOL0Gv+N5rd3g3lq44g5YeK4rC5Eyplt+G6UGwb5rsPRffPF75KUWgaFrxy6gU3uwqlQ7eli7elvw/ckZf0wlWamReK8MWdd+Pxxxoz1psl0mpf2wDLYhmmuDNaoMnAhIlVzB6Vwd1PCOh+sjBIGf3NKT8tlUJ1/HFN031vluVd/OqEqdZt4CkCGzjNCNNcvmCqDZXcPY7qrQnPN38T96ah4pULyxob31lZlUP34MCboLpwesB43TZ4uMGe+NDN4VD/F8Yn2+sFjn+50rOpX/OguDiqOMxFS9Bpq4XU0A+RmzBzUSf9p0XnicRPvrRqP9KfEFRgV8FuLRwYfHxqvv6lk8LokyV/HInl5mNxZNzNPzHldEzFdBiVOozllsMXlUYG7h6ZpLsZXdhqPg2lVqKm6hU361xaPDJqxPTR5r+2R5srgKzXSL5xDijh2lCSsh+/yaM3YYc6OrsUyaMa2YXr9krYMPrsMVj/BYV+xcNgOxIabjT/U6GLWfDFZBmuQf2ySftsdEyhcqqJdFqlbh4jbuhNmBxejplp4HW1J2DJ9MLrojhLaT8JxE9fbqh41nBK3H7ED91s8Mihtepumue3d8Lq/AVh/Q4Wa8ns4MlW48U2Orr4HkFb5GpXJm+Auzj+pZVBdGId1Y/vqS7Gd63yc09+kInX9MJVmpkXivDFnXfj8ccaM9cbEezUn7YFlsA3TbBk0SHHyNng6j8fhx217ZLBG/RD7x2qvcWi4lu81Kq42XBw89bj2d5qUwepn+HmqbtAYiwOamziaKQmfWQZrqlKxTbfD0VxHZFA+VDlITBDuaDVnvhgNHkkqzX+EeVFUicwgH+2GavgN+pXX9BcBu0w+gceVqQiYuQk3dINTVR6i141CZ+E9D9/RZPlp5un11eInaTl6LooSd2avURI8s+k1gykN5UOzXAwGwarsRCSYurPOnOVhcmfdzDx5/kT665pIozK4IRmVwn/TeFGMUinTKLUMqlpeHuqnP2O6k256xZ1ok0HavO3BeDrbJc2WQYO8vIUfPTrpt3VzdnSNTxMblUHhGl8p24bwOybWL8nL4HPL4CsVUvQ7VQWGbU4Rp1mIGtnXr2vufjVrvjQqgxuRVPUa6pdFKEzbj3GacqbA0M0N135d099cNQUnHlch5cdZ2HRDt42o8Dh6PTwdhfc8Ajvvm/h2gMpErBGPJim7LsZlzbVuwpG1EMxq8qXT0qa3yd8w3t4NCtQRsUDZ9VqJuLIa5J+aptmWGo1R5pZBdS7OzpuMTdfykLhxqLj92qLvwkjN1yBJXz9MpZmxq6hc0ryRvC600TijypSy3jT9kGBu2gPLYBvmxekZ6KRZWYVP1rMRanjdj7oYD8LXwquTHHZ914obQxXifxDvQJX3wvdx2kFG/fQ4JotHzxx8j4gDufApZKL+CIzurk3Dv6+53kgYYIRrjjQXTDfc2NHJIwC3NBcv16DghO6uZAU8d2VAJdzAMUosaDIXTPwpDomRuzG7j7gByXthxcV8PBd+vzwSCzuLBW/ABs1gKvydjEDthdUKG3vMPCN+n1PFZSzp0rQ4Zp+ajh5iae48ZDGORCUj+WowAmZOxrroQqjNmi8GZcbGGeO3X0Doljn4IfQp1MXXscFdOALijJmnhdc1uHjdYRQCbpVrBoVtQ3tixknha22081F7itEWfZbHNVnGmqh+w14vJ+2g0PM7zd3E6hdJ2Omt+9dFCrivu6G9jkidi5+ndRV/7oThi44gOukWrp0NgP+ktYg29U32ZiwPdcFJ+OmOtHrsRpq4UzE5T4JvYLfE123ynhrtNGRw8QnAhZCtmLsyDPlVEqaxMgGr3cRTLK4rxTv6DNdpJSYeztOUwZaWhyp9D7zE96DsPB67Ym/g4q6ZGCAWFjvX5biUV6SZ99K2h6+UF2cw00H7noV55h9i+B1o1Sh6EIF1ozpDKe+HdWJBr4hfJd6Bagu3FVe0O7rqZzg+QTxiohiPI0/Eox4G24r+rn3Dvy9l29CcSmu6fklfBhW4MM9FLHgDsVE8mqPK2Isx4u87Tdd+/6pQPi4tFNchw+KY8zNmimOIwnEolhyORlLyNQRvnwW/NTGam8jMmS+GO3SF0zgEnA/FNv/vEZZfhIR1QzQFWf/NB+pHCPISnusIz+23UfpKjZStw9B76qmGr3kRT19q7lI1uT6pcT/QW1vAdKdTq4uQFDBG/M5OGewHrkei+LtSprfp3zAoULIeWHZZXHbPTmOmUGhk3TD9pHCqshrpu0eL44Ic3Xx3IS7xIvbM6KsvdG7LLiHvhfD7ZQifrR3jGm7oEf5WCZICxsJzXaL2tHhpItbp5qfcDUsvFqJS8vphPB1Cmhm7Qp+iUsK8kbwutNk4I9wT0Np6YzyN5qc9sAy2RSpScWrVHHh2FzcKTRToNXIq5s2bB/+p4zHa1VHcWcrgPPUMngs7pvBVGKO/o1CObh6rceHhPfzsP1B7x6cQh8GYc/QW8q7vxfR+4qkdYQDp7o1lgXFG/1tTjZzLWzHZzRn9p27DkUObMNnVGYOm7sSVfO0nu/KUI5hp+DpuUxB0sxg5IfP1K7rCtgtGzjuEuLOL0UezQcjReegKnM+4jWP+Q+Ciu2Pa1hUTdyUiP+kgZvQTC4Xw3CGLEfIgA+dXeelLn8LWDVMCrmjfZ/VzJB+aj2Ga78HSPu7YfQzWn89GpVnzJUVzVKHy/gFM7KItGgrbbhi7KRb54qBZlROFbRP6wKXPNGw7dBibJvSCS/9p+OnKU+0hfVUqfhzZG0NHjMKUpduwb98OLPd0hZvPFsQIXxljvKzFVOVcxkbxex7tnXugzwA/7PhxFnra2qGr6yB4+szC+rBMzUCjLryFI/PcG+abjR16ea/DhSzTpzqEMiB1eRyZ3l88Gik8rw+m7kvSvIbpeSLxdXOaufut6jcc9O0qnk5RoKfXZsSKp4ZanEb1Q4T/4NVwp72sCzxXXUDm3Z8xd4D4NRVCQRvkj2NJN1teHupchMzT7bxksHcZjoUHryB4kfY7H4WvMBmx/Lx4pKX17aH9U4mUk6sx16PxtUr23T0wbc58zJ81DRNH9kIn/bcSTNPcyKHKjMBqT/FGH82Zh1FYc/4R7p6aA3fxdKOw8xky+xiS8xOxb6rhetEDY5fsRdyTxtPc6rZRkWp6/ZK0DEJx6fAcg21cgd6+u5GYn4yDU/vrf1fpNBRLgtOQfm41xuh29DYK9J20A3Ga7a8GBcmHsXCws37aFcoe8Fl7AVlV5s2X25qjcirc3z8ePcTTu/ZdvbElRvh6FGEsyMXlLRPRz6kvpm89jMMbJ8LNaQBm7LiKfHF9Stnqgb6DR8Jz4jJsCwzCzqVe6O06DltjjK+ZM4gqF5fWe6G78DdtO6GX60BMC9gO/64KOHbqBXePcfBfF44MTcFseXqbvLYmVYhbMQCDZ+zCmWOrMcV3AXYG7cb33t3gICybIyn6f0qgygnFAt2HPxsFug2bj0NxwVgiXDqiWR7DsPJcJpIPzYK7o8HymLgXN5/expG5w9FVZgs33zUI+a0Kj6N2wK9Pw37Procfjt/PkrB+6LbRpjE9drU+b8xaF162Mu5LWsfFaWh1vfn8tAeWwY4YdTGyUq4jLi4Rv+ZoLz5v8hwTKclJRXxsIu4+KRd/R4Wn968j/nZu42+Ab6OoSp/iwc14xN9MQ76JU+rmRPUyF3eSknAnx/C/CehSjaKsVCTEXsH1X3ONvkG+BFnpTzTXZFW8yELq9etIeiDxXw5Vl+Px3URcu35P858b1C9ykVXQ3GnWapTkpyHpWjySHjwTrx9tOZ+7PJqbJ5/1usJ/XbmTjKQ7pp5r/jQ2jZTlUYaclHjEaea77ohPAe4nJOC2qeX/D7cH60hL20ZLMXMZfG7UZch/kIT4a0l48NTEKXWzIvw3kLtIunkXOY3+g442qqJspCTEIe76HWRrbvRreKw4KwOPhbGqsgiPUhORkJSG/Nb+e48mNSh9cg+JV7XbXU11EXKyCg1OdRrFrOmtwYvcx/qbS1TFWbh1JQ7xSel4ampcLc1FyrU4XL+bh1Lxdyqf/YaE+BRkm5gf/yyft340N3ZpYta8aS5tP860tN58btoDyyDDMAzDMIyFpj2wDDIMwzAMw1ho2gPLIMMwDMMwjIWmPbAMMgzDMAzDWGjaA8sgwzAMwzCMhaY9sAwyDMMwDMNYaNoDyyDDMAzDMIyFpj2wDDIMwzAMw1ho2gPLIMMwDMMwjIWmPbAMMgzDMAzDWGjaA8sgwzAMwzCMhaY96MvgixcvcOb0GYZhGIZhGMZC0h70ZfDX1FT4jvVhGIZhGIZhLCDjfXwat7YvRF8GiYiIiMj6sAwSERERWTGWQSIiIiIrxjJIREREZMVYBomIiIisGMsgERERkRVjGSQiIiKyYiyDRERERFaMZZAIQF11FhKioxET1ZDYKxmoqtM/A6qMq4jVPx6D1MK/Gr8IEZFJdfi9UoV3xj8mshAsg0SCur9RnrIPfl3lUNjI4Oh7FIVvP6Le8Cnv/0D2Pm84OI7AmvB0VPxl+CgRkWn1b+Kxot8EnCrWf7oksigsg0R69XiTvA5DFTIoXWbhfIXRwF1XirDpQ7DwYgU4pBORNLUoPOwNJxtbDFibAp5PIEvEMkjUyF9IDxgORxs5XP3Po9LgNHFV5Dx4Lr2KVzwgSERSvb2JNWNmYb6XI5SOk3GmhB8lyfKYUQbfoezOeRzfvxd7fwrC6Wt5+JPrNHVE7x5iz0h7KGTdMfe89ihg/as4LPNciitsgkQkWR2KT0zF9JPF+DN5NfrJbTFo4138bfw0oq9MYhn8Cxl7vNBr8kkUva/Hp9c3sW6AM7yDcvHR+KlEHcD7rEB428ug7DobkeWvkfi9N5bGqBtdQ0hE1KK/UrDRZzWS3gpni4twYpwDlM5TEdZwyoHIIkgrgx/vY3MfBbouScAHzQ/e4eoCJziMOoCCWuMnE3UE75Eb5I1ONnJ0HzoSYxdGQ83xm4gkq0PZ6RmYergAut3k2xs/oK9cgaFb0/De6NlEX5O0Moha/J6fgYI/tKv0u8r7CPSxh/3A7Xj4yfi5RB3E+3RsH6SAQjEKB/L5qYeIzPDuPrb5LEf8G4PzCbWFOOZtD2XnWTiv4nkGshwSy6DgE149vIBDu/fj7JUHCPmuE+wH/IhMlkHqqOqKcMxbCYXCByf4lRBEJFkdqsJmY1LQEzTeRdbjz4TlcJMpMHzHQ/FMG9HXJ60M1r/Bvd3j4O53Avmab838gITFLIPUwbEMEtE/8SEDO8ctQuzvJo7+1RbgsKc9lC5zcYk3pJGFkFQGP+UGwsPWHnMi/yX+5APiFzqzDFLHVluEY17aMnicZZCIJKlHdeQ8TNiV1cwNlvX48+pS9JIp4bE7p5nnELUvSWXwY+o69JHZYuCqm/ijvg5vC6Kx2l0JO9c1SHn/Hu/eA3UlMdjg54cNUSX8Ql7qGD7lInCYcM3gCAQ94TWDRCTBx2wE+s7DRXULR/0+5eHAaDsouy4wffSQqJ1JKoP4OwuHx3eDvY0CXfuPwaJ9N3Hv2ER0tlHC1XMjEqrq8PHOBs13KPVdm8LrIOgbV4eyOxE4uc0P/eQyKGxs0c/vR5yKSMVLfownombV4/foBeipsEMnRyd0biFOCuFfXyrh1eS6QqL2J60MEhEREVGHxDJIREREZMVYBomIiIisGMsgERERkRVjGSQiIiKyYiyDRERERFaMZZCIiIjIirEMEhEREVkxlkEiIiIiK8YySERERGTFWAaJiIiIrBjLIBEREZEVYxkkIiIismIsg0RERERWjGWQiIiIyIpJKoOf3jzH3UtHEbDzMopqjR8l6rjqfq+E6p3xT4mITKlDdVY8YqOiEWOQq+lVqNM/RYXMKwaPx6Tg+b/rG78MUTtrvQzWVePhpb2Y09sW9u47kPXJ+AlEHVT9GyQs7Y9JJ4obBnIiohbU/V2O1H2T0VMmg8LGDpOOFuDtR8OyV4f3f2Rjv5cSnYevxrm0CvyHXZC+stbLoMafiJxhzzJIVqW24DB87GSw67MWqf82fpSIqBn1f+DW2sFwsJGj+8xzqDD6NFlXGopZ7vNxyfgBoq9Echm8OJNlkKzJWyStGos5c73RSeYEv19KeHSQiKT7Kw07h9lBIeuOuecrDU4TV+Hid6Ow4sor8IAgWQrzy+C/K/Hb+UPYvf0nHL/0EK9YDqkDqis+iel+J1H8ZzLW9raFXf9NuPu38bOIiJr37uFujLaXQdnNH5Gao4D1eBW3BGOWxOEVmyBZELPKoF3faVgyeyJmL1qKuZ6ucLBRou/c8yjhTSXUofyF1HXjsObGW+FkMYqOjYOzrBOmhxh8uiciatV7ZAeOhrONHD1nn0f56+tY7bUYsWo2QbIsZpVBRedpCCsVDwXWViFmQS/Yybpj2dV/Gf8C0TerrvQMZk0+jELdh5y3N7G6ly3sB21D+nujJxMRteR9Lg54OUIh64IRI7ywJErFD5Vkccwqg8bXDH56GIChtnL0XHETHwyfTvTNeofftozDyqtvDK7nqcXzI2PgJHOBf4SK1/kQkVnep23DUFsZHDz24ynPpJEF+qwyiPfXsMRJBsdpEfiDe0jqAOqqwjBnfBDyjK6Frf8zAStd5bAfsgOP+MmHiMxQV3QEPgoZHMYex0seFiQL9Hll8L+3sLaHLY8MUgfxAZkB47Ak+ncTR/9qUXDQC06yLph3kXcBEpF0LINk6T6rDNb/cR6z7XtgxTVeM0jfvvrqSCwYtxvZ/zV+RKv+zTUs7yGHw7A9yPlo/CgRkWm1+jJ4jGWQLJJ5ZXDgdmTqy2AtXv4yBYNmhKJYuAairgSxa/0wfW00Sriy0zfnI7J3+2LBBXULR/0+IT9oNBxl3bAoxtTRQyKipj7l7MFI4ZrB4XuRx2sGyQJJLIO1KI3bhMn93TDKfzMOnjiBgz9+jxVbziNf9z8V/3sXm4TvY+u1Fqk8Z0zfmPrfo7GoqxKODk7o7NhC7JVQ2sjgMKrpdYVERI3UleJu+AkE+LnBzkYGhdwN07edxPnUl+DJBbIkEsugzke8rXqBwhcVePO+6eG/2rcqqN/yYw8RERHRt8LMMkhEREREHQnLIBEREZEVYxkkIiIismIsg0RERERWjGWQiIiIyIqxDBIRERFZMZZBIiIiIivGMkhERERkxVgGiYiIiKwYyyARERGRFWMZJCIiIrJiLINEREREVoxlkIiIiMiKsQwSERERWTGWQSIiIiIrxjJIJKj7G+Up++DXVQ6FjQyOvkdR+PYj6g2f8v4PZO/zhoPjCKwJT0fFX4aPEhEJQ0k5UvdNRk+ZDAobO0w6WoC3HxuNJHj/Rzb2eynRefhqnEurwH84lNBXxjJIpFePN8nrMFQhg9JlFs5X1DV+uK4UYdOHYOHFChg9QkTUoP4P3Fo7GA42cnSfeQ5Nh5JQzHKfj0vGDxB9JSyDRI38hfSA4XC0kcPV/zwq9WN1Haoi58Fz6VW84qd4ImrNX2nYOcwOCll3zD1f2fABsq4KF78bhRVXXjU680D0NZlXBt+XIy36LA7t+gkHfonBQ9VH42cQffvePcSekfbiIK49Clj/Kg7LPJfiCpsgEUn07uFujLaXQdnNH5Gao4D1eBW3BGOWxPFDJVkUyWXwXV4YVs5YjtNpanz49Arxy91g7zIFZ57XGj+V6Jv3PisQ3sIg3nU2IstfI/F7byyNUfOTPBGZ4T2yA0fD2UaOnrPPo/z1daz2WoxYNUcSsizSyuC7NAQM7Y8fEt/od4YfMnZihL0LFlz+gztI6oDeIzfIG52Ea36GjsTYhdFQ8/IeIjLX+1wc8HKEQtYFI0Z4YUmUitcck8WRVAb/k7AMPTsvQvy7xj//+O+/wBPF1GG9T8f2QQooFKNwIJ9HwInon3mftg1DbWVw8NiPpxxKyAJJKIO1eBY0Go49VyPlv8aPEXVgdUU45q2EQuGDE8X8LE9E/0xd0RH4KGRwGHscLzmUkAWSVAbzgzzgoJyM4CqeECYrwjJIRG2AZZAsnYQyCPx1ZTG6yewwetcjGJ4prn+bgahrz8Gj3tQh1RbhmJe2DB5nGSSif6hWXwaPsQySRZJUBvH3AwS4K6GQd8P4jcG4mZaFjBtnsXlhAG7+rj1aWFcSgw1+ftgQVcKLY6lj+JSLwGHCNYMjEPSEH3mI6J/5lLMHI4VrBofvRR6HErJA0sqgcPdw8VVsH+8KBxvhX+wo0ctrLaKef9A//vHOBvST26Lv2hQ0/JToW1SHsjsROLnND/3kwvpui35+P+JURCpe8o4pIpKqrhR3w08gwM8NdsK+U+6G6dtO4nzqS958SRZFchnUqsV/1C9RXPXWxIpci7cqFd7yUw8RERHRN8PMMkhEREREHQnLIBEREZEVYxkkIiIismIsg0RERERWjGWQiIiIyIqxDBIRERFZMZZBIiIiIivGMkhERERkxVgGiYiIiKwYyyARERGRFWMZJCIiIrJiLINEREREVoxlkIiIiMiKsQwSERERWTGWQSIiIiIr9o/L4Kc/i/Bb9Ens3BKGJ5+MHyXqIOp+R2XVO+OfEhGZoQ6/V6rAkYQs1T8rg3WvkBV9CIv6K6B0XYtf/2v8BKKOoB5/XluGgeNPorjO+DEiImnq38RjRb8JOMWBhCzUPyuDGh9wdYED7FgGqaOqLcBRL3so5H2xPuUv40eJiCSoReFhbzjZ2GLA2hRwJCFL9Jll0JFlkDqstzdWY9ys7+DjIEfnSadRyg/1RGSutzexZswszPdyhNJxMs6UcCAhy2NWGaz/1wv8eukk9u85iJCbT3CRZZA6qrpinPKbip+L/8St1W6wk/fH5jt/Gz+LiKgFdSg+MRXTTxbjz+TV6Ce3xaCNd8GRhCyN5DL48XkEFo2egj3J5Xj36d8ouLgaHs5yXjNIHdJ/UtZj/KqbeCuc5Ck6jgn2cnTxC0ElP9QTkVR/pWCjz2okaQcSnBjnAKXzVIRxICELI60MfsrDIS8XjNn/DPobh+uqcHaiHcsgdTx1pTg7fQqOFtSKP3iLpO97w852MLanvTd6MhGRKXUoOz0DUw8XQD+S3PgBfeUKDN2aBo4kZEkklcEPqevQTzEEu7MNv0OG1wxSx/Tu/haMX34Nf9Y3/Ky28Ah87OToOvMc1AY/JyIy6d19bPNZjvg3jQYSHPO2h7LzLJxXcSAhyyGhDNah+OgYOCi8caxI9/lGwDJIHVBdFcJnT8AB4y/PrP8T15e7Qmk7FD89/ND4MSKiRupQFTYbk4KeNJxN06jHnwnL4SZTYPiOh+BIQpZCehmUD0RA+keDn7MMUsfzISMAExZG43cTH9prnx3CWDs5us+5iFcmHici0viQgZ3jFiHW5EBSgMOe9lC6zMUlDiRkISSUQeA/8UvRXaaEx64cNNRBlkHqYOqrcfG7cdiTZfihx0D9G8Qv6QmlYjgCs5t5DhFZuXpUR87DhF1ZBvtLQ/X48+pS9BL2qbsN96lEX4+kMoh/p2JDPwWULr4IevAHhM8y9W/uYLO7AgqnaThd+Abva4G6khhs8PPDhqgS8F4p+tZ8zN6Did9dQHULH9Y/5e2Ht1KOngtiTB49JCIr9zEbgb7zcLGli4s/5eHAaDsouy4wffSQqJ1JK4PCHfI5IfjeszscbJ3gNng0xs8LxBY/F/TymI1NRxNQ+O96fLyzQfM9Sn3XpvBaCPq21P+O2AXd4KB0RGdHpxZiDweZDArF6KbXFRKRlavH79EL0FNhh05Nxo7GcVLIobBRwqvJdYVE7U9yGdR6j9+LC1BU9RYfUY///Out0Upci7cqFd4a3mdCRERERBbLzDJIRERERB0JyyARERGRFWMZJCIiIrJiLINEREREVoxlkIiIiMiKsQwSERERWTGWQSIiIiIrxjJIREREZMVYBomIiIisGMsgERERkRXTl8Hq6mokJyUzDMMwDMMwFpBbycmNW9sXoi+DsTExUNjIGIZhGIZhGAtJe2AZZBiGYRiGsdC0B30Z/L//+z/87//+L8MwDMMwDGMBqa2tbdzavhDeQEJERERkxVgGiYiIiKwYyyARERGRFWMZJCIiIrJiLINEREREVoxlkIiIiMiKsQwSERERWTGWQSIiIiIrxjJIREREZMVYBomIiIisGMsgERERkRVjGSQiIiKyYv8PramtZNU0esYAAAAASUVORK5CYII=)"
      ],
      "metadata": {
        "id": "6W4p3mQqe9oH"
      }
    },
    {
      "cell_type": "code",
      "source": [
        "#xcodigo aqui"
      ],
      "metadata": {
        "id": "RF0IAV-2fE4y"
      },
      "execution_count": null,
      "outputs": []
    },
    {
      "cell_type": "markdown",
      "source": [
        "# Exercicio 2.35\n",
        "\n",
        "Três transformadores monofásicos de 75 MVA com especificações nominais\n",
        "de 39,8 kV:133 kV devem ser conectados em um banco trifásico. Cada transformador tem uma impedância em série de (0,97 + j11,3) ohm \t referida a seu enrolamento de 133 kV.\n",
        "\n",
        "\n",
        "a. Se os transformadores forem conectados em Y-Y, calcule (i) a tensão e potência nominais da conexão trifásica, (ii) a impedância equivalente referida\n",
        "a seus terminais de baixa tensão e (iii) a impedância equivalente referida\n",
        "aos seus terminais de alta tensão.\n",
        "\n",
        "\n",
        "b. Repita a parte (a) se o transformador for conectado em Y no seu lado de\n",
        "baixa tensão e em no seu lado de alta tensão."
      ],
      "metadata": {
        "id": "wUNDpRGKfGuk"
      }
    },
    {
      "cell_type": "code",
      "source": [
        "#codigo aqui"
      ],
      "metadata": {
        "id": "EU75SK-lfOzY"
      },
      "execution_count": null,
      "outputs": []
    },
    {
      "cell_type": "markdown",
      "source": [
        "# Exercicio 2.36\n",
        "\n",
        "Repita os cálculos do Problema 2.35 para três transformadores de 225 kVA,\n",
        "277 V:7,97 kV cujas impedâncias em série são 3,1 + j21,5 Ωm\t referidas a\n",
        "seus enrolamentos de baixa tensão"
      ],
      "metadata": {
        "id": "YiX5omAFfQg1"
      }
    },
    {
      "cell_type": "code",
      "source": [
        "#codigo aqui"
      ],
      "metadata": {
        "id": "YgeZNJdRfWqF"
      },
      "execution_count": null,
      "outputs": []
    },
    {
      "cell_type": "markdown",
      "source": [
        "# Exercicio 2.37\n",
        "\n",
        "Repita o Exemplo 2.8 com uma carga que consome a corrente nominal dos\n",
        "transformadores com um fator de potência unitário.\n"
      ],
      "metadata": {
        "id": "FnwTZCo7fXy5"
      }
    },
    {
      "cell_type": "code",
      "source": [
        "#codigo aqui"
      ],
      "metadata": {
        "id": "P4JlVwTrfa8f"
      },
      "execution_count": null,
      "outputs": []
    },
    {
      "cell_type": "markdown",
      "source": [
        "# Exercicio 2.38\n",
        "\n",
        "Um transformador trifásico Y-Y tem especificações nominais de 25 MVA,\n",
        "13,8 kV:69 kV e uma impedância em série equivalente de 62 + j388 Ωm\t,\n",
        "referida ao enrolamento de baixa tensão.\n",
        "\n",
        "\n",
        "a. Um curto-circuito trifásico é aplicado no enrolamento de baixa tensão.\n",
        "Calcule qual deve ser a tensão aplicada ao enrolamento de alta tensão para\n",
        "que resulte a corrente nominal no curto-circuito.\n",
        "\n",
        "\n",
        "b. O curto-circuito é removido e uma carga trifásica é conectada ao enrolamento de baixa tensão. Com a tensão nominal aplicada ao enrolamento de\n",
        "alta tensão, observa-se que a potência de entrada do transformador é 18\n",
        "MW com um fator de potência 0,75 atrasado. Calcule a tensão de linha de\n",
        "terminal na carga."
      ],
      "metadata": {
        "id": "1-ackMiJfb-J"
      }
    },
    {
      "cell_type": "code",
      "source": [
        "#codigo aqui"
      ],
      "metadata": {
        "id": "b1lOW-2yfmxX"
      },
      "execution_count": null,
      "outputs": []
    },
    {
      "cell_type": "markdown",
      "source": [
        "# Exercicio 2.39\n",
        "\n",
        "Um transformador trifásico Y-Delta tem especificações nominais de 225 kV:24 kV\n",
        "e 400 MVA e uma reatância equivalente em série monofásica de 6,08 \t, referida a seus terminais de alta tensão. O transformador está abastecendo uma carga\n",
        "de 375 MVA com um fator de potência de 0,89 adiantado e uma tensão de 24\n",
        "kV (de linha) no lado de baixa tensão. O transformador é abastecido por um\n",
        "alimentador, cuja impedância é 0,17 + j2,2 Ω \t, conectado a seus terminais de\n",
        "alta tensão. Nessas condições, calcule (a) a tensão de linha nos terminais de alta\n",
        "tensão do transformador e (b) a tensão de linha no lado de envio do alimentador"
      ],
      "metadata": {
        "id": "l42BaLZffozv"
      }
    },
    {
      "cell_type": "code",
      "source": [
        "#Codigo aqui"
      ],
      "metadata": {
        "id": "DYlfTMZHfwW8"
      },
      "execution_count": null,
      "outputs": []
    },
    {
      "cell_type": "markdown",
      "source": [
        "# Exercicio 2.40\n",
        "\n",
        "Suponha que a potência aparente da carga do sistema do Problema 2.39 mantenha-se constante em 375 MVA. Escreva um script de MATLAB para calcular a tensão de linha, que deve ser aplicada no lado de envio do alimentador\n",
        "para manter a tensão da carga com 24 kV de linha, em função do fator de potência da carga. Plote a tensão no lado de envio em função do ângulo do fator\n",
        "de potência com o fator de potência variando de 0,3 atrasado, passando pela\n",
        "unidade e chegando a 0,3 adiantado."
      ],
      "metadata": {
        "id": "zcUE0-0OfxV7"
      }
    },
    {
      "cell_type": "code",
      "source": [
        "#codigo aqui"
      ],
      "metadata": {
        "id": "7mOtxTJWf2kh"
      },
      "execution_count": null,
      "outputs": []
    },
    {
      "cell_type": "markdown",
      "source": [
        "# Exercicio 2.41\n",
        "\n",
        "Um banco, conectado em Delta-Y, de três transformadores idênticos de 150 kVA,\n",
        "2400 V:120 V e 60 Hz é abastecido em seus terminais de alta tensão a partir de\n",
        "um alimentador cuja impedância é 6,4 + j154 Ωm\t por fase. A tensão no lado\n",
        "de envio do alimentador é mantida constante em 2400 V de linha. Os resultados de um ensaio monofásico de curto-circuito em um dos transformadores,\n",
        "com seus terminais de baixa tensão curto-circuitados,\n",
        "\n",
        "são\n",
        "VA = 131 V IA = 62,5 A P = 1335 W\n",
        "\n",
        "\n",
        "a. Calcule a impedância em série desse banco trifásico de transformadores,\n",
        "quando referida a seus terminais de alta tensão.\n",
        "\n",
        "b. Determine a tensão de linha fornecida ao alimentador quando o banco de\n",
        "transformadores está fornecendo a corrente nominal com tensão nominal\n",
        "a uma carga trifásica equilibrada com fator de potência unitário em seus\n",
        "terminais de baixa tensão."
      ],
      "metadata": {
        "id": "JznoWUx5f3q-"
      }
    },
    {
      "cell_type": "code",
      "source": [
        "#Codigo aqui"
      ],
      "metadata": {
        "id": "MPC0OIeAgUDh"
      },
      "execution_count": null,
      "outputs": []
    },
    {
      "cell_type": "markdown",
      "source": [
        "# Exercicio 2.42\n",
        "\n",
        "Um transformador de potencial de 13,8 kV:120 V e 60 Hz tem os seguintes\n",
        "parâmetros, vistos do enrolamento de alta tensão (primário):\n",
        "\n",
        "![Screenshot_1797.png](data:image/png;base64,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)\n",
        "\n",
        "\n",
        "a. Supondo que o secundário esteja em aberto e que o primário esteja conectado a uma fonte de 13,8 kV, calcule o valor e o ângulo de fase (em relação\n",
        "à fonte de alta tensão) da tensão nos terminais do secundário.\n",
        "\n",
        "\n",
        "b. Calcule o valor e o ângulo de fase da tensão do secundário se uma carga\n",
        "resistiva de 750 Ω \t for conectada aos terminais do secundário.\n",
        "\n",
        "\n",
        "c. Repita a parte (b) se a carga (burden) for trocada por uma reatância de 750 Ω\t."
      ],
      "metadata": {
        "id": "FkGpRNtdgVIf"
      }
    },
    {
      "cell_type": "code",
      "source": [
        "#Codigo aqui"
      ],
      "metadata": {
        "id": "OItv2mTlgiGp"
      },
      "execution_count": null,
      "outputs": []
    },
    {
      "cell_type": "markdown",
      "source": [
        "# Exercicio 2.43\n",
        "\n",
        "Para o transformador de potencial do Problema 2.42, encontre a carga reativa\n",
        "máxima (reatância mínima) que pode ser aplicada aos terminais do secundário, de modo tal que o erro no valor da tensão não exceda 0,75%."
      ],
      "metadata": {
        "id": "_narWGvbgjJY"
      }
    },
    {
      "cell_type": "code",
      "source": [
        "#Codigo aqui"
      ],
      "metadata": {
        "id": "SLr9bzH8gmRD"
      },
      "execution_count": null,
      "outputs": []
    },
    {
      "cell_type": "markdown",
      "source": [
        "# Exercicio 2.44\n",
        "\n",
        "Considere que o transformador de potencial do Problema 2.42 esteja conectado a uma fonte de 13,8 kV.\n",
        "\n",
        "a. Use MATLAB para plotar o erro percentual no valor da tensão em função\n",
        "do valor da impedância de carga (i) para uma carga resistiva de 100 Ω\t ≤\n",
        "Rb ≤ 2000 Ω\t e (ii) para uma carga reativa de 100 Ω\t ≤ Xb ≤ 2000 Ω\t. Plote\n",
        "essas curvas no mesmo eixo.\n",
        "\n",
        "\n",
        "b. A seguir, plote o erro de fase, em graus, em função do valor da impedância\n",
        "de carga (i) para uma carga resistiva de 100 \tΩ ≤ Rb ≤ 2000 Ω\t e (ii) para\n",
        "uma carga reativa de 100 \tΩ ≤ Xb ≤ 2000 Ω\t. Novamente, plote essas curvas no mesmo eixo."
      ],
      "metadata": {
        "id": "ARjaheVkgnQ-"
      }
    },
    {
      "cell_type": "code",
      "source": [
        "#codigo aqui"
      ],
      "metadata": {
        "id": "CbpTiUhHgwuO"
      },
      "execution_count": null,
      "outputs": []
    },
    {
      "cell_type": "markdown",
      "source": [
        "# Exercicio 2.45\n",
        "\n",
        "Um transformador de corrente de 150 A:5 A e 60 Hz tem os seguintes parâmetros vistos do enrolamento de 150 A (primário):\n",
        "\n",
        "\n",
        "![Screenshot_1798.png](data:image/png;base64,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)\n",
        "\n",
        "a. Supondo uma corrente de 150 A no primário e que o secundário seja curto-\n",
        "-circuitado, encontre o valor e o ângulo de fase da corrente do secundário.\n",
        "\n",
        "\n",
        "b. Repita os cálculos da parte (a) se o TC for curto-circuitado através de uma\n",
        "carga de 0,1 mΩ\t.\n",
        "\n"
      ],
      "metadata": {
        "id": "B6Pn2qPbgxn9"
      }
    },
    {
      "cell_type": "code",
      "source": [
        "#Codigo aqui"
      ],
      "metadata": {
        "id": "COuchihXg9PU"
      },
      "execution_count": null,
      "outputs": []
    },
    {
      "cell_type": "markdown",
      "source": [
        "# Exercicio 2.46\n",
        "\n",
        "Considere o transformador de corrente do Problema 2.45.\n",
        "a. Use MATLAB para plotar o erro percentual no valor da corrente em função do valor da impedância de carga (i) para uma carga resistiva de 50 μΩ\n",
        "≤ Rb ≤ 200 μΩ\t e (ii) para uma carga reativa de 50 μΩ\t ≤ Xb ≤ 200 μΩ\t.\n",
        "Plote essas curvas no mesmo eixo.\n",
        "\n",
        "\n",
        "b. A seguir, plote o erro de fase, em graus, em função do valor da impedância\n",
        "de carga (i) para uma carga resistiva de 50 μΩ\t ≤ Rb ≤ 200 μΩ\t e (ii) para\n",
        "uma carga reativa de 50 μΩ\t ≤ Xb ≤ 200 μΩ\t. Novamente, plote essas curvas no mesmo eixo."
      ],
      "metadata": {
        "id": "9uDn8MgMg-2f"
      }
    },
    {
      "cell_type": "code",
      "source": [
        "#Exercicio"
      ],
      "metadata": {
        "id": "EylOmTyFhIXL"
      },
      "execution_count": null,
      "outputs": []
    },
    {
      "cell_type": "markdown",
      "source": [
        "# Exercicio 2.47\n",
        "\n",
        "Um transformador monofásico de 15 kV:175 kV, 225 MVA e 60 Hz tem impedâncias de primário e secundário de 0,0029 + j0,023 por unidade cada. A\n",
        "impedância de magnetização é j172 por unidade. Todas as grandezas são por\n",
        "unidade na base do transformador. Calcule as resistências e as reatâncias do\n",
        "primário e do secundário, além da reatância de magnetização (referidas ao\n",
        "lado de baixa tensão) em ohms."
      ],
      "metadata": {
        "id": "pwrhoHBHhJff"
      }
    },
    {
      "cell_type": "code",
      "source": [
        "#codigo aqui"
      ],
      "metadata": {
        "id": "csN-z4ZrhZU7"
      },
      "execution_count": null,
      "outputs": []
    },
    {
      "cell_type": "markdown",
      "source": [
        "# Exercicio 2.48\n",
        "Calcule os parâmetros por unidade de um circuito equivalente L para o transformador do Problema 2.20."
      ],
      "metadata": {
        "id": "jE9vEB9shafs"
      }
    },
    {
      "cell_type": "code",
      "source": [
        "#a"
      ],
      "metadata": {
        "id": "L3R80jWFheJG"
      },
      "execution_count": null,
      "outputs": []
    },
    {
      "cell_type": "markdown",
      "source": [
        "# Exercicio 2.49\n",
        "\n",
        "Calcule os parâmetros por unidade de um circuito equivalente L para o transformador do Problema 2.23."
      ],
      "metadata": {
        "id": "VAC4xggihe_h"
      }
    },
    {
      "cell_type": "code",
      "source": [
        "#codigo aqui"
      ],
      "metadata": {
        "id": "gLx1SogGh5GA"
      },
      "execution_count": null,
      "outputs": []
    },
    {
      "cell_type": "markdown",
      "source": [
        "# Exercicio 2.50\n",
        "\n",
        "A placa de especificações de um transformador monofásico de 7,97 kV:266\n",
        "V e 25 kVA indica que ele tem uma reatância em série de 7,5% (0,075 por\n",
        "unidade).\n",
        "\n",
        "\n",
        "a. Calcule a reatância em série, em ohms, referida aos terminais (i) de baixa\n",
        "tensão e (ii) de alta tensão.\n",
        "\n",
        "\n",
        "b. Se três desses transformadores forem ligados em uma conexão trifásica\n",
        "Y-Y, calcule (i) os valores nominais trifásicos de tensão e potência, (ii) a\n",
        "impedância por unidade do banco de transformadores, (iii) a reatância em\n",
        "série, em ohms, referida aos terminais de alta tensão e (iv) a reatância em\n",
        "série, em ohms, referida aos terminais de baixa tensão.\n",
        "\n",
        "\n",
        "c. Repita a parte (b) se os três transformadores forem conectados em Y no seu\n",
        "lado de alta tensão e em\n",
        ", no de baixa tensão."
      ],
      "metadata": {
        "id": "6gEP5Kmnh68v"
      }
    },
    {
      "cell_type": "code",
      "source": [
        "#codigo aqui"
      ],
      "metadata": {
        "id": "ZYCYXLTKiBCh"
      },
      "execution_count": null,
      "outputs": []
    },
    {
      "cell_type": "markdown",
      "source": [
        "# Exercicio 2.51\n",
        "\n",
        "a. Considere a conexão em Y-Y do Problema 2.50, parte (b). Se a tensão de\n",
        "linha de 500 V for aplicada aos terminais de alta tensão e os três terminais de baixa tensão forem curto-circuitados, calcule o valor da corrente\n",
        "de fase por unidade, em ampères, nos lados de (i) alta tensão e (ii) baixa\n",
        "tensão.\n",
        "\n",
        "\n",
        "b. Repita esse cálculo para a conexão Y-\n",
        " do Problema 2.50, parte (c)."
      ],
      "metadata": {
        "id": "21Nt5qCJiC0F"
      }
    },
    {
      "cell_type": "code",
      "source": [
        "#codigo aqui"
      ],
      "metadata": {
        "id": "IHf7aq4biGcs"
      },
      "execution_count": null,
      "outputs": []
    },
    {
      "cell_type": "markdown",
      "source": [
        "# Exercicio 2.52\n",
        "\n",
        "Um transformador trifásico elevador, usado com um gerador, tem as especificações nominais de 26 kV:345 kV, 850 MVA e uma impedância em série de\n",
        "0,0025 + j0,057 por unidade, nessa base. Ele é conectado a um gerador de\n",
        "26 kV e 800 MVA, que pode ser representado como uma fonte de tensão em\n",
        "série com uma reatância de j1,28 por unidade, na base do gerador.\n",
        "\n",
        "\n",
        "a. Converta a reatância por unidade do gerador para a base do transformador\n",
        "elevador.\n",
        "\n",
        "\n",
        "b. A unidade está fornecendo 750 MW, em 345 kV, e um fator de potência de\n",
        "0,90 adiantado, ao sistema nos terminais de alta tensão do transformador.\n",
        "Desenhe um diagrama fasorial para essa situação, usando o lado de alta\n",
        "tensão do transformador como fasor de referência.\n",
        "\n",
        "\n",
        "c. Calcule a tensão de terminal do gerador e a tensão interna por trás de sua\n",
        "reatância em kV para as condições da parte (b). Encontre a potência de\n",
        "saída do gerador em MW e o fator de potência."
      ],
      "metadata": {
        "id": "WHYvThlqiH6D"
      }
    }
  ]
}